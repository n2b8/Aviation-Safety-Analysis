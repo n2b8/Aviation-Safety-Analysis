{
 "cells": [
  {
   "cell_type": "markdown",
   "id": "785aae35-035a-4d0c-8b1f-5cbfbe5b7400",
   "metadata": {},
   "source": [
    "# Aircraft Safety Analysis for Business Expansion\n",
    "\n",
    "<img src=\"images/Flight-Safety-Instructions.jpg\">\n",
    "\n",
    "## Introduction\n",
    "\n",
    "For my Flatiron School Phase 1 Project, I have been given the following prompt:\n",
    "\n",
    "Your company is expanding into new industries to diversify its portfolio. Specifically, the company is interested in purchasing and operating airplanes for both commercial and private enterprises. However, the potential risks associated with different aircraft types are unknown. As a data analyst, you have been tasked with determining which aircraft are the lowest risk for the company to start this new business endeavor. Your findings will be translated into actionable insights for the head of the new aviation division to help decide which aircraft to purchase.\n",
    "\n",
    "## Problem Statement\n",
    "\n",
    "I will aim to identify which aircraft models present the lowest risk in terms of safety. The key questions I'm seeking to answer include:\n",
    "- Which aircraft models have the lowest average injury scores?\n",
    "- How do factors such as the number of engines and the purpose of flight impact the safety of the aircraft?\n",
    "- Are there temporal trends in the occurrence of accidents or incidents?\n",
    "\n",
    "## Dataset\n",
    "\n",
    "The dataset contains records of aircraft incidents and accidents from the NTSB up to 2023, including information on the event, location, aircraft characteristics, and injury severity. The dataset has 90,348 entries and 31 columns. Some key columns include:\n",
    "- `Event.Id`: Unique identifier for each event.\n",
    "- `Event.Date`: Date of the event.\n",
    "- `Location`: Location of the event.\n",
    "- `Country`: Country where the event occurred.\n",
    "- `Injury.Severity`: Severity of injuries in the event.\n",
    "- `Aircraft.damage`: Extent of damage to the aircraft.\n",
    "- `Make` and `Model`: Manufacturer and model of the aircraft.\n",
    "- `Number.of.Engines`: Number of engines on the aircraft.\n",
    "- `Purpose.of.flight`: The purpose of the flight during the event.\n",
    "\n",
    "## Data Cleaning and Exploration\n",
    "\n",
    "### Data Cleaning\n",
    "1. **Handling Missing Values**: Identify and handle missing values appropriately, either by imputation or removal.\n",
    "2. **Data Type Conversion**: Convert columns to appropriate data types (e.g., dates to datetime objects, numerical columns to numeric types).\n",
    "3. **Feature Engineering**: Create new features such as `Injury.Severity.Score` to quantify injury severity and extract useful information such as `Event.Year` from the `Event.Date`.\n",
    "\n",
    "### Exploratory Data Analysis (EDA)\n",
    "1. **Summary Statistics**: Generate summary statistics for numerical and categorical columns.\n",
    "2. **Visualizations**: Create histograms, bar plots, and scatter plots to understand the distribution and relationships in the data.\n",
    "   - **Average Injury Score by Model**: Identify aircraft models with the lowest average injury scores.\n",
    "   - **Average Injury Score by Number of Engines**: Investigate how the number of engines impacts the injury score.\n",
    "   - **Average Injury Score by Purpose of Flight**: Explore the impact of flight purpose on safety.\n",
    "   - **Events by Year**: Visualize temporal trends in the number of incidents.\n",
    "\n",
    "By following this structured approach, we will be able to gain insights into the safety of different aircraft models and provide actionable recommendations to the company's aviation division."
   ]
  },
  {
   "cell_type": "code",
   "execution_count": null,
   "id": "df5a5798-7c1a-4465-b8cb-517f4c7f707e",
   "metadata": {},
   "outputs": [],
   "source": []
  }
 ],
 "metadata": {
  "kernelspec": {
   "display_name": "Python 3 (ipykernel)",
   "language": "python",
   "name": "python3"
  },
  "language_info": {
   "codemirror_mode": {
    "name": "ipython",
    "version": 3
   },
   "file_extension": ".py",
   "mimetype": "text/x-python",
   "name": "python",
   "nbconvert_exporter": "python",
   "pygments_lexer": "ipython3",
   "version": "3.9.19"
  }
 },
 "nbformat": 4,
 "nbformat_minor": 5
}
