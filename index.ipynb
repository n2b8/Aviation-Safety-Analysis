{
 "cells": [
  {
   "cell_type": "markdown",
   "id": "785aae35-035a-4d0c-8b1f-5cbfbe5b7400",
   "metadata": {},
   "source": [
    "# Aircraft Safety Analysis for Business Expansion\n",
    "\n",
    "<img src=\"images/Flight-Safety-Instructions.jpg\">\n",
    "\n",
    "## Introduction\n",
    "\n",
    "For my Flatiron School Phase 1 Project, I have been given the following prompt:\n",
    "\n",
    "Your company is expanding into new industries to diversify its portfolio. Specifically, the company is interested in purchasing and operating airplanes for both commercial and private enterprises. However, the potential risks associated with different aircraft types are unknown. As a data analyst, you have been tasked with determining which aircraft are the lowest risk for the company to start this new business endeavor. Your findings will be translated into actionable insights for the head of the new aviation division to help decide which aircraft to purchase.\n",
    "\n",
    "## Problem Statement\n",
    "\n",
    "I will aim to identify which aircraft models present the lowest risk in terms of safety. The key questions I'm seeking to answer include:\n",
    "- Which aircraft models have the lowest average injury scores?\n",
    "- How do factors such as the number of engines and the purpose of flight impact the safety of the aircraft?\n",
    "- Are there temporal trends in the occurrence of accidents or incidents?\n",
    "\n",
    "## Dataset\n",
    "\n",
    "The dataset contains records of aircraft incidents and accidents from the NTSB up to 2023, including information on the event, location, aircraft characteristics, and injury severity. The dataset has 90,348 entries and 31 columns. Some key columns include:\n",
    "- `Event.Id`: Unique identifier for each event.\n",
    "- `Event.Date`: Date of the event.\n",
    "- `Location`: Location of the event.\n",
    "- `Country`: Country where the event occurred.\n",
    "- `Injury.Severity`: Severity of injuries in the event.\n",
    "- `Aircraft.damage`: Extent of damage to the aircraft.\n",
    "- `Make` and `Model`: Manufacturer and model of the aircraft.\n",
    "- `Number.of.Engines`: Number of engines on the aircraft.\n",
    "- `Purpose.of.flight`: The purpose of the flight during the event.\n",
    "\n",
    "## Data Cleaning and Exploration\n",
    "\n",
    "### Data Cleaning\n",
    "1. **Handling Missing Values**: Identify and handle missing values appropriately, either by imputation or removal.\n",
    "2. **Data Type Conversion**: Convert columns to appropriate data types (e.g., dates to datetime objects, numerical columns to numeric types).\n",
    "3. **Feature Engineering**: Create new features such as `Injury.Severity.Score` to quantify injury severity and extract useful information such as `Event.Year` from the `Event.Date`.\n",
    "\n",
    "### Exploratory Data Analysis (EDA)\n",
    "1. **Summary Statistics**: Generate summary statistics for numerical and categorical columns.\n",
    "2. **Visualizations**: Create histograms, bar plots, and scatter plots to understand the distribution and relationships in the data.\n",
    "   - **Average Injury Score by Model**: Identify aircraft models with the lowest average injury scores.\n",
    "   - **Average Injury Score by Number of Engines**: Investigate how the number of engines impacts the injury score.\n",
    "   - **Average Injury Score by Purpose of Flight**: Explore the impact of flight purpose on safety.\n",
    "   - **Events by Year**: Visualize temporal trends in the number of incidents.\n",
    "\n",
    "By following this structured approach, we will be able to gain insights into the safety of different aircraft models and provide actionable recommendations to the company's aviation division."
   ]
  },
  {
   "cell_type": "markdown",
   "id": "4da3b6e0-c453-4461-8996-7371d704bf60",
   "metadata": {},
   "source": [
    "# Data Import & Initial Handling"
   ]
  },
  {
   "cell_type": "code",
   "execution_count": 54,
   "id": "f260f4a7-c720-4a55-acdb-6dbc3086eb2a",
   "metadata": {},
   "outputs": [],
   "source": [
    "# Importing necessary libraries\n",
    "import pandas as pd\n",
    "import matplotlib.pyplot as plt\n",
    "import seaborn as sns\n",
    "from tqdm import tqdm"
   ]
  },
  {
   "cell_type": "code",
   "execution_count": 55,
   "id": "4cedd316-75da-413b-9818-b8a92c559acb",
   "metadata": {},
   "outputs": [
    {
     "name": "stderr",
     "output_type": "stream",
     "text": [
      "/var/folders/qs/svfy8y496zs3ryjhvjm063340000gn/T/ipykernel_66486/3935695519.py:2: DtypeWarning: Columns (6,7,28) have mixed types. Specify dtype option on import or set low_memory=False.\n",
      "  df = pd.read_csv('data/Aviation_Data.csv')\n"
     ]
    },
    {
     "data": {
      "text/html": [
       "<div>\n",
       "<style scoped>\n",
       "    .dataframe tbody tr th:only-of-type {\n",
       "        vertical-align: middle;\n",
       "    }\n",
       "\n",
       "    .dataframe tbody tr th {\n",
       "        vertical-align: top;\n",
       "    }\n",
       "\n",
       "    .dataframe thead th {\n",
       "        text-align: right;\n",
       "    }\n",
       "</style>\n",
       "<table border=\"1\" class=\"dataframe\">\n",
       "  <thead>\n",
       "    <tr style=\"text-align: right;\">\n",
       "      <th></th>\n",
       "      <th>Event.Id</th>\n",
       "      <th>Investigation.Type</th>\n",
       "      <th>Accident.Number</th>\n",
       "      <th>Event.Date</th>\n",
       "      <th>Location</th>\n",
       "      <th>Country</th>\n",
       "      <th>Latitude</th>\n",
       "      <th>Longitude</th>\n",
       "      <th>Airport.Code</th>\n",
       "      <th>Airport.Name</th>\n",
       "      <th>...</th>\n",
       "      <th>Purpose.of.flight</th>\n",
       "      <th>Air.carrier</th>\n",
       "      <th>Total.Fatal.Injuries</th>\n",
       "      <th>Total.Serious.Injuries</th>\n",
       "      <th>Total.Minor.Injuries</th>\n",
       "      <th>Total.Uninjured</th>\n",
       "      <th>Weather.Condition</th>\n",
       "      <th>Broad.phase.of.flight</th>\n",
       "      <th>Report.Status</th>\n",
       "      <th>Publication.Date</th>\n",
       "    </tr>\n",
       "  </thead>\n",
       "  <tbody>\n",
       "    <tr>\n",
       "      <th>0</th>\n",
       "      <td>20001218X45444</td>\n",
       "      <td>Accident</td>\n",
       "      <td>SEA87LA080</td>\n",
       "      <td>1948-10-24</td>\n",
       "      <td>MOOSE CREEK, ID</td>\n",
       "      <td>United States</td>\n",
       "      <td>NaN</td>\n",
       "      <td>NaN</td>\n",
       "      <td>NaN</td>\n",
       "      <td>NaN</td>\n",
       "      <td>...</td>\n",
       "      <td>Personal</td>\n",
       "      <td>NaN</td>\n",
       "      <td>2.0</td>\n",
       "      <td>0.0</td>\n",
       "      <td>0.0</td>\n",
       "      <td>0.0</td>\n",
       "      <td>UNK</td>\n",
       "      <td>Cruise</td>\n",
       "      <td>Probable Cause</td>\n",
       "      <td>NaN</td>\n",
       "    </tr>\n",
       "    <tr>\n",
       "      <th>1</th>\n",
       "      <td>20001218X45447</td>\n",
       "      <td>Accident</td>\n",
       "      <td>LAX94LA336</td>\n",
       "      <td>1962-07-19</td>\n",
       "      <td>BRIDGEPORT, CA</td>\n",
       "      <td>United States</td>\n",
       "      <td>NaN</td>\n",
       "      <td>NaN</td>\n",
       "      <td>NaN</td>\n",
       "      <td>NaN</td>\n",
       "      <td>...</td>\n",
       "      <td>Personal</td>\n",
       "      <td>NaN</td>\n",
       "      <td>4.0</td>\n",
       "      <td>0.0</td>\n",
       "      <td>0.0</td>\n",
       "      <td>0.0</td>\n",
       "      <td>UNK</td>\n",
       "      <td>Unknown</td>\n",
       "      <td>Probable Cause</td>\n",
       "      <td>19-09-1996</td>\n",
       "    </tr>\n",
       "    <tr>\n",
       "      <th>2</th>\n",
       "      <td>20061025X01555</td>\n",
       "      <td>Accident</td>\n",
       "      <td>NYC07LA005</td>\n",
       "      <td>1974-08-30</td>\n",
       "      <td>Saltville, VA</td>\n",
       "      <td>United States</td>\n",
       "      <td>36.922223</td>\n",
       "      <td>-81.878056</td>\n",
       "      <td>NaN</td>\n",
       "      <td>NaN</td>\n",
       "      <td>...</td>\n",
       "      <td>Personal</td>\n",
       "      <td>NaN</td>\n",
       "      <td>3.0</td>\n",
       "      <td>NaN</td>\n",
       "      <td>NaN</td>\n",
       "      <td>NaN</td>\n",
       "      <td>IMC</td>\n",
       "      <td>Cruise</td>\n",
       "      <td>Probable Cause</td>\n",
       "      <td>26-02-2007</td>\n",
       "    </tr>\n",
       "    <tr>\n",
       "      <th>3</th>\n",
       "      <td>20001218X45448</td>\n",
       "      <td>Accident</td>\n",
       "      <td>LAX96LA321</td>\n",
       "      <td>1977-06-19</td>\n",
       "      <td>EUREKA, CA</td>\n",
       "      <td>United States</td>\n",
       "      <td>NaN</td>\n",
       "      <td>NaN</td>\n",
       "      <td>NaN</td>\n",
       "      <td>NaN</td>\n",
       "      <td>...</td>\n",
       "      <td>Personal</td>\n",
       "      <td>NaN</td>\n",
       "      <td>2.0</td>\n",
       "      <td>0.0</td>\n",
       "      <td>0.0</td>\n",
       "      <td>0.0</td>\n",
       "      <td>IMC</td>\n",
       "      <td>Cruise</td>\n",
       "      <td>Probable Cause</td>\n",
       "      <td>12-09-2000</td>\n",
       "    </tr>\n",
       "    <tr>\n",
       "      <th>4</th>\n",
       "      <td>20041105X01764</td>\n",
       "      <td>Accident</td>\n",
       "      <td>CHI79FA064</td>\n",
       "      <td>1979-08-02</td>\n",
       "      <td>Canton, OH</td>\n",
       "      <td>United States</td>\n",
       "      <td>NaN</td>\n",
       "      <td>NaN</td>\n",
       "      <td>NaN</td>\n",
       "      <td>NaN</td>\n",
       "      <td>...</td>\n",
       "      <td>Personal</td>\n",
       "      <td>NaN</td>\n",
       "      <td>1.0</td>\n",
       "      <td>2.0</td>\n",
       "      <td>NaN</td>\n",
       "      <td>0.0</td>\n",
       "      <td>VMC</td>\n",
       "      <td>Approach</td>\n",
       "      <td>Probable Cause</td>\n",
       "      <td>16-04-1980</td>\n",
       "    </tr>\n",
       "  </tbody>\n",
       "</table>\n",
       "<p>5 rows × 31 columns</p>\n",
       "</div>"
      ],
      "text/plain": [
       "         Event.Id Investigation.Type Accident.Number  Event.Date  \\\n",
       "0  20001218X45444           Accident      SEA87LA080  1948-10-24   \n",
       "1  20001218X45447           Accident      LAX94LA336  1962-07-19   \n",
       "2  20061025X01555           Accident      NYC07LA005  1974-08-30   \n",
       "3  20001218X45448           Accident      LAX96LA321  1977-06-19   \n",
       "4  20041105X01764           Accident      CHI79FA064  1979-08-02   \n",
       "\n",
       "          Location        Country   Latitude  Longitude Airport.Code  \\\n",
       "0  MOOSE CREEK, ID  United States        NaN        NaN          NaN   \n",
       "1   BRIDGEPORT, CA  United States        NaN        NaN          NaN   \n",
       "2    Saltville, VA  United States  36.922223 -81.878056          NaN   \n",
       "3       EUREKA, CA  United States        NaN        NaN          NaN   \n",
       "4       Canton, OH  United States        NaN        NaN          NaN   \n",
       "\n",
       "  Airport.Name  ... Purpose.of.flight Air.carrier Total.Fatal.Injuries  \\\n",
       "0          NaN  ...          Personal         NaN                  2.0   \n",
       "1          NaN  ...          Personal         NaN                  4.0   \n",
       "2          NaN  ...          Personal         NaN                  3.0   \n",
       "3          NaN  ...          Personal         NaN                  2.0   \n",
       "4          NaN  ...          Personal         NaN                  1.0   \n",
       "\n",
       "  Total.Serious.Injuries Total.Minor.Injuries Total.Uninjured  \\\n",
       "0                    0.0                  0.0             0.0   \n",
       "1                    0.0                  0.0             0.0   \n",
       "2                    NaN                  NaN             NaN   \n",
       "3                    0.0                  0.0             0.0   \n",
       "4                    2.0                  NaN             0.0   \n",
       "\n",
       "  Weather.Condition  Broad.phase.of.flight   Report.Status Publication.Date  \n",
       "0               UNK                 Cruise  Probable Cause              NaN  \n",
       "1               UNK                Unknown  Probable Cause       19-09-1996  \n",
       "2               IMC                 Cruise  Probable Cause       26-02-2007  \n",
       "3               IMC                 Cruise  Probable Cause       12-09-2000  \n",
       "4               VMC               Approach  Probable Cause       16-04-1980  \n",
       "\n",
       "[5 rows x 31 columns]"
      ]
     },
     "execution_count": 55,
     "metadata": {},
     "output_type": "execute_result"
    }
   ],
   "source": [
    "# Reading data from a CSV file\n",
    "df = pd.read_csv('data/Aviation_Data.csv')\n",
    "\n",
    "# Preview the data\n",
    "df.head()"
   ]
  },
  {
   "cell_type": "code",
   "execution_count": 56,
   "id": "523293c5-4878-4c7b-9a30-16bf423d1ae3",
   "metadata": {},
   "outputs": [
    {
     "name": "stdout",
     "output_type": "stream",
     "text": [
      "<class 'pandas.core.frame.DataFrame'>\n",
      "RangeIndex: 90348 entries, 0 to 90347\n",
      "Data columns (total 31 columns):\n",
      " #   Column                  Non-Null Count  Dtype  \n",
      "---  ------                  --------------  -----  \n",
      " 0   Event.Id                88889 non-null  object \n",
      " 1   Investigation.Type      90348 non-null  object \n",
      " 2   Accident.Number         88889 non-null  object \n",
      " 3   Event.Date              88889 non-null  object \n",
      " 4   Location                88837 non-null  object \n",
      " 5   Country                 88663 non-null  object \n",
      " 6   Latitude                34382 non-null  object \n",
      " 7   Longitude               34373 non-null  object \n",
      " 8   Airport.Code            50132 non-null  object \n",
      " 9   Airport.Name            52704 non-null  object \n",
      " 10  Injury.Severity         87889 non-null  object \n",
      " 11  Aircraft.damage         85695 non-null  object \n",
      " 12  Aircraft.Category       32287 non-null  object \n",
      " 13  Registration.Number     87507 non-null  object \n",
      " 14  Make                    88826 non-null  object \n",
      " 15  Model                   88797 non-null  object \n",
      " 16  Amateur.Built           88787 non-null  object \n",
      " 17  Number.of.Engines       82805 non-null  float64\n",
      " 18  Engine.Type             81793 non-null  object \n",
      " 19  FAR.Description         32023 non-null  object \n",
      " 20  Schedule                12582 non-null  object \n",
      " 21  Purpose.of.flight       82697 non-null  object \n",
      " 22  Air.carrier             16648 non-null  object \n",
      " 23  Total.Fatal.Injuries    77488 non-null  float64\n",
      " 24  Total.Serious.Injuries  76379 non-null  float64\n",
      " 25  Total.Minor.Injuries    76956 non-null  float64\n",
      " 26  Total.Uninjured         82977 non-null  float64\n",
      " 27  Weather.Condition       84397 non-null  object \n",
      " 28  Broad.phase.of.flight   61724 non-null  object \n",
      " 29  Report.Status           82505 non-null  object \n",
      " 30  Publication.Date        73659 non-null  object \n",
      "dtypes: float64(5), object(26)\n",
      "memory usage: 21.4+ MB\n"
     ]
    }
   ],
   "source": [
    "df.info()"
   ]
  },
  {
   "cell_type": "markdown",
   "id": "2f7af183-2ada-4de0-9d12-1794f3d727a3",
   "metadata": {},
   "source": [
    "# Data Cleaning"
   ]
  },
  {
   "cell_type": "markdown",
   "id": "f9fe4978-5282-4a16-a181-c4b1554b24e5",
   "metadata": {},
   "source": [
    "As previously stated, there appears to be 90,348 rows and 31 columns, however, all columns except `Investigation.Type` have missing values. Let's figure out what remains and start a plan to handle the missing data."
   ]
  },
  {
   "cell_type": "code",
   "execution_count": 57,
   "id": "c68afe8b-61f9-4a4b-a68d-a7e453d16437",
   "metadata": {},
   "outputs": [
    {
     "name": "stdout",
     "output_type": "stream",
     "text": [
      "<class 'pandas.core.frame.DataFrame'>\n",
      "RangeIndex: 88958 entries, 0 to 88957\n",
      "Data columns (total 31 columns):\n",
      " #   Column                  Non-Null Count  Dtype  \n",
      "---  ------                  --------------  -----  \n",
      " 0   Event.Id                88889 non-null  object \n",
      " 1   Investigation.Type      88958 non-null  object \n",
      " 2   Accident.Number         88889 non-null  object \n",
      " 3   Event.Date              88889 non-null  object \n",
      " 4   Location                88837 non-null  object \n",
      " 5   Country                 88663 non-null  object \n",
      " 6   Latitude                34382 non-null  object \n",
      " 7   Longitude               34373 non-null  object \n",
      " 8   Airport.Code            50132 non-null  object \n",
      " 9   Airport.Name            52704 non-null  object \n",
      " 10  Injury.Severity         87889 non-null  object \n",
      " 11  Aircraft.damage         85695 non-null  object \n",
      " 12  Aircraft.Category       32287 non-null  object \n",
      " 13  Registration.Number     87507 non-null  object \n",
      " 14  Make                    88826 non-null  object \n",
      " 15  Model                   88797 non-null  object \n",
      " 16  Amateur.Built           88787 non-null  object \n",
      " 17  Number.of.Engines       82805 non-null  float64\n",
      " 18  Engine.Type             81793 non-null  object \n",
      " 19  FAR.Description         32023 non-null  object \n",
      " 20  Schedule                12582 non-null  object \n",
      " 21  Purpose.of.flight       82697 non-null  object \n",
      " 22  Air.carrier             16648 non-null  object \n",
      " 23  Total.Fatal.Injuries    77488 non-null  float64\n",
      " 24  Total.Serious.Injuries  76379 non-null  float64\n",
      " 25  Total.Minor.Injuries    76956 non-null  float64\n",
      " 26  Total.Uninjured         82977 non-null  float64\n",
      " 27  Weather.Condition       84397 non-null  object \n",
      " 28  Broad.phase.of.flight   61724 non-null  object \n",
      " 29  Report.Status           82505 non-null  object \n",
      " 30  Publication.Date        73659 non-null  object \n",
      "dtypes: float64(5), object(26)\n",
      "memory usage: 21.0+ MB\n"
     ]
    }
   ],
   "source": [
    "# I want to start with dropping duplicate rows and then re-check to see where we stand.\n",
    "df.drop_duplicates(inplace=True)\n",
    "\n",
    "df = df.reset_index(drop=True)\n",
    "\n",
    "df.info()"
   ]
  },
  {
   "cell_type": "markdown",
   "id": "18720f56-9949-4572-bea8-81f065cb685a",
   "metadata": {},
   "source": [
    "Okay, we found and removed 1390 duplicated rows. I like to write a function that shows me a similar view to `.info()`, but in percentages of the overall dataset."
   ]
  },
  {
   "cell_type": "code",
   "execution_count": 58,
   "id": "592b3ab9-735e-4770-afe6-72933c608556",
   "metadata": {},
   "outputs": [],
   "source": [
    "def percent_data_missing(df):\n",
    "    missing_data_summary = df.isnull().sum().sort_values(ascending=False)\n",
    "    missing_data_percentage = (df.isnull().sum() / len(df) * 100).sort_values(ascending=False)\n",
    "    \n",
    "    missing_data_df = pd.DataFrame({'Missing Values': missing_data_summary, 'Percentage': missing_data_percentage})\n",
    "    print(missing_data_df)"
   ]
  },
  {
   "cell_type": "code",
   "execution_count": 59,
   "id": "7255f229-0d70-48c0-a947-18e224dd193e",
   "metadata": {},
   "outputs": [
    {
     "name": "stdout",
     "output_type": "stream",
     "text": [
      "                        Missing Values  Percentage\n",
      "Schedule                         76376   85.856247\n",
      "Air.carrier                      72310   81.285550\n",
      "FAR.Description                  56935   64.002113\n",
      "Aircraft.Category                56671   63.705344\n",
      "Longitude                        54585   61.360417\n",
      "Latitude                         54576   61.350300\n",
      "Airport.Code                     38826   43.645316\n",
      "Airport.Name                     36254   40.754064\n",
      "Broad.phase.of.flight            27234   30.614447\n",
      "Publication.Date                 15299   17.198004\n",
      "Total.Serious.Injuries           12579   14.140381\n",
      "Total.Minor.Injuries             12002   13.491760\n",
      "Total.Fatal.Injuries             11470   12.893725\n",
      "Engine.Type                       7165    8.054363\n",
      "Report.Status                     6453    7.253985\n",
      "Purpose.of.flight                 6261    7.038153\n",
      "Number.of.Engines                 6153    6.916747\n",
      "Total.Uninjured                   5981    6.723398\n",
      "Weather.Condition                 4561    5.127139\n",
      "Aircraft.damage                   3263    3.668023\n",
      "Registration.Number               1451    1.631107\n",
      "Injury.Severity                   1069    1.201691\n",
      "Country                            295    0.331617\n",
      "Amateur.Built                      171    0.192226\n",
      "Model                              161    0.180984\n",
      "Make                               132    0.148385\n",
      "Location                           121    0.136019\n",
      "Event.Date                          69    0.077565\n",
      "Accident.Number                     69    0.077565\n",
      "Event.Id                            69    0.077565\n",
      "Investigation.Type                   0    0.000000\n"
     ]
    }
   ],
   "source": [
    "percent_data_missing(df)"
   ]
  },
  {
   "cell_type": "markdown",
   "id": "fc327dfd-ac46-4548-866a-6cf7902d5940",
   "metadata": {},
   "source": [
    "`Aircraft.Category` is something I'd like to be able to filter on and there are a ton of missing values. I want to see if we can glean that information from matching values in other columns. This is a great case for a function as we can probably use it for filling in other missing values later on."
   ]
  },
  {
   "cell_type": "code",
   "execution_count": 60,
   "id": "0f55ba35-f116-4320-b470-4023f0a1c081",
   "metadata": {},
   "outputs": [],
   "source": [
    "def fill_nan_column_with_mode(df, column_to_fill, reference_column):\n",
    "    nan_indices = df[df[column_to_fill].isna()].index.tolist()\n",
    "    \n",
    "    # Use tqdm to create a progress bar\n",
    "    for index in tqdm(nan_indices, desc=f\"Filling NaN values in '{column_to_fill}'\"):\n",
    "        row = df.loc[index]\n",
    "        ref_value = row[reference_column]\n",
    "        \n",
    "        # If reference value is NaN, skip this row\n",
    "        if pd.isna(ref_value):\n",
    "            continue\n",
    "        \n",
    "        # Create a temporary DataFrame with the same reference value\n",
    "        temp_df = df[df[reference_column] == ref_value]\n",
    "        \n",
    "        # Drop rows where the column to fill is NaN\n",
    "        temp_df = temp_df.dropna(subset=[column_to_fill])\n",
    "        \n",
    "        # If temp_df is not empty, calculate the mode\n",
    "        if not temp_df.empty:\n",
    "            mode_value = temp_df[column_to_fill].mode()\n",
    "            \n",
    "            if not mode_value.empty:\n",
    "                # Fill the NaN value with the mode\n",
    "                df.at[index, column_to_fill] = mode_value.iloc[0]\n",
    "                \n",
    "    return df"
   ]
  },
  {
   "cell_type": "code",
   "execution_count": 61,
   "id": "67080a6c-1000-4f39-817f-2773572a1bf6",
   "metadata": {},
   "outputs": [
    {
     "name": "stderr",
     "output_type": "stream",
     "text": [
      "Filling NaN values in 'Aircraft.Category': 100%|██████████████████████████████████████████████████████████████████████| 56671/56671 [02:51<00:00, 331.07it/s]\n"
     ]
    }
   ],
   "source": [
    "df = fill_nan_column_with_mode(df, 'Aircraft.Category', 'Model')"
   ]
  },
  {
   "cell_type": "markdown",
   "id": "f4f0a707-5b70-48bf-afa7-cf02f9da1d81",
   "metadata": {},
   "source": [
    "That saved 48,323 data points in the `Aircraft.Category` column. Now I'll clean up the remaining Aircraft.Category values that didn't get caught with our function"
   ]
  },
  {
   "cell_type": "code",
   "execution_count": 62,
   "id": "44ca8ea1-4301-499b-a1f5-8de3ea5dcf9e",
   "metadata": {},
   "outputs": [],
   "source": [
    "df['Aircraft.Category'] = df['Aircraft.Category'].fillna('Unknown')"
   ]
  },
  {
   "cell_type": "markdown",
   "id": "e5a2fd05-2fd1-4405-8c22-311666a55eee",
   "metadata": {},
   "source": [
    "Now I want to take a look at the aircraft categories to see if there are any we should exclude"
   ]
  },
  {
   "cell_type": "code",
   "execution_count": 63,
   "id": "15f62457-4bad-4edf-b3ff-b0389e775634",
   "metadata": {},
   "outputs": [
    {
     "data": {
      "text/plain": [
       "Aircraft.Category\n",
       "Airplane             70768\n",
       "Unknown               8500\n",
       "Helicopter            7646\n",
       "Glider                 989\n",
       "Balloon                470\n",
       "Gyrocraft              266\n",
       "Weight-Shift           165\n",
       "Powered Parachute       95\n",
       "Ultralight              33\n",
       "WSFT                     9\n",
       "Blimp                    7\n",
       "Powered-Lift             6\n",
       "UNK                      2\n",
       "Rocket                   1\n",
       "ULTR                     1\n",
       "Name: count, dtype: int64"
      ]
     },
     "execution_count": 63,
     "metadata": {},
     "output_type": "execute_result"
    }
   ],
   "source": [
    "df['Aircraft.Category'].value_counts()"
   ]
  },
  {
   "cell_type": "markdown",
   "id": "da0e8d5a-ee14-4391-aeeb-f4f4324d0817",
   "metadata": {},
   "source": [
    "We are likley really only looking at airplanes and possible helicopters so let's exclude everything else."
   ]
  },
  {
   "cell_type": "code",
   "execution_count": 64,
   "id": "5901b90b-1c55-4f6d-8d77-986c1d555c1d",
   "metadata": {},
   "outputs": [],
   "source": [
    "aircraft_cats_to_keep = ['Airplane', 'Helicopter']\n",
    "\n",
    "df = df[df['Aircraft.Category'].isin(aircraft_cats_to_keep)]"
   ]
  },
  {
   "cell_type": "markdown",
   "id": "93e51f18-c847-4712-a2dd-808738051a28",
   "metadata": {},
   "source": [
    "`Schedule`, `Air.Carrier`, `FAR.Description`, `Latitude`, and `Longitude` all have missing data from over 60% of the rows. I feel it's safe to just remove those columns as they aren't contributing anything meaningful to our analysis and aren't values that we can impute."
   ]
  },
  {
   "cell_type": "code",
   "execution_count": 65,
   "id": "a2c79a3c-c6b8-445c-9dc4-f603d9841a7c",
   "metadata": {},
   "outputs": [],
   "source": [
    "df.drop(columns=['Schedule', 'Air.carrier', 'FAR.Description', 'Latitude', 'Longitude'], inplace=True)"
   ]
  },
  {
   "cell_type": "markdown",
   "id": "a9fe9059-fb8b-4215-bc33-2092f5f790bd",
   "metadata": {},
   "source": [
    "`Event.Id`, `Accident.Number`, `Event.Date`, `Location`, `Amateur.Built`, and `Country` are each missing data in less than 1% of the rows. Because of the low impact, I will remove those rows. `Model` are values I would like to keep if possible so I will use my function to try and fill those in. Anything that is left I will drop. Since I can determine the make from the model but not the model from the make, I will drop the missing `Make` values as well."
   ]
  },
  {
   "cell_type": "code",
   "execution_count": 66,
   "id": "c540d379-0d22-46b0-a4f0-ff2d41f74437",
   "metadata": {},
   "outputs": [
    {
     "name": "stderr",
     "output_type": "stream",
     "text": [
      "Filling NaN values in 'Model': 100%|████████████████████████████████████████████████████████████████████████████████████████| 33/33 [00:00<00:00, 166.85it/s]\n"
     ]
    }
   ],
   "source": [
    "df = fill_nan_column_with_mode(df, 'Model', 'Make')"
   ]
  },
  {
   "cell_type": "code",
   "execution_count": 67,
   "id": "6004e76d-4a51-4ca8-9d5b-1899b7118ae8",
   "metadata": {},
   "outputs": [],
   "source": [
    "df.dropna(subset=['Event.Id', 'Accident.Number', 'Event.Date', 'Location', 'Amateur.Built', 'Country', 'Make', 'Model'], inplace=True)"
   ]
  },
  {
   "cell_type": "markdown",
   "id": "690ec4a9-58ca-4116-857d-bc659aff9c28",
   "metadata": {},
   "source": [
    "`Registration.Number` doesn't seem like it would be useful for our analysis so I will drop that as well."
   ]
  },
  {
   "cell_type": "code",
   "execution_count": 68,
   "id": "8728bfa5-750f-4e2d-bdfe-3fec313c5dbd",
   "metadata": {},
   "outputs": [],
   "source": [
    "df.drop(columns=['Registration.Number'], inplace=True)"
   ]
  },
  {
   "cell_type": "markdown",
   "id": "8433090a-bedf-4680-9e90-be8e7bf9cee4",
   "metadata": {},
   "source": [
    "`Amateur.Built` is an interesting datapoint. Let's look deeper at that."
   ]
  },
  {
   "cell_type": "code",
   "execution_count": 69,
   "id": "d3ec8626-9f12-42b0-ad93-c103af600536",
   "metadata": {},
   "outputs": [
    {
     "data": {
      "text/plain": [
       "Amateur.Built\n",
       "No     72394\n",
       "Yes     5692\n",
       "Name: count, dtype: int64"
      ]
     },
     "execution_count": 69,
     "metadata": {},
     "output_type": "execute_result"
    }
   ],
   "source": [
    "df['Amateur.Built'].value_counts()"
   ]
  },
  {
   "cell_type": "markdown",
   "id": "c87f15d3-8ac0-43e5-b108-63818972447c",
   "metadata": {},
   "source": [
    "Nearly 8500 incidents were related to 'homebuilt' aircraft. I don't feel from a company standpoint, we would be interesting in purchasing amateur built aircraft but rather commercially produced aircraft so let's get rid of those and then drop the column."
   ]
  },
  {
   "cell_type": "code",
   "execution_count": 70,
   "id": "b278c375-1a02-4e59-8700-d3a8da2edc36",
   "metadata": {},
   "outputs": [],
   "source": [
    "df = df[df['Amateur.Built'] != 'Yes']\n",
    "df.drop(columns=['Amateur.Built'], inplace=True)"
   ]
  },
  {
   "cell_type": "markdown",
   "id": "da77a542-90d5-413d-bca9-057915842772",
   "metadata": {},
   "source": [
    "`Injury.Severity` might be something that could help us with our safety determinations:"
   ]
  },
  {
   "cell_type": "code",
   "execution_count": 71,
   "id": "f8592833-2e60-49f6-a546-9155406d0344",
   "metadata": {},
   "outputs": [
    {
     "data": {
      "text/plain": [
       "array(['Fatal(2)', 'Fatal(3)', 'Fatal(1)', 'Non-Fatal', 'Fatal(4)',\n",
       "       'Incident', 'Fatal(8)', 'Fatal(78)', 'Fatal(7)', 'Fatal(6)',\n",
       "       'Fatal(5)', 'Fatal(12)', 'Fatal(14)', 'Fatal(10)', 'Fatal(11)',\n",
       "       'Fatal(17)', 'Fatal(13)', 'Fatal(29)', 'Fatal(9)', 'Unavailable',\n",
       "       'Fatal(135)', 'Fatal(25)', 'Fatal(82)', 'Fatal(156)', 'Fatal(18)',\n",
       "       'Fatal(144)', 'Fatal(111)', 'Fatal(20)', 'Fatal(73)', 'Fatal(27)',\n",
       "       'Fatal(34)', 'Fatal(87)', 'Fatal(16)', 'Fatal(56)', 'Fatal(37)',\n",
       "       'Fatal(54)', 'Fatal(65)', 'Fatal(160)', 'Fatal(189)', 'Fatal(97)',\n",
       "       'Fatal(125)', 'Fatal(228)', 'Fatal(52)', 'Fatal(15)', 'Fatal(229)',\n",
       "       'Fatal(80)', 'Fatal(169)', 'Fatal(88)', 'Fatal(131)', 'Fatal(60)',\n",
       "       'Fatal(143)', 'Fatal(83)', 'Fatal(24)', 'Fatal(44)', 'Fatal(64)',\n",
       "       'Fatal(92)', 'Fatal(19)', 'Fatal(26)', 'Fatal(138)', 'Fatal(206)',\n",
       "       'Fatal(71)', 'Fatal(23)', 'Fatal(21)', 'Fatal(115)', 'Fatal(141)',\n",
       "       'Fatal(121)', 'Fatal(45)', 'Fatal(145)', 'Fatal(117)',\n",
       "       'Fatal(107)', 'Fatal(113)', 'Fatal(154)', 'Fatal(96)',\n",
       "       'Fatal(102)', 'Fatal(199)', 'Fatal(89)', 'Fatal', nan, 'Minor',\n",
       "       'Serious'], dtype=object)"
      ]
     },
     "execution_count": 71,
     "metadata": {},
     "output_type": "execute_result"
    }
   ],
   "source": [
    "df['Injury.Severity'].unique()"
   ]
  },
  {
   "cell_type": "markdown",
   "id": "acd9dcaf-8556-44d8-ae8b-2136e62363bc",
   "metadata": {},
   "source": [
    "There are a lot of different variations of \"Fatal\" in this column. All with numbers in parenthesis following the value. Let's compare these to a sample of the `Total.Fatal.Injuries` column."
   ]
  },
  {
   "cell_type": "code",
   "execution_count": 72,
   "id": "9b6bab18-2f05-458e-be99-740d57db4ad9",
   "metadata": {},
   "outputs": [
    {
     "data": {
      "text/plain": [
       "0        2.0\n",
       "3        2.0\n",
       "15       2.0\n",
       "24       2.0\n",
       "33       2.0\n",
       "        ... \n",
       "63822    2.0\n",
       "63823    2.0\n",
       "63826    2.0\n",
       "63828    2.0\n",
       "63874    2.0\n",
       "Name: Total.Fatal.Injuries, Length: 2972, dtype: float64"
      ]
     },
     "execution_count": 72,
     "metadata": {},
     "output_type": "execute_result"
    }
   ],
   "source": [
    "df[df['Injury.Severity'] == 'Fatal(2)']['Total.Fatal.Injuries']"
   ]
  },
  {
   "cell_type": "markdown",
   "id": "ce194c3b-2769-420f-9365-9db0f74c56d5",
   "metadata": {},
   "source": [
    "It seems like much of this data is duplicated from the `Total.Fatal.Injuries` columns. i.e. Rows with 'Fatal(2)' in the `Injury.Severity` column also have 2 in the `Total.Fatal.Injuries` column. As this is duplicate information, let's drop it."
   ]
  },
  {
   "cell_type": "code",
   "execution_count": 73,
   "id": "62c7b964-6a9e-46b9-ac0b-13ee7752f21a",
   "metadata": {},
   "outputs": [],
   "source": [
    "df.drop(columns=['Injury.Severity'], inplace=True)"
   ]
  },
  {
   "cell_type": "markdown",
   "id": "eb232195-878f-425f-8d5d-5329b6e12eea",
   "metadata": {},
   "source": [
    "Now I want to take a look at our 'date' columns.\n",
    "\n",
    "We have two different 'date' columns (`Event.Date` and `Publication.Date`), we probably don't ned both as we're not interested in the length of the the elapsed time between the incident and the report being released. I'll keep `Event.Date`."
   ]
  },
  {
   "cell_type": "code",
   "execution_count": 74,
   "id": "f34a36ea-8de2-4ceb-a7fa-c2f85df9c989",
   "metadata": {},
   "outputs": [],
   "source": [
    "df.drop(columns=['Publication.Date'], inplace=True)"
   ]
  },
  {
   "cell_type": "markdown",
   "id": "81d28c14-2caf-4417-8c02-b7b75502f148",
   "metadata": {},
   "source": [
    "I'll probably want to use the `Event.Date` column for analysis so I need to convert it to a `datetime` object instead of a string."
   ]
  },
  {
   "cell_type": "code",
   "execution_count": 75,
   "id": "47817651-d03a-4518-a92b-1bd867fbb576",
   "metadata": {},
   "outputs": [],
   "source": [
    "df['Event.Date'] = pd.to_datetime(df['Event.Date'])"
   ]
  },
  {
   "cell_type": "markdown",
   "id": "c7a009c6-099f-4c58-96ca-c07d08ba7e5d",
   "metadata": {},
   "source": [
    "Now I'm interested in some of the categorical columns that may benefit from a placeholder value."
   ]
  },
  {
   "cell_type": "code",
   "execution_count": 76,
   "id": "82726f13-7409-4e31-886c-2b8d03361cc7",
   "metadata": {},
   "outputs": [
    {
     "data": {
      "text/plain": [
       "array(['UNK', 'IMC', 'VMC', nan, 'Unk'], dtype=object)"
      ]
     },
     "execution_count": 76,
     "metadata": {},
     "output_type": "execute_result"
    }
   ],
   "source": [
    "# Let's check the Weather.Condition column\n",
    "df['Weather.Condition'].unique()"
   ]
  },
  {
   "cell_type": "markdown",
   "id": "724dc5b8-d1dc-47e7-8049-8550c7b4610c",
   "metadata": {},
   "source": [
    "It looks like weather conditions include IMC, VMC, UNK, Unk, and nan. I'll group Unk, UNK, and nan all as UNK."
   ]
  },
  {
   "cell_type": "code",
   "execution_count": 77,
   "id": "c722dba8-5028-4365-8899-dd4de3810115",
   "metadata": {},
   "outputs": [],
   "source": [
    "df['Weather.Condition'] = df['Weather.Condition'].fillna('UNK')"
   ]
  },
  {
   "cell_type": "markdown",
   "id": "721a5f1e-779d-4544-99c2-f3a7aff7c965",
   "metadata": {},
   "source": [
    "Since I may need to do more value renamming, I'll create a function for future use."
   ]
  },
  {
   "cell_type": "code",
   "execution_count": 78,
   "id": "0fb1b349-9f35-4f72-9b20-d6a0fd8117b5",
   "metadata": {},
   "outputs": [
    {
     "data": {
      "text/plain": [
       "array(['UNK', 'IMC', 'VMC'], dtype=object)"
      ]
     },
     "execution_count": 78,
     "metadata": {},
     "output_type": "execute_result"
    }
   ],
   "source": [
    "def rename_value(df, col_name, old_value, new_value):\n",
    "  df.loc[df[col_name].str.lower().str.contains(old_value.lower()), col_name] = new_value\n",
    "\n",
    "rename_value(df, 'Weather.Condition', 'Unk', 'UNK')\n",
    "\n",
    "df['Weather.Condition'].unique()"
   ]
  },
  {
   "cell_type": "code",
   "execution_count": 79,
   "id": "68cba7ed-82b3-4835-a660-a7544ba24478",
   "metadata": {},
   "outputs": [
    {
     "data": {
      "text/plain": [
       "array(['Cruise', 'Approach', 'Climb', 'Unknown', 'Takeoff', 'Landing',\n",
       "       'Taxi', 'Descent', 'Maneuvering', 'Standing', 'Go-around', 'Other',\n",
       "       nan], dtype=object)"
      ]
     },
     "execution_count": 79,
     "metadata": {},
     "output_type": "execute_result"
    }
   ],
   "source": [
    "df['Broad.phase.of.flight'].unique()"
   ]
  },
  {
   "cell_type": "code",
   "execution_count": 80,
   "id": "ae68cd5d-1289-4e12-8ff1-5fbac85dbfb7",
   "metadata": {},
   "outputs": [],
   "source": [
    "df['Broad.phase.of.flight'] = df['Broad.phase.of.flight'].fillna('Unknown')"
   ]
  },
  {
   "cell_type": "code",
   "execution_count": 81,
   "id": "40cc9ad7-651b-4ceb-8e6d-8551ba0cc493",
   "metadata": {},
   "outputs": [
    {
     "data": {
      "text/plain": [
       "array(['Personal', nan, 'Business', 'Instructional', 'Unknown', 'Ferry',\n",
       "       'Executive/corporate', 'Aerial Observation', 'Aerial Application',\n",
       "       'Public Aircraft', 'Skydiving', 'Other Work Use', 'Positioning',\n",
       "       'Flight Test', 'Air Race/show', 'Air Drop',\n",
       "       'Public Aircraft - Federal', 'Glider Tow',\n",
       "       'Public Aircraft - Local', 'External Load',\n",
       "       'Public Aircraft - State', 'Banner Tow', 'Firefighting',\n",
       "       'Air Race show', 'PUBS', 'ASHO', 'PUBL'], dtype=object)"
      ]
     },
     "execution_count": 81,
     "metadata": {},
     "output_type": "execute_result"
    }
   ],
   "source": [
    "df['Purpose.of.flight'].unique()"
   ]
  },
  {
   "cell_type": "code",
   "execution_count": 82,
   "id": "795e414a-6390-43f6-a7e5-85e74f994266",
   "metadata": {},
   "outputs": [],
   "source": [
    "df['Purpose.of.flight'] = df['Purpose.of.flight'].fillna('Unknown')"
   ]
  },
  {
   "cell_type": "markdown",
   "id": "f3552406-f211-4364-8027-cf99a4424f0b",
   "metadata": {},
   "source": [
    "There are some flight types in here that likely don't apply to our business case so let's drop them"
   ]
  },
  {
   "cell_type": "code",
   "execution_count": 83,
   "id": "96b621b0-6d6b-49ef-a395-023ce45198bb",
   "metadata": {},
   "outputs": [],
   "source": [
    "# List of flight types to drop\n",
    "flight_types_to_drop = ['Air Drop', 'Air Race/show', 'Firefighting', 'Glider Tow', 'Air Race show', 'Flight Test']\n",
    "\n",
    "# Drop the unwanted flight types\n",
    "df = df[~df['Purpose.of.flight'].isin(flight_types_to_drop)]"
   ]
  },
  {
   "cell_type": "code",
   "execution_count": 84,
   "id": "c1ae369a-152b-41ca-9c12-7181c7850176",
   "metadata": {},
   "outputs": [
    {
     "data": {
      "text/plain": [
       "array([nan, 'BLACKBURN AG STRIP', 'HANOVER', ...,\n",
       "       'HAWKINSVILLE-PULASKI COUNTY', 'Lewiston Municipal Airport',\n",
       "       'WICHITA DWIGHT D EISENHOWER NT'], dtype=object)"
      ]
     },
     "execution_count": 84,
     "metadata": {},
     "output_type": "execute_result"
    }
   ],
   "source": [
    "df['Airport.Name'].unique()"
   ]
  },
  {
   "cell_type": "code",
   "execution_count": 85,
   "id": "1ef2c001-2504-44c7-9012-86d10b9c28f8",
   "metadata": {},
   "outputs": [],
   "source": [
    "df['Airport.Name'] = df['Airport.Name'].fillna('Unknown')\n",
    "\n",
    "# Rename values in 'Airport.Name' containing 'private' (case-insensitive) to 'PRIVATE'\n",
    "rename_value(df, 'Airport.Name', 'private', 'PRIVATE')"
   ]
  },
  {
   "cell_type": "code",
   "execution_count": 86,
   "id": "8c0b86c4-2e72-4197-a545-ce5dc0d29e79",
   "metadata": {},
   "outputs": [
    {
     "data": {
      "text/plain": [
       "Airport.Code\n",
       "NONE    1164\n",
       "PVT      362\n",
       "APA      143\n",
       "MRI      125\n",
       "ORD      106\n",
       "        ... \n",
       "32J        1\n",
       "0CL1       1\n",
       "10S        1\n",
       "A8L        1\n",
       "EIKH       1\n",
       "Name: count, Length: 9427, dtype: int64"
      ]
     },
     "execution_count": 86,
     "metadata": {},
     "output_type": "execute_result"
    }
   ],
   "source": [
    "df['Airport.Code'].value_counts()"
   ]
  },
  {
   "cell_type": "code",
   "execution_count": 87,
   "id": "439ee808-900d-4ac0-b414-a72c6f05b067",
   "metadata": {},
   "outputs": [],
   "source": [
    "df['Airport.Code'] = df['Airport.Code'].fillna('UNK')"
   ]
  },
  {
   "cell_type": "code",
   "execution_count": 88,
   "id": "18203e05-b9e4-458a-bf5c-6793b80639e8",
   "metadata": {},
   "outputs": [
    {
     "name": "stderr",
     "output_type": "stream",
     "text": [
      "Filling NaN values in 'Number.of.Engines': 100%|████████████████████████████████████████████████████████████████████████| 4404/4404 [00:11<00:00, 383.08it/s]\n"
     ]
    }
   ],
   "source": [
    "df = fill_nan_column_with_mode(df, 'Number.of.Engines', 'Model')"
   ]
  },
  {
   "cell_type": "markdown",
   "id": "9f496960-a256-494b-93ca-77d53a9e59b9",
   "metadata": {},
   "source": [
    "Since one of the safety metrics I want to look at is the number of engines, I will go ahead a drop the remaining where we don't have that information."
   ]
  },
  {
   "cell_type": "code",
   "execution_count": 89,
   "id": "892f4328-37a6-4df9-8182-a158766b843f",
   "metadata": {},
   "outputs": [],
   "source": [
    "df = df.dropna(subset=['Number.of.Engines'])"
   ]
  },
  {
   "cell_type": "code",
   "execution_count": 90,
   "id": "444812f5-09af-43e4-ba87-c4ba5cc45d04",
   "metadata": {},
   "outputs": [
    {
     "data": {
      "text/plain": [
       "Engine.Type\n",
       "Reciprocating      57671\n",
       "Turbo Shaft         3050\n",
       "Turbo Prop          2752\n",
       "Turbo Fan           1863\n",
       "Unknown              573\n",
       "Turbo Jet            422\n",
       "Geared Turbofan       12\n",
       "Electric               3\n",
       "UNK                    1\n",
       "Name: count, dtype: int64"
      ]
     },
     "execution_count": 90,
     "metadata": {},
     "output_type": "execute_result"
    }
   ],
   "source": [
    "df['Engine.Type'].value_counts()"
   ]
  },
  {
   "cell_type": "code",
   "execution_count": 91,
   "id": "4a0e2494-239a-47e8-9dda-0a16ffa683e2",
   "metadata": {},
   "outputs": [
    {
     "name": "stderr",
     "output_type": "stream",
     "text": [
      "Filling NaN values in 'Engine.Type': 100%|██████████████████████████████████████████████████████████████████████████████| 5219/5219 [00:13<00:00, 379.86it/s]\n"
     ]
    }
   ],
   "source": [
    "df = fill_nan_column_with_mode(df, 'Engine.Type', 'Model')"
   ]
  },
  {
   "cell_type": "code",
   "execution_count": 92,
   "id": "ebfac622-0725-41e9-bbfa-6a6d47f221b0",
   "metadata": {},
   "outputs": [],
   "source": [
    "df['Engine.Type'] = df['Engine.Type'].fillna('UNK')"
   ]
  },
  {
   "cell_type": "code",
   "execution_count": 93,
   "id": "ea0db2e2-9119-4718-a6e0-df2142370ac6",
   "metadata": {},
   "outputs": [
    {
     "data": {
      "text/plain": [
       "Aircraft.damage\n",
       "Substantial    52736\n",
       "Destroyed      14384\n",
       "Minor           2057\n",
       "Unknown          104\n",
       "Name: count, dtype: int64"
      ]
     },
     "execution_count": 93,
     "metadata": {},
     "output_type": "execute_result"
    }
   ],
   "source": [
    "df['Aircraft.damage'].value_counts()"
   ]
  },
  {
   "cell_type": "code",
   "execution_count": 94,
   "id": "847a4769-2592-48d0-94a7-082ab17b51c5",
   "metadata": {},
   "outputs": [],
   "source": [
    "df['Aircraft.damage'] = df['Aircraft.damage'].fillna('Unknown')"
   ]
  },
  {
   "cell_type": "code",
   "execution_count": 95,
   "id": "35490535-cf40-4870-99a4-45727fb87cb8",
   "metadata": {},
   "outputs": [],
   "source": [
    "df['Report.Status'] = df['Report.Status'].fillna('')"
   ]
  },
  {
   "cell_type": "markdown",
   "id": "0e368680-0aca-47b2-bb72-faf73ca61016",
   "metadata": {},
   "source": [
    "I want to check to see how many rows have zero injury and uninjured information"
   ]
  },
  {
   "cell_type": "code",
   "execution_count": 96,
   "id": "7b6ff946-793d-4835-8a87-89d4b518c46f",
   "metadata": {},
   "outputs": [
    {
     "name": "stdout",
     "output_type": "stream",
     "text": [
      "Number of rows with NaN in all specified columns: 116\n"
     ]
    }
   ],
   "source": [
    "# Specify the columns to check\n",
    "columns_to_check = ['Total.Uninjured', 'Total.Minor.Injuries', 'Total.Serious.Injuries', 'Total.Fatal.Injuries']\n",
    "\n",
    "# Count rows where all specified columns are NaN\n",
    "num_rows_all_nan = df[columns_to_check].isna().all(axis=1).sum()\n",
    "\n",
    "print(f\"Number of rows with NaN in all specified columns: {num_rows_all_nan}\")"
   ]
  },
  {
   "cell_type": "markdown",
   "id": "40ce80e2-4672-4df1-88eb-03d7b625ec1c",
   "metadata": {},
   "source": [
    "That's not very many and likely won't be able to impute well; let's drop them."
   ]
  },
  {
   "cell_type": "code",
   "execution_count": 97,
   "id": "ff599863-2474-4838-aa2e-b09da4ede78c",
   "metadata": {},
   "outputs": [],
   "source": [
    "# Identify rows where all specified columns are NaN\n",
    "rows_to_drop = df[columns_to_check].isna().all(axis=1)\n",
    "\n",
    "# Drop those rows\n",
    "df = df.drop(index=df[rows_to_drop].index)\n",
    "\n",
    "# Reset index after dropping rows\n",
    "df.reset_index(drop=True, inplace=True)"
   ]
  },
  {
   "cell_type": "markdown",
   "id": "87d12325-1c44-4052-a3b4-0e344508a6e4",
   "metadata": {},
   "source": [
    "There are a lot of NaN values in the injury columns. For now, I will fill those with a 0."
   ]
  },
  {
   "cell_type": "code",
   "execution_count": 98,
   "id": "7074ed75-bfb5-42f6-a8e9-0d8270f62223",
   "metadata": {},
   "outputs": [],
   "source": [
    "columns_to_fill = ['Total.Uninjured', 'Total.Minor.Injuries', 'Total.Serious.Injuries', 'Total.Fatal.Injuries']\n",
    "\n",
    "for col in columns_to_fill:\n",
    "    df[col] = df[col].fillna(0)"
   ]
  },
  {
   "cell_type": "code",
   "execution_count": 107,
   "id": "6fa5fc54-da09-4e83-9779-9b4ec68964ae",
   "metadata": {},
   "outputs": [
    {
     "data": {
      "text/plain": [
       "Country\n",
       "United States               66323\n",
       "Brazil                        332\n",
       "Mexico                        306\n",
       "Canada                        286\n",
       "United Kingdom                262\n",
       "                            ...  \n",
       "French Guiana                   1\n",
       "Chad                            1\n",
       "Cayenne                         1\n",
       "Yemen                           1\n",
       "Turks and Caicos Islands        1\n",
       "Name: count, Length: 204, dtype: int64"
      ]
     },
     "execution_count": 107,
     "metadata": {},
     "output_type": "execute_result"
    }
   ],
   "source": [
    "df['Country'].value_counts()"
   ]
  },
  {
   "cell_type": "markdown",
   "id": "e2643bf7-ec2d-4424-9bf8-783e03cbed3e",
   "metadata": {},
   "source": [
    "It seems like the vast majority of incidents are in the US. Lets keep the 3 primary North American countries and remove everything else."
   ]
  },
  {
   "cell_type": "code",
   "execution_count": 108,
   "id": "140fc6c4-97c4-4180-92da-282f7572bb65",
   "metadata": {},
   "outputs": [],
   "source": [
    "# List of flight types to drop\n",
    "countries_to_keep = ['Canada', 'United States', 'Mexico']\n",
    "\n",
    "# Drop the unwanted flight types\n",
    "df = df[df['Country'].isin(countries_to_keep)]"
   ]
  },
  {
   "cell_type": "markdown",
   "id": "2c296629-206f-4a6f-96d8-a82dd67d4116",
   "metadata": {},
   "source": [
    "Let's see where we're at now."
   ]
  },
  {
   "cell_type": "code",
   "execution_count": 110,
   "id": "aa0b679d-ee16-4bf9-af65-4482fd606955",
   "metadata": {},
   "outputs": [
    {
     "name": "stdout",
     "output_type": "stream",
     "text": [
      "                        Missing Values  Percentage\n",
      "Event.Id                             0         0.0\n",
      "Investigation.Type                   0         0.0\n",
      "Broad.phase.of.flight                0         0.0\n",
      "Weather.Condition                    0         0.0\n",
      "Total.Uninjured                      0         0.0\n",
      "Total.Minor.Injuries                 0         0.0\n",
      "Total.Serious.Injuries               0         0.0\n",
      "Total.Fatal.Injuries                 0         0.0\n",
      "Purpose.of.flight                    0         0.0\n",
      "Engine.Type                          0         0.0\n",
      "Number.of.Engines                    0         0.0\n",
      "Model                                0         0.0\n",
      "Make                                 0         0.0\n",
      "Aircraft.Category                    0         0.0\n",
      "Aircraft.damage                      0         0.0\n",
      "Airport.Name                         0         0.0\n",
      "Airport.Code                         0         0.0\n",
      "Country                              0         0.0\n",
      "Location                             0         0.0\n",
      "Event.Date                           0         0.0\n",
      "Accident.Number                      0         0.0\n",
      "Report.Status                        0         0.0\n"
     ]
    }
   ],
   "source": [
    "percent_data_missing(df)"
   ]
  },
  {
   "cell_type": "code",
   "execution_count": 111,
   "id": "72b239d6-8eb6-41c3-ac63-8e81f2929ff1",
   "metadata": {},
   "outputs": [
    {
     "name": "stdout",
     "output_type": "stream",
     "text": [
      "<class 'pandas.core.frame.DataFrame'>\n",
      "Index: 66915 entries, 0 to 71449\n",
      "Data columns (total 22 columns):\n",
      " #   Column                  Non-Null Count  Dtype         \n",
      "---  ------                  --------------  -----         \n",
      " 0   Event.Id                66915 non-null  object        \n",
      " 1   Investigation.Type      66915 non-null  object        \n",
      " 2   Accident.Number         66915 non-null  object        \n",
      " 3   Event.Date              66915 non-null  datetime64[ns]\n",
      " 4   Location                66915 non-null  object        \n",
      " 5   Country                 66915 non-null  object        \n",
      " 6   Airport.Code            66915 non-null  object        \n",
      " 7   Airport.Name            66915 non-null  object        \n",
      " 8   Aircraft.damage         66915 non-null  object        \n",
      " 9   Aircraft.Category       66915 non-null  object        \n",
      " 10  Make                    66915 non-null  object        \n",
      " 11  Model                   66915 non-null  object        \n",
      " 12  Number.of.Engines       66915 non-null  float64       \n",
      " 13  Engine.Type             66915 non-null  object        \n",
      " 14  Purpose.of.flight       66915 non-null  object        \n",
      " 15  Total.Fatal.Injuries    66915 non-null  float64       \n",
      " 16  Total.Serious.Injuries  66915 non-null  float64       \n",
      " 17  Total.Minor.Injuries    66915 non-null  float64       \n",
      " 18  Total.Uninjured         66915 non-null  float64       \n",
      " 19  Weather.Condition       66915 non-null  object        \n",
      " 20  Broad.phase.of.flight   66915 non-null  object        \n",
      " 21  Report.Status           66915 non-null  object        \n",
      "dtypes: datetime64[ns](1), float64(5), object(16)\n",
      "memory usage: 11.7+ MB\n"
     ]
    }
   ],
   "source": [
    "df.info()"
   ]
  },
  {
   "cell_type": "code",
   "execution_count": null,
   "id": "e146122c-81e0-4d54-8c4e-746678ea18da",
   "metadata": {},
   "outputs": [],
   "source": []
  }
 ],
 "metadata": {
  "kernelspec": {
   "display_name": "Python 3 (ipykernel)",
   "language": "python",
   "name": "python3"
  },
  "language_info": {
   "codemirror_mode": {
    "name": "ipython",
    "version": 3
   },
   "file_extension": ".py",
   "mimetype": "text/x-python",
   "name": "python",
   "nbconvert_exporter": "python",
   "pygments_lexer": "ipython3",
   "version": "3.9.19"
  }
 },
 "nbformat": 4,
 "nbformat_minor": 5
}
