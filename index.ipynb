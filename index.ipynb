{
 "cells": [
  {
   "cell_type": "markdown",
   "id": "785aae35-035a-4d0c-8b1f-5cbfbe5b7400",
   "metadata": {},
   "source": [
    "# Aircraft Safety Analysis for Business Expansion\n",
    "\n",
    "<img src=\"images/Flight-Safety-Instructions.jpg\">\n",
    "\n",
    "[Credit: Paxes.com](https://www.paxes.com/blog/flight-safety-instructions/)\n",
    "\n",
    "## Business Understanding\n",
    "\n",
    "My company has decided to expand into operating airplanes for commercial and private use. I have been tasked with examining the risks of different aircraft makes and models and making recommendations for the lowest-risk aircraft for purchase.\n",
    "\n",
    "I will aim to identify which aircraft models present the lowest risk in terms of safety. The key questions I'm seeking to answer include:\n",
    "- Which aircraft models have the lowest occurrences of severe injuries from high-damage events?\n",
    "- How do factors such as the number of engines and the purpose of flight impact the safety of the aircraft?\n",
    "\n",
    "## Data Understanding\n",
    "\n",
    "The dataset contains records of aircraft incidents and accidents from the NTSB up to 2023, including information on the event, location, aircraft characteristics, and injury severity. The dataset has 90,348 entries and 31 columns. Some key columns include:\n",
    "\n",
    "- `Event.Id`: Unique identifier for each event.\n",
    "- `Event.Date`: Date of the event.\n",
    "- `Location`: Location of the event.\n",
    "- `Country`: Country where the event occurred.\n",
    "- `Injury.Severity`: Severity of injuries in the event.\n",
    "- `Aircraft.damage`: Extent of damage to the aircraft.\n",
    "- `Make` and `Model`: Manufacturer and model of the aircraft.\n",
    "- `Number.of.Engines`: Number of engines on the aircraft.\n",
    "- `Purpose.of.flight`: The purpose of the flight during the event.\n",
    "\n",
    "There are 5 numerical columns and 26 categorical columns. Examples of numerical columns include `Number.of.Engines`, `Total.Fatal.Injuries`, `Total.Serious.Injuries`, `Total.Minor.Injuries`, and `Total.Uninjured`. Examples of categorical columns include `Event.Id`, `Investigation.Type`, `Accident.Number`, `Event.Date`, and `Location`.\n",
    "\n",
    "By following this structured approach, we will be able to gain insights into the safety of different aircraft models and provide actionable recommendations to the company's aviation division."
   ]
  },
  {
   "cell_type": "markdown",
   "id": "4da3b6e0-c453-4461-8996-7371d704bf60",
   "metadata": {},
   "source": [
    "# Data Preparation\n",
    "\n",
    "In this section, I will import our needed libraries for our notebook, import the data from a csv file, and begin cleaning and preparing the data for analysis using the following techniques:\n",
    "\n",
    "1. **Handling Duplicate Values**: Identify and remove duplicate rows.\n",
    "2. **Handling Unnecessary Values**: Identify and remove both columns and rows that are unnecessary to the analysis.\n",
    "3. **Handling Missing Values**: Identify and handle missing values appropriately, either by imputation, placeholders, or removal.\n",
    "4. **Data Type Conversion**: Convert columns to appropriate data types (e.g., dates to datetime objects, numerical columns to numeric types).\n",
    "5. **Feature Engineering**: Create new features through encoding categorical values into numerical values such as `Aircraft.Damage` and extract useful information for analysis such as the month and year from `Event.Date`."
   ]
  },
  {
   "cell_type": "code",
   "id": "f260f4a7-c720-4a55-acdb-6dbc3086eb2a",
   "metadata": {
    "ExecuteTime": {
     "end_time": "2024-06-27T16:58:13.524291Z",
     "start_time": "2024-06-27T16:58:13.492192Z"
    }
   },
   "source": [
    "# Importing necessary libraries\n",
    "%load_ext autoreload\n",
    "%autoreload 2\n",
    "import pandas as pd\n",
    "import matplotlib.pyplot as plt\n",
    "import seaborn as sns\n",
    "from tqdm import tqdm\n",
    "import helper_functions"
   ],
   "outputs": [],
   "execution_count": 1
  },
  {
   "cell_type": "code",
   "id": "4cedd316-75da-413b-9818-b8a92c559acb",
   "metadata": {
    "ExecuteTime": {
     "end_time": "2024-06-27T16:58:13.858781Z",
     "start_time": "2024-06-27T16:58:13.525125Z"
    }
   },
   "source": [
    "# Reading data from a CSV file\n",
    "df = pd.read_csv('data/Aviation_Data.csv')\n",
    "\n",
    "# Preview the data\n",
    "df.head()"
   ],
   "outputs": [
    {
     "name": "stderr",
     "output_type": "stream",
     "text": [
      "/var/folders/qs/svfy8y496zs3ryjhvjm063340000gn/T/ipykernel_36740/3991686835.py:2: DtypeWarning: Columns (6,7,28) have mixed types. Specify dtype option on import or set low_memory=False.\n",
      "  df = pd.read_csv('data/Aviation_Data.csv')\n"
     ]
    },
    {
     "data": {
      "text/plain": [
       "         Event.Id Investigation.Type Accident.Number  Event.Date  \\\n",
       "0  20001218X45444           Accident      SEA87LA080  1948-10-24   \n",
       "1  20001218X45447           Accident      LAX94LA336  1962-07-19   \n",
       "2  20061025X01555           Accident      NYC07LA005  1974-08-30   \n",
       "3  20001218X45448           Accident      LAX96LA321  1977-06-19   \n",
       "4  20041105X01764           Accident      CHI79FA064  1979-08-02   \n",
       "\n",
       "          Location        Country   Latitude  Longitude Airport.Code  \\\n",
       "0  MOOSE CREEK, ID  United States        NaN        NaN          NaN   \n",
       "1   BRIDGEPORT, CA  United States        NaN        NaN          NaN   \n",
       "2    Saltville, VA  United States  36.922223 -81.878056          NaN   \n",
       "3       EUREKA, CA  United States        NaN        NaN          NaN   \n",
       "4       Canton, OH  United States        NaN        NaN          NaN   \n",
       "\n",
       "  Airport.Name  ... Purpose.of.flight Air.carrier Total.Fatal.Injuries  \\\n",
       "0          NaN  ...          Personal         NaN                  2.0   \n",
       "1          NaN  ...          Personal         NaN                  4.0   \n",
       "2          NaN  ...          Personal         NaN                  3.0   \n",
       "3          NaN  ...          Personal         NaN                  2.0   \n",
       "4          NaN  ...          Personal         NaN                  1.0   \n",
       "\n",
       "  Total.Serious.Injuries Total.Minor.Injuries Total.Uninjured  \\\n",
       "0                    0.0                  0.0             0.0   \n",
       "1                    0.0                  0.0             0.0   \n",
       "2                    NaN                  NaN             NaN   \n",
       "3                    0.0                  0.0             0.0   \n",
       "4                    2.0                  NaN             0.0   \n",
       "\n",
       "  Weather.Condition  Broad.phase.of.flight   Report.Status Publication.Date  \n",
       "0               UNK                 Cruise  Probable Cause              NaN  \n",
       "1               UNK                Unknown  Probable Cause       19-09-1996  \n",
       "2               IMC                 Cruise  Probable Cause       26-02-2007  \n",
       "3               IMC                 Cruise  Probable Cause       12-09-2000  \n",
       "4               VMC               Approach  Probable Cause       16-04-1980  \n",
       "\n",
       "[5 rows x 31 columns]"
      ],
      "text/html": [
       "<div>\n",
       "<style scoped>\n",
       "    .dataframe tbody tr th:only-of-type {\n",
       "        vertical-align: middle;\n",
       "    }\n",
       "\n",
       "    .dataframe tbody tr th {\n",
       "        vertical-align: top;\n",
       "    }\n",
       "\n",
       "    .dataframe thead th {\n",
       "        text-align: right;\n",
       "    }\n",
       "</style>\n",
       "<table border=\"1\" class=\"dataframe\">\n",
       "  <thead>\n",
       "    <tr style=\"text-align: right;\">\n",
       "      <th></th>\n",
       "      <th>Event.Id</th>\n",
       "      <th>Investigation.Type</th>\n",
       "      <th>Accident.Number</th>\n",
       "      <th>Event.Date</th>\n",
       "      <th>Location</th>\n",
       "      <th>Country</th>\n",
       "      <th>Latitude</th>\n",
       "      <th>Longitude</th>\n",
       "      <th>Airport.Code</th>\n",
       "      <th>Airport.Name</th>\n",
       "      <th>...</th>\n",
       "      <th>Purpose.of.flight</th>\n",
       "      <th>Air.carrier</th>\n",
       "      <th>Total.Fatal.Injuries</th>\n",
       "      <th>Total.Serious.Injuries</th>\n",
       "      <th>Total.Minor.Injuries</th>\n",
       "      <th>Total.Uninjured</th>\n",
       "      <th>Weather.Condition</th>\n",
       "      <th>Broad.phase.of.flight</th>\n",
       "      <th>Report.Status</th>\n",
       "      <th>Publication.Date</th>\n",
       "    </tr>\n",
       "  </thead>\n",
       "  <tbody>\n",
       "    <tr>\n",
       "      <th>0</th>\n",
       "      <td>20001218X45444</td>\n",
       "      <td>Accident</td>\n",
       "      <td>SEA87LA080</td>\n",
       "      <td>1948-10-24</td>\n",
       "      <td>MOOSE CREEK, ID</td>\n",
       "      <td>United States</td>\n",
       "      <td>NaN</td>\n",
       "      <td>NaN</td>\n",
       "      <td>NaN</td>\n",
       "      <td>NaN</td>\n",
       "      <td>...</td>\n",
       "      <td>Personal</td>\n",
       "      <td>NaN</td>\n",
       "      <td>2.0</td>\n",
       "      <td>0.0</td>\n",
       "      <td>0.0</td>\n",
       "      <td>0.0</td>\n",
       "      <td>UNK</td>\n",
       "      <td>Cruise</td>\n",
       "      <td>Probable Cause</td>\n",
       "      <td>NaN</td>\n",
       "    </tr>\n",
       "    <tr>\n",
       "      <th>1</th>\n",
       "      <td>20001218X45447</td>\n",
       "      <td>Accident</td>\n",
       "      <td>LAX94LA336</td>\n",
       "      <td>1962-07-19</td>\n",
       "      <td>BRIDGEPORT, CA</td>\n",
       "      <td>United States</td>\n",
       "      <td>NaN</td>\n",
       "      <td>NaN</td>\n",
       "      <td>NaN</td>\n",
       "      <td>NaN</td>\n",
       "      <td>...</td>\n",
       "      <td>Personal</td>\n",
       "      <td>NaN</td>\n",
       "      <td>4.0</td>\n",
       "      <td>0.0</td>\n",
       "      <td>0.0</td>\n",
       "      <td>0.0</td>\n",
       "      <td>UNK</td>\n",
       "      <td>Unknown</td>\n",
       "      <td>Probable Cause</td>\n",
       "      <td>19-09-1996</td>\n",
       "    </tr>\n",
       "    <tr>\n",
       "      <th>2</th>\n",
       "      <td>20061025X01555</td>\n",
       "      <td>Accident</td>\n",
       "      <td>NYC07LA005</td>\n",
       "      <td>1974-08-30</td>\n",
       "      <td>Saltville, VA</td>\n",
       "      <td>United States</td>\n",
       "      <td>36.922223</td>\n",
       "      <td>-81.878056</td>\n",
       "      <td>NaN</td>\n",
       "      <td>NaN</td>\n",
       "      <td>...</td>\n",
       "      <td>Personal</td>\n",
       "      <td>NaN</td>\n",
       "      <td>3.0</td>\n",
       "      <td>NaN</td>\n",
       "      <td>NaN</td>\n",
       "      <td>NaN</td>\n",
       "      <td>IMC</td>\n",
       "      <td>Cruise</td>\n",
       "      <td>Probable Cause</td>\n",
       "      <td>26-02-2007</td>\n",
       "    </tr>\n",
       "    <tr>\n",
       "      <th>3</th>\n",
       "      <td>20001218X45448</td>\n",
       "      <td>Accident</td>\n",
       "      <td>LAX96LA321</td>\n",
       "      <td>1977-06-19</td>\n",
       "      <td>EUREKA, CA</td>\n",
       "      <td>United States</td>\n",
       "      <td>NaN</td>\n",
       "      <td>NaN</td>\n",
       "      <td>NaN</td>\n",
       "      <td>NaN</td>\n",
       "      <td>...</td>\n",
       "      <td>Personal</td>\n",
       "      <td>NaN</td>\n",
       "      <td>2.0</td>\n",
       "      <td>0.0</td>\n",
       "      <td>0.0</td>\n",
       "      <td>0.0</td>\n",
       "      <td>IMC</td>\n",
       "      <td>Cruise</td>\n",
       "      <td>Probable Cause</td>\n",
       "      <td>12-09-2000</td>\n",
       "    </tr>\n",
       "    <tr>\n",
       "      <th>4</th>\n",
       "      <td>20041105X01764</td>\n",
       "      <td>Accident</td>\n",
       "      <td>CHI79FA064</td>\n",
       "      <td>1979-08-02</td>\n",
       "      <td>Canton, OH</td>\n",
       "      <td>United States</td>\n",
       "      <td>NaN</td>\n",
       "      <td>NaN</td>\n",
       "      <td>NaN</td>\n",
       "      <td>NaN</td>\n",
       "      <td>...</td>\n",
       "      <td>Personal</td>\n",
       "      <td>NaN</td>\n",
       "      <td>1.0</td>\n",
       "      <td>2.0</td>\n",
       "      <td>NaN</td>\n",
       "      <td>0.0</td>\n",
       "      <td>VMC</td>\n",
       "      <td>Approach</td>\n",
       "      <td>Probable Cause</td>\n",
       "      <td>16-04-1980</td>\n",
       "    </tr>\n",
       "  </tbody>\n",
       "</table>\n",
       "<p>5 rows × 31 columns</p>\n",
       "</div>"
      ]
     },
     "execution_count": 2,
     "metadata": {},
     "output_type": "execute_result"
    }
   ],
   "execution_count": 2
  },
  {
   "cell_type": "code",
   "id": "523293c5-4878-4c7b-9a30-16bf423d1ae3",
   "metadata": {
    "ExecuteTime": {
     "end_time": "2024-06-27T16:58:13.921162Z",
     "start_time": "2024-06-27T16:58:13.860231Z"
    }
   },
   "source": [
    "# Get an overview of the types of data, features, and completeness of the data\n",
    "df.info()"
   ],
   "outputs": [
    {
     "name": "stdout",
     "output_type": "stream",
     "text": [
      "<class 'pandas.core.frame.DataFrame'>\n",
      "RangeIndex: 90348 entries, 0 to 90347\n",
      "Data columns (total 31 columns):\n",
      " #   Column                  Non-Null Count  Dtype  \n",
      "---  ------                  --------------  -----  \n",
      " 0   Event.Id                88889 non-null  object \n",
      " 1   Investigation.Type      90348 non-null  object \n",
      " 2   Accident.Number         88889 non-null  object \n",
      " 3   Event.Date              88889 non-null  object \n",
      " 4   Location                88837 non-null  object \n",
      " 5   Country                 88663 non-null  object \n",
      " 6   Latitude                34382 non-null  object \n",
      " 7   Longitude               34373 non-null  object \n",
      " 8   Airport.Code            50132 non-null  object \n",
      " 9   Airport.Name            52704 non-null  object \n",
      " 10  Injury.Severity         87889 non-null  object \n",
      " 11  Aircraft.damage         85695 non-null  object \n",
      " 12  Aircraft.Category       32287 non-null  object \n",
      " 13  Registration.Number     87507 non-null  object \n",
      " 14  Make                    88826 non-null  object \n",
      " 15  Model                   88797 non-null  object \n",
      " 16  Amateur.Built           88787 non-null  object \n",
      " 17  Number.of.Engines       82805 non-null  float64\n",
      " 18  Engine.Type             81793 non-null  object \n",
      " 19  FAR.Description         32023 non-null  object \n",
      " 20  Schedule                12582 non-null  object \n",
      " 21  Purpose.of.flight       82697 non-null  object \n",
      " 22  Air.carrier             16648 non-null  object \n",
      " 23  Total.Fatal.Injuries    77488 non-null  float64\n",
      " 24  Total.Serious.Injuries  76379 non-null  float64\n",
      " 25  Total.Minor.Injuries    76956 non-null  float64\n",
      " 26  Total.Uninjured         82977 non-null  float64\n",
      " 27  Weather.Condition       84397 non-null  object \n",
      " 28  Broad.phase.of.flight   61724 non-null  object \n",
      " 29  Report.Status           82505 non-null  object \n",
      " 30  Publication.Date        73659 non-null  object \n",
      "dtypes: float64(5), object(26)\n",
      "memory usage: 21.4+ MB\n"
     ]
    }
   ],
   "execution_count": 3
  },
  {
   "cell_type": "code",
   "id": "c68afe8b-61f9-4a4b-a68d-a7e453d16437",
   "metadata": {
    "ExecuteTime": {
     "end_time": "2024-06-27T16:58:14.170262Z",
     "start_time": "2024-06-27T16:58:13.922334Z"
    }
   },
   "source": [
    "# Dropping duplicate rows\n",
    "df.drop_duplicates(inplace=True)\n",
    "\n",
    "# Resetting the index\n",
    "df = df.reset_index(drop=True)\n",
    "\n",
    "# Re-check the overview\n",
    "df.info()"
   ],
   "outputs": [
    {
     "name": "stdout",
     "output_type": "stream",
     "text": [
      "<class 'pandas.core.frame.DataFrame'>\n",
      "RangeIndex: 88958 entries, 0 to 88957\n",
      "Data columns (total 31 columns):\n",
      " #   Column                  Non-Null Count  Dtype  \n",
      "---  ------                  --------------  -----  \n",
      " 0   Event.Id                88889 non-null  object \n",
      " 1   Investigation.Type      88958 non-null  object \n",
      " 2   Accident.Number         88889 non-null  object \n",
      " 3   Event.Date              88889 non-null  object \n",
      " 4   Location                88837 non-null  object \n",
      " 5   Country                 88663 non-null  object \n",
      " 6   Latitude                34382 non-null  object \n",
      " 7   Longitude               34373 non-null  object \n",
      " 8   Airport.Code            50132 non-null  object \n",
      " 9   Airport.Name            52704 non-null  object \n",
      " 10  Injury.Severity         87889 non-null  object \n",
      " 11  Aircraft.damage         85695 non-null  object \n",
      " 12  Aircraft.Category       32287 non-null  object \n",
      " 13  Registration.Number     87507 non-null  object \n",
      " 14  Make                    88826 non-null  object \n",
      " 15  Model                   88797 non-null  object \n",
      " 16  Amateur.Built           88787 non-null  object \n",
      " 17  Number.of.Engines       82805 non-null  float64\n",
      " 18  Engine.Type             81793 non-null  object \n",
      " 19  FAR.Description         32023 non-null  object \n",
      " 20  Schedule                12582 non-null  object \n",
      " 21  Purpose.of.flight       82697 non-null  object \n",
      " 22  Air.carrier             16648 non-null  object \n",
      " 23  Total.Fatal.Injuries    77488 non-null  float64\n",
      " 24  Total.Serious.Injuries  76379 non-null  float64\n",
      " 25  Total.Minor.Injuries    76956 non-null  float64\n",
      " 26  Total.Uninjured         82977 non-null  float64\n",
      " 27  Weather.Condition       84397 non-null  object \n",
      " 28  Broad.phase.of.flight   61724 non-null  object \n",
      " 29  Report.Status           82505 non-null  object \n",
      " 30  Publication.Date        73659 non-null  object \n",
      "dtypes: float64(5), object(26)\n",
      "memory usage: 21.0+ MB\n"
     ]
    }
   ],
   "execution_count": 4
  },
  {
   "cell_type": "markdown",
   "id": "18720f56-9949-4572-bea8-81f065cb685a",
   "metadata": {},
   "source": "Removed 1390 duplicated rows."
  },
  {
   "cell_type": "code",
   "id": "592b3ab9-735e-4770-afe6-72933c608556",
   "metadata": {
    "ExecuteTime": {
     "end_time": "2024-06-27T16:58:14.194334Z",
     "start_time": "2024-06-27T16:58:14.172259Z"
    }
   },
   "source": [
    "# Function to display missing data for each column in numberical and percentage format\n",
    "def percent_data_missing(df):\n",
    "    # Summing the null values for each column\n",
    "    missing_data_summary = df.isnull().sum().sort_values(ascending=False)\n",
    "    # Converting to a percentage format\n",
    "    missing_data_percentage = (df.isnull().sum() / len(df) * 100).sort_values(ascending=False)\n",
    "    \n",
    "    missing_data_df = pd.DataFrame({'Missing Values': missing_data_summary, 'Percentage': missing_data_percentage})\n",
    "    # Display info to the user\n",
    "    print(missing_data_df)"
   ],
   "outputs": [],
   "execution_count": 5
  },
  {
   "cell_type": "code",
   "id": "7255f229-0d70-48c0-a947-18e224dd193e",
   "metadata": {
    "ExecuteTime": {
     "end_time": "2024-06-27T16:58:14.309980Z",
     "start_time": "2024-06-27T16:58:14.195261Z"
    }
   },
   "source": [
    "percent_data_missing(df)"
   ],
   "outputs": [
    {
     "name": "stdout",
     "output_type": "stream",
     "text": [
      "                        Missing Values  Percentage\n",
      "Schedule                         76376   85.856247\n",
      "Air.carrier                      72310   81.285550\n",
      "FAR.Description                  56935   64.002113\n",
      "Aircraft.Category                56671   63.705344\n",
      "Longitude                        54585   61.360417\n",
      "Latitude                         54576   61.350300\n",
      "Airport.Code                     38826   43.645316\n",
      "Airport.Name                     36254   40.754064\n",
      "Broad.phase.of.flight            27234   30.614447\n",
      "Publication.Date                 15299   17.198004\n",
      "Total.Serious.Injuries           12579   14.140381\n",
      "Total.Minor.Injuries             12002   13.491760\n",
      "Total.Fatal.Injuries             11470   12.893725\n",
      "Engine.Type                       7165    8.054363\n",
      "Report.Status                     6453    7.253985\n",
      "Purpose.of.flight                 6261    7.038153\n",
      "Number.of.Engines                 6153    6.916747\n",
      "Total.Uninjured                   5981    6.723398\n",
      "Weather.Condition                 4561    5.127139\n",
      "Aircraft.damage                   3263    3.668023\n",
      "Registration.Number               1451    1.631107\n",
      "Injury.Severity                   1069    1.201691\n",
      "Country                            295    0.331617\n",
      "Amateur.Built                      171    0.192226\n",
      "Model                              161    0.180984\n",
      "Make                               132    0.148385\n",
      "Location                           121    0.136019\n",
      "Event.Date                          69    0.077565\n",
      "Accident.Number                     69    0.077565\n",
      "Event.Id                            69    0.077565\n",
      "Investigation.Type                   0    0.000000\n"
     ]
    }
   ],
   "execution_count": 6
  },
  {
   "cell_type": "markdown",
   "id": "fc327dfd-ac46-4548-866a-6cf7902d5940",
   "metadata": {},
   "source": [
    "`Aircraft.Category` is something I'd like to be able to filter on and there are a ton of missing values. I want to see if we can glean that information from matching values in other columns. This is a great case for a function as we can probably use it for filling in other missing values later on."
   ]
  },
  {
   "cell_type": "code",
   "id": "0f55ba35-f116-4320-b470-4023f0a1c081",
   "metadata": {
    "ExecuteTime": {
     "end_time": "2024-06-27T16:58:14.344189Z",
     "start_time": "2024-06-27T16:58:14.311979Z"
    }
   },
   "source": [
    "# Function that searches a user-specified column to fill null values on in a provided dataframe,\n",
    "# and a column to reference and find correct values to change nulls into.\n",
    "def fill_nan_column_with_mode(df, column_to_fill, reference_column):\n",
    "    nan_indices = df[df[column_to_fill].isna()].index.tolist()\n",
    "    \n",
    "    # Use tqdm to create a progress bar\n",
    "    for index in tqdm(nan_indices, desc=f\"Filling NaN values in '{column_to_fill}'\"):\n",
    "        row = df.loc[index]\n",
    "        ref_value = row[reference_column]\n",
    "        \n",
    "        # If reference value is NaN, skip this row\n",
    "        if pd.isna(ref_value):\n",
    "            continue\n",
    "        \n",
    "        # Create a temporary DataFrame with the same reference value\n",
    "        temp_df = df[df[reference_column] == ref_value]\n",
    "        \n",
    "        # Drop rows where the column to fill is NaN\n",
    "        temp_df = temp_df.dropna(subset=[column_to_fill])\n",
    "        \n",
    "        # If temp_df is not empty, calculate the mode\n",
    "        if not temp_df.empty:\n",
    "            mode_value = temp_df[column_to_fill].mode()\n",
    "            \n",
    "            if not mode_value.empty:\n",
    "                # Fill the NaN value with the mode\n",
    "                df.at[index, column_to_fill] = mode_value.iloc[0]\n",
    "                \n",
    "    return df"
   ],
   "outputs": [],
   "execution_count": 7
  },
  {
   "cell_type": "code",
   "id": "67080a6c-1000-4f39-817f-2773572a1bf6",
   "metadata": {
    "ExecuteTime": {
     "end_time": "2024-06-27T17:01:29.686808Z",
     "start_time": "2024-06-27T16:58:14.345856Z"
    }
   },
   "source": [
    "# Checking for Aircraft.Category values in same Model\n",
    "df = fill_nan_column_with_mode(df, 'Aircraft.Category', 'Model')"
   ],
   "outputs": [
    {
     "name": "stderr",
     "output_type": "stream",
     "text": [
      "Filling NaN values in 'Aircraft.Category': 100%|██████████| 56671/56671 [03:15<00:00, 290.20it/s]\n"
     ]
    }
   ],
   "execution_count": 8
  },
  {
   "cell_type": "markdown",
   "id": "f4f0a707-5b70-48bf-afa7-cf02f9da1d81",
   "metadata": {},
   "source": "That saved 48,323 data points in the `Aircraft.Category` column."
  },
  {
   "cell_type": "markdown",
   "id": "e5a2fd05-2fd1-4405-8c22-311666a55eee",
   "metadata": {},
   "source": [
    "Now I want to take a look at the aircraft categories to see if there are any we should exclude"
   ]
  },
  {
   "cell_type": "code",
   "id": "15f62457-4bad-4edf-b3ff-b0389e775634",
   "metadata": {
    "ExecuteTime": {
     "end_time": "2024-06-27T17:01:29.756813Z",
     "start_time": "2024-06-27T17:01:29.690658Z"
    }
   },
   "source": [
    "df['Aircraft.Category'].value_counts()"
   ],
   "outputs": [
    {
     "data": {
      "text/plain": [
       "Aircraft.Category\n",
       "Airplane             70768\n",
       "Helicopter            7646\n",
       "Glider                 989\n",
       "Balloon                470\n",
       "Gyrocraft              266\n",
       "Weight-Shift           165\n",
       "Powered Parachute       95\n",
       "Ultralight              33\n",
       "Unknown                 15\n",
       "WSFT                     9\n",
       "Blimp                    7\n",
       "Powered-Lift             6\n",
       "UNK                      2\n",
       "Rocket                   1\n",
       "ULTR                     1\n",
       "Name: count, dtype: int64"
      ]
     },
     "execution_count": 9,
     "metadata": {},
     "output_type": "execute_result"
    }
   ],
   "execution_count": 9
  },
  {
   "cell_type": "code",
   "id": "5901b90b-1c55-4f6d-8d77-986c1d555c1d",
   "metadata": {
    "ExecuteTime": {
     "end_time": "2024-06-27T17:01:29.795744Z",
     "start_time": "2024-06-27T17:01:29.757997Z"
    }
   },
   "source": [
    "# For now, I'm only wanting to keep Aircraft.Category values of 'Airplane', and 'Helicopter'\n",
    "aircraft_cats_to_keep = ['Airplane', 'Helicopter']\n",
    "\n",
    "df = df[df['Aircraft.Category'].isin(aircraft_cats_to_keep)]"
   ],
   "outputs": [],
   "execution_count": 10
  },
  {
   "cell_type": "code",
   "id": "a2c79a3c-c6b8-445c-9dc4-f603d9841a7c",
   "metadata": {
    "ExecuteTime": {
     "end_time": "2024-06-27T17:01:29.822542Z",
     "start_time": "2024-06-27T17:01:29.797116Z"
    }
   },
   "source": [
    "# `Schedule`, `Air.Carrier`, `FAR.Description`, `Latitude`, and `Longitude` all have missing data from over 60% of the rows.\n",
    "# `Registration.Number`, `Airport.Name`, `Airport.Code`, and `Report.Status` cannot be imputed and is not helpful to the analysis.\n",
    "# Dropping those columns\n",
    "df.drop(columns=['Schedule', 'Air.carrier', 'FAR.Description', 'Latitude', 'Longitude', 'Registration.Number', 'Airport.Name', 'Airport.Code', 'Report.Status'], inplace=True)"
   ],
   "outputs": [],
   "execution_count": 11
  },
  {
   "cell_type": "code",
   "id": "c540d379-0d22-46b0-a4f0-ff2d41f74437",
   "metadata": {
    "ExecuteTime": {
     "end_time": "2024-06-27T17:01:29.974410Z",
     "start_time": "2024-06-27T17:01:29.823537Z"
    }
   },
   "source": [
    "# Dropping rows with <1% of missing values\n",
    "\n",
    "# Attempting to impute Make from Model\n",
    "df = fill_nan_column_with_mode(df, 'Model', 'Make')\n",
    "\n",
    "# Dropping remaining rows with <1% missing values\n",
    "df.dropna(subset=['Event.Id', 'Accident.Number', 'Event.Date', 'Location', 'Amateur.Built', 'Country', 'Make', 'Model'], inplace=True)"
   ],
   "outputs": [
    {
     "name": "stderr",
     "output_type": "stream",
     "text": [
      "Filling NaN values in 'Model': 100%|██████████| 33/33 [00:00<00:00, 304.18it/s]\n"
     ]
    }
   ],
   "execution_count": 12
  },
  {
   "cell_type": "code",
   "id": "d3ec8626-9f12-42b0-ad93-c103af600536",
   "metadata": {
    "ExecuteTime": {
     "end_time": "2024-06-27T17:01:29.995995Z",
     "start_time": "2024-06-27T17:01:29.975801Z"
    }
   },
   "source": [
    "# Investigating makeup of amateur built aircraft\n",
    "df['Amateur.Built'].value_counts()"
   ],
   "outputs": [
    {
     "data": {
      "text/plain": [
       "Amateur.Built\n",
       "No     72394\n",
       "Yes     5692\n",
       "Name: count, dtype: int64"
      ]
     },
     "execution_count": 13,
     "metadata": {},
     "output_type": "execute_result"
    }
   ],
   "execution_count": 13
  },
  {
   "cell_type": "code",
   "id": "b278c375-1a02-4e59-8700-d3a8da2edc36",
   "metadata": {
    "ExecuteTime": {
     "end_time": "2024-06-27T17:01:30.046808Z",
     "start_time": "2024-06-27T17:01:29.997170Z"
    }
   },
   "source": [
    "# Dropping all amateur built aircraft\n",
    "df = df[df['Amateur.Built'] != 'Yes']\n",
    "# Dropping the `Amateur.Built` column\n",
    "df.drop(columns=['Amateur.Built'], inplace=True)"
   ],
   "outputs": [],
   "execution_count": 14
  },
  {
   "cell_type": "markdown",
   "id": "da77a542-90d5-413d-bca9-057915842772",
   "metadata": {},
   "source": [
    "`Injury.Severity` might be something that could help us with our safety determinations:"
   ]
  },
  {
   "cell_type": "code",
   "id": "f8592833-2e60-49f6-a546-9155406d0344",
   "metadata": {
    "ExecuteTime": {
     "end_time": "2024-06-27T17:01:30.090913Z",
     "start_time": "2024-06-27T17:01:30.051422Z"
    }
   },
   "source": [
    "# Investigating `Injury.Severity`\n",
    "df['Injury.Severity'].unique()"
   ],
   "outputs": [
    {
     "data": {
      "text/plain": [
       "array(['Fatal(2)', 'Fatal(3)', 'Fatal(1)', 'Non-Fatal', 'Fatal(4)',\n",
       "       'Incident', 'Fatal(8)', 'Fatal(78)', 'Fatal(7)', 'Fatal(6)',\n",
       "       'Fatal(5)', 'Fatal(12)', 'Fatal(14)', 'Fatal(10)', 'Fatal(11)',\n",
       "       'Fatal(17)', 'Fatal(13)', 'Fatal(29)', 'Fatal(9)', 'Unavailable',\n",
       "       'Fatal(135)', 'Fatal(25)', 'Fatal(82)', 'Fatal(156)', 'Fatal(18)',\n",
       "       'Fatal(144)', 'Fatal(111)', 'Fatal(20)', 'Fatal(73)', 'Fatal(27)',\n",
       "       'Fatal(34)', 'Fatal(87)', 'Fatal(16)', 'Fatal(56)', 'Fatal(37)',\n",
       "       'Fatal(54)', 'Fatal(65)', 'Fatal(160)', 'Fatal(189)', 'Fatal(97)',\n",
       "       'Fatal(125)', 'Fatal(228)', 'Fatal(52)', 'Fatal(15)', 'Fatal(229)',\n",
       "       'Fatal(80)', 'Fatal(169)', 'Fatal(88)', 'Fatal(131)', 'Fatal(60)',\n",
       "       'Fatal(143)', 'Fatal(83)', 'Fatal(24)', 'Fatal(44)', 'Fatal(64)',\n",
       "       'Fatal(92)', 'Fatal(19)', 'Fatal(26)', 'Fatal(138)', 'Fatal(206)',\n",
       "       'Fatal(71)', 'Fatal(23)', 'Fatal(21)', 'Fatal(115)', 'Fatal(141)',\n",
       "       'Fatal(121)', 'Fatal(45)', 'Fatal(145)', 'Fatal(117)',\n",
       "       'Fatal(107)', 'Fatal(113)', 'Fatal(154)', 'Fatal(96)',\n",
       "       'Fatal(102)', 'Fatal(199)', 'Fatal(89)', 'Fatal', nan, 'Minor',\n",
       "       'Serious'], dtype=object)"
      ]
     },
     "execution_count": 15,
     "metadata": {},
     "output_type": "execute_result"
    }
   ],
   "execution_count": 15
  },
  {
   "cell_type": "markdown",
   "id": "acd9dcaf-8556-44d8-ae8b-2136e62363bc",
   "metadata": {},
   "source": [
    "There are a lot of different variations of \"Fatal\" in this column. All with numbers in parenthesis following the value. Let's compare these to a sample of the `Total.Fatal.Injuries` column."
   ]
  },
  {
   "cell_type": "code",
   "id": "9b6bab18-2f05-458e-be99-740d57db4ad9",
   "metadata": {
    "ExecuteTime": {
     "end_time": "2024-06-27T17:01:30.137473Z",
     "start_time": "2024-06-27T17:01:30.093547Z"
    }
   },
   "source": [
    "# Comparing `Injury.Severity` column to `Total.Fatal.Injuries` column\n",
    "df[df['Injury.Severity'] == 'Fatal(2)']['Total.Fatal.Injuries']"
   ],
   "outputs": [
    {
     "data": {
      "text/plain": [
       "0        2.0\n",
       "3        2.0\n",
       "15       2.0\n",
       "24       2.0\n",
       "33       2.0\n",
       "        ... \n",
       "63822    2.0\n",
       "63823    2.0\n",
       "63826    2.0\n",
       "63828    2.0\n",
       "63874    2.0\n",
       "Name: Total.Fatal.Injuries, Length: 2972, dtype: float64"
      ]
     },
     "execution_count": 16,
     "metadata": {},
     "output_type": "execute_result"
    }
   ],
   "execution_count": 16
  },
  {
   "cell_type": "code",
   "id": "62c7b964-6a9e-46b9-ac0b-13ee7752f21a",
   "metadata": {
    "ExecuteTime": {
     "end_time": "2024-06-27T17:01:30.167736Z",
     "start_time": "2024-06-27T17:01:30.140232Z"
    }
   },
   "source": [
    "# Unique values of `Injury.Severity` appear to be duplicated in other columns.\n",
    "# Dropping `Injury.Severity` column.\n",
    "df.drop(columns=['Injury.Severity'], inplace=True)"
   ],
   "outputs": [],
   "execution_count": 17
  },
  {
   "cell_type": "code",
   "id": "f34a36ea-8de2-4ceb-a7fa-c2f85df9c989",
   "metadata": {
    "ExecuteTime": {
     "end_time": "2024-06-27T17:01:30.192763Z",
     "start_time": "2024-06-27T17:01:30.168516Z"
    }
   },
   "source": [
    "# There are two 'date' columns and I am only interested in the date of the event.\n",
    "# Dropping `Publication.Date` column\n",
    "df.drop(columns=['Publication.Date'], inplace=True)"
   ],
   "outputs": [],
   "execution_count": 18
  },
  {
   "cell_type": "code",
   "id": "47817651-d03a-4518-a92b-1bd867fbb576",
   "metadata": {
    "ExecuteTime": {
     "end_time": "2024-06-27T17:01:30.220788Z",
     "start_time": "2024-06-27T17:01:30.194500Z"
    }
   },
   "source": [
    "# Converting `Event.Date` into a datetime object\n",
    "df['Event.Date'] = pd.to_datetime(df['Event.Date'])"
   ],
   "outputs": [],
   "execution_count": 19
  },
  {
   "cell_type": "code",
   "id": "82726f13-7409-4e31-886c-2b8d03361cc7",
   "metadata": {
    "ExecuteTime": {
     "end_time": "2024-06-27T17:01:30.238150Z",
     "start_time": "2024-06-27T17:01:30.222028Z"
    }
   },
   "source": [
    "# Moving onto `Weather.Conditions`\n",
    "df['Weather.Condition'].unique()"
   ],
   "outputs": [
    {
     "data": {
      "text/plain": [
       "array(['UNK', 'IMC', 'VMC', nan, 'Unk'], dtype=object)"
      ]
     },
     "execution_count": 20,
     "metadata": {},
     "output_type": "execute_result"
    }
   ],
   "execution_count": 20
  },
  {
   "cell_type": "code",
   "id": "c722dba8-5028-4365-8899-dd4de3810115",
   "metadata": {
    "ExecuteTime": {
     "end_time": "2024-06-27T17:01:30.262096Z",
     "start_time": "2024-06-27T17:01:30.240457Z"
    }
   },
   "source": [
    "# Filling null values with 'UNK'\n",
    "df['Weather.Condition'] = df['Weather.Condition'].fillna('UNK')"
   ],
   "outputs": [],
   "execution_count": 21
  },
  {
   "cell_type": "code",
   "id": "0fb1b349-9f35-4f72-9b20-d6a0fd8117b5",
   "metadata": {
    "ExecuteTime": {
     "end_time": "2024-06-27T17:01:30.295719Z",
     "start_time": "2024-06-27T17:01:30.263037Z"
    }
   },
   "source": [
    "# Function to rename column values (case insensitive)\n",
    "def rename_value(df, col_name, old_value, new_value):\n",
    "    # Setting old value to new value\n",
    "    df.loc[df[col_name].str.lower().str.contains(old_value.lower()), col_name] = new_value\n",
    "\n",
    "rename_value(df, 'Weather.Condition', 'Unk', 'UNK')\n",
    "\n",
    "df['Weather.Condition'].unique()"
   ],
   "outputs": [
    {
     "data": {
      "text/plain": [
       "array(['UNK', 'IMC', 'VMC'], dtype=object)"
      ]
     },
     "execution_count": 22,
     "metadata": {},
     "output_type": "execute_result"
    }
   ],
   "execution_count": 22
  },
  {
   "cell_type": "code",
   "id": "68cba7ed-82b3-4835-a660-a7544ba24478",
   "metadata": {
    "ExecuteTime": {
     "end_time": "2024-06-27T17:01:30.324671Z",
     "start_time": "2024-06-27T17:01:30.296932Z"
    }
   },
   "source": [
    "# Investigating the `Broad.phase.of.flight` column\n",
    "df['Broad.phase.of.flight'].unique()"
   ],
   "outputs": [
    {
     "data": {
      "text/plain": [
       "array(['Cruise', 'Approach', 'Climb', 'Unknown', 'Takeoff', 'Landing',\n",
       "       'Taxi', 'Descent', 'Maneuvering', 'Standing', 'Go-around', 'Other',\n",
       "       nan], dtype=object)"
      ]
     },
     "execution_count": 23,
     "metadata": {},
     "output_type": "execute_result"
    }
   ],
   "execution_count": 23
  },
  {
   "cell_type": "code",
   "id": "ae68cd5d-1289-4e12-8ff1-5fbac85dbfb7",
   "metadata": {
    "ExecuteTime": {
     "end_time": "2024-06-27T17:01:30.341955Z",
     "start_time": "2024-06-27T17:01:30.325802Z"
    }
   },
   "source": [
    "# Filling null values with 'Unknown'\n",
    "df['Broad.phase.of.flight'] = df['Broad.phase.of.flight'].fillna('Unknown')"
   ],
   "outputs": [],
   "execution_count": 24
  },
  {
   "cell_type": "code",
   "id": "40cc9ad7-651b-4ceb-8e6d-8551ba0cc493",
   "metadata": {
    "ExecuteTime": {
     "end_time": "2024-06-27T17:01:30.359316Z",
     "start_time": "2024-06-27T17:01:30.342892Z"
    }
   },
   "source": [
    "# Investigating `Purpose.of.flight` column\n",
    "df['Purpose.of.flight'].unique()"
   ],
   "outputs": [
    {
     "data": {
      "text/plain": [
       "array(['Personal', nan, 'Business', 'Instructional', 'Unknown', 'Ferry',\n",
       "       'Executive/corporate', 'Aerial Observation', 'Aerial Application',\n",
       "       'Public Aircraft', 'Skydiving', 'Other Work Use', 'Positioning',\n",
       "       'Flight Test', 'Air Race/show', 'Air Drop',\n",
       "       'Public Aircraft - Federal', 'Glider Tow',\n",
       "       'Public Aircraft - Local', 'External Load',\n",
       "       'Public Aircraft - State', 'Banner Tow', 'Firefighting',\n",
       "       'Air Race show', 'PUBS', 'ASHO', 'PUBL'], dtype=object)"
      ]
     },
     "execution_count": 25,
     "metadata": {},
     "output_type": "execute_result"
    }
   ],
   "execution_count": 25
  },
  {
   "cell_type": "code",
   "id": "795e414a-6390-43f6-a7e5-85e74f994266",
   "metadata": {
    "ExecuteTime": {
     "end_time": "2024-06-27T17:01:30.381894Z",
     "start_time": "2024-06-27T17:01:30.360563Z"
    }
   },
   "source": [
    "# Filling null values with 'Unknown'\n",
    "df['Purpose.of.flight'] = df['Purpose.of.flight'].fillna('Unknown')"
   ],
   "outputs": [],
   "execution_count": 26
  },
  {
   "cell_type": "code",
   "id": "96b621b0-6d6b-49ef-a395-023ce45198bb",
   "metadata": {
    "ExecuteTime": {
     "end_time": "2024-06-27T17:01:30.414714Z",
     "start_time": "2024-06-27T17:01:30.389081Z"
    }
   },
   "source": [
    "# There are some flight types in here that likely don't apply to our business case so let's drop them\n",
    "# List of flight types to drop\n",
    "flight_types_to_drop = ['Air Drop', 'Air Race/show', 'Firefighting', 'Glider Tow', 'Air Race show', 'Flight Test']\n",
    "\n",
    "# Drop the unwanted flight types\n",
    "df = df[~df['Purpose.of.flight'].isin(flight_types_to_drop)]"
   ],
   "outputs": [],
   "execution_count": 27
  },
  {
   "cell_type": "code",
   "id": "18203e05-b9e4-458a-bf5c-6793b80639e8",
   "metadata": {
    "ExecuteTime": {
     "end_time": "2024-06-27T17:01:43.120879Z",
     "start_time": "2024-06-27T17:01:30.416886Z"
    }
   },
   "source": [
    "# Attempting to fill missing `Number.of.Engines` values with other `Model` matches then dropping the remaining null values.\n",
    "df = fill_nan_column_with_mode(df, 'Number.of.Engines', 'Model')\n",
    "\n",
    "df = df.dropna(subset=['Number.of.Engines'])"
   ],
   "outputs": [
    {
     "name": "stderr",
     "output_type": "stream",
     "text": [
      "Filling NaN values in 'Number.of.Engines': 100%|██████████| 4404/4404 [00:12<00:00, 347.49it/s]\n"
     ]
    }
   ],
   "execution_count": 28
  },
  {
   "cell_type": "code",
   "id": "4a0e2494-239a-47e8-9dda-0a16ffa683e2",
   "metadata": {
    "ExecuteTime": {
     "end_time": "2024-06-27T17:01:57.966880Z",
     "start_time": "2024-06-27T17:01:43.121965Z"
    }
   },
   "source": [
    "# Attempting to fill missing `Engine.Type` values with other `Model` matches then filling null values with 'UNK'\n",
    "df = fill_nan_column_with_mode(df, 'Engine.Type', 'Model')\n",
    "\n",
    "df['Engine.Type'] = df['Engine.Type'].fillna('UNK')"
   ],
   "outputs": [
    {
     "name": "stderr",
     "output_type": "stream",
     "text": [
      "Filling NaN values in 'Engine.Type': 100%|██████████| 5219/5219 [00:14<00:00, 352.85it/s]\n"
     ]
    }
   ],
   "execution_count": 29
  },
  {
   "cell_type": "code",
   "id": "847a4769-2592-48d0-94a7-082ab17b51c5",
   "metadata": {
    "ExecuteTime": {
     "end_time": "2024-06-27T17:01:57.989910Z",
     "start_time": "2024-06-27T17:01:57.968113Z"
    }
   },
   "source": [
    "# Filling null `Aircraft.Damage` values with 'Unknown`\n",
    "df['Aircraft.damage'] = df['Aircraft.damage'].fillna('Unknown')"
   ],
   "outputs": [],
   "execution_count": 30
  },
  {
   "cell_type": "code",
   "id": "7b6ff946-793d-4835-8a87-89d4b518c46f",
   "metadata": {
    "ExecuteTime": {
     "end_time": "2024-06-27T17:01:58.005322Z",
     "start_time": "2024-06-27T17:01:57.990624Z"
    }
   },
   "source": [
    "# I want to see how many rows have zero values for all injury and uninjured columns\n",
    "# Specify the columns to check\n",
    "columns_to_check = ['Total.Uninjured', 'Total.Minor.Injuries', 'Total.Serious.Injuries', 'Total.Fatal.Injuries']\n",
    "\n",
    "# Count rows where all specified columns are NaN\n",
    "num_rows_all_nan = df[columns_to_check].isna().all(axis=1).sum()\n",
    "\n",
    "print(f\"Number of rows with NaN in all specified columns: {num_rows_all_nan}\")"
   ],
   "outputs": [
    {
     "name": "stdout",
     "output_type": "stream",
     "text": [
      "Number of rows with NaN in all specified columns: 116\n"
     ]
    }
   ],
   "execution_count": 31
  },
  {
   "cell_type": "code",
   "id": "ff599863-2474-4838-aa2e-b09da4ede78c",
   "metadata": {
    "ExecuteTime": {
     "end_time": "2024-06-27T17:01:58.028929Z",
     "start_time": "2024-06-27T17:01:58.006723Z"
    }
   },
   "source": [
    "# There aren't many rows that meet this criteria so I will drop them\n",
    "# Identify rows where all specified columns are NaN\n",
    "rows_to_drop = df[columns_to_check].isna().all(axis=1)\n",
    "\n",
    "# Drop those rows\n",
    "df = df.drop(index=df[rows_to_drop].index)\n",
    "\n",
    "# Reset index after dropping rows\n",
    "df.reset_index(drop=True, inplace=True)"
   ],
   "outputs": [],
   "execution_count": 32
  },
  {
   "cell_type": "code",
   "id": "7074ed75-bfb5-42f6-a8e9-0d8270f62223",
   "metadata": {
    "ExecuteTime": {
     "end_time": "2024-06-27T17:01:58.043631Z",
     "start_time": "2024-06-27T17:01:58.029682Z"
    }
   },
   "source": [
    "# Filling the missing values in the 'injury' columns with 0\n",
    "columns_to_fill = ['Total.Uninjured', 'Total.Minor.Injuries', 'Total.Serious.Injuries', 'Total.Fatal.Injuries']\n",
    "\n",
    "for col in columns_to_fill:\n",
    "    df[col] = df[col].fillna(0)"
   ],
   "outputs": [],
   "execution_count": 33
  },
  {
   "cell_type": "code",
   "id": "6fa5fc54-da09-4e83-9779-9b4ec68964ae",
   "metadata": {
    "ExecuteTime": {
     "end_time": "2024-06-27T17:01:58.059626Z",
     "start_time": "2024-06-27T17:01:58.044286Z"
    }
   },
   "source": [
    "# Investigating the `Country` values\n",
    "df['Country'].value_counts()"
   ],
   "outputs": [
    {
     "data": {
      "text/plain": [
       "Country\n",
       "United States               66323\n",
       "Brazil                        332\n",
       "Mexico                        306\n",
       "Canada                        286\n",
       "United Kingdom                262\n",
       "                            ...  \n",
       "French Guiana                   1\n",
       "Chad                            1\n",
       "Cayenne                         1\n",
       "Yemen                           1\n",
       "Turks and Caicos Islands        1\n",
       "Name: count, Length: 204, dtype: int64"
      ]
     },
     "execution_count": 34,
     "metadata": {},
     "output_type": "execute_result"
    }
   ],
   "execution_count": 34
  },
  {
   "cell_type": "code",
   "id": "140fc6c4-97c4-4180-92da-282f7572bb65",
   "metadata": {
    "ExecuteTime": {
     "end_time": "2024-06-27T17:01:58.084411Z",
     "start_time": "2024-06-27T17:01:58.061245Z"
    }
   },
   "source": [
    "# Vast majority of incidents are in North America so I'll drop everything else\n",
    "# List of flight types to drop\n",
    "countries_to_keep = ['Canada', 'United States', 'Mexico']\n",
    "\n",
    "# Drop the unwanted flight types\n",
    "df = df[df['Country'].isin(countries_to_keep)]"
   ],
   "outputs": [],
   "execution_count": 35
  },
  {
   "cell_type": "code",
   "id": "aa0b679d-ee16-4bf9-af65-4482fd606955",
   "metadata": {
    "ExecuteTime": {
     "end_time": "2024-06-27T17:01:58.140945Z",
     "start_time": "2024-06-27T17:01:58.085177Z"
    }
   },
   "source": [
    "percent_data_missing(df)"
   ],
   "outputs": [
    {
     "name": "stdout",
     "output_type": "stream",
     "text": [
      "                        Missing Values  Percentage\n",
      "Event.Id                             0         0.0\n",
      "Number.of.Engines                    0         0.0\n",
      "Weather.Condition                    0         0.0\n",
      "Total.Uninjured                      0         0.0\n",
      "Total.Minor.Injuries                 0         0.0\n",
      "Total.Serious.Injuries               0         0.0\n",
      "Total.Fatal.Injuries                 0         0.0\n",
      "Purpose.of.flight                    0         0.0\n",
      "Engine.Type                          0         0.0\n",
      "Model                                0         0.0\n",
      "Investigation.Type                   0         0.0\n",
      "Make                                 0         0.0\n",
      "Aircraft.Category                    0         0.0\n",
      "Aircraft.damage                      0         0.0\n",
      "Country                              0         0.0\n",
      "Location                             0         0.0\n",
      "Event.Date                           0         0.0\n",
      "Accident.Number                      0         0.0\n",
      "Broad.phase.of.flight                0         0.0\n"
     ]
    }
   ],
   "execution_count": 36
  },
  {
   "cell_type": "code",
   "id": "72b239d6-8eb6-41c3-ac63-8e81f2929ff1",
   "metadata": {
    "ExecuteTime": {
     "end_time": "2024-06-27T17:01:58.177076Z",
     "start_time": "2024-06-27T17:01:58.142727Z"
    }
   },
   "source": [
    "df.info()"
   ],
   "outputs": [
    {
     "name": "stdout",
     "output_type": "stream",
     "text": [
      "<class 'pandas.core.frame.DataFrame'>\n",
      "Index: 66915 entries, 0 to 71449\n",
      "Data columns (total 19 columns):\n",
      " #   Column                  Non-Null Count  Dtype         \n",
      "---  ------                  --------------  -----         \n",
      " 0   Event.Id                66915 non-null  object        \n",
      " 1   Investigation.Type      66915 non-null  object        \n",
      " 2   Accident.Number         66915 non-null  object        \n",
      " 3   Event.Date              66915 non-null  datetime64[ns]\n",
      " 4   Location                66915 non-null  object        \n",
      " 5   Country                 66915 non-null  object        \n",
      " 6   Aircraft.damage         66915 non-null  object        \n",
      " 7   Aircraft.Category       66915 non-null  object        \n",
      " 8   Make                    66915 non-null  object        \n",
      " 9   Model                   66915 non-null  object        \n",
      " 10  Number.of.Engines       66915 non-null  float64       \n",
      " 11  Engine.Type             66915 non-null  object        \n",
      " 12  Purpose.of.flight       66915 non-null  object        \n",
      " 13  Total.Fatal.Injuries    66915 non-null  float64       \n",
      " 14  Total.Serious.Injuries  66915 non-null  float64       \n",
      " 15  Total.Minor.Injuries    66915 non-null  float64       \n",
      " 16  Total.Uninjured         66915 non-null  float64       \n",
      " 17  Weather.Condition       66915 non-null  object        \n",
      " 18  Broad.phase.of.flight   66915 non-null  object        \n",
      "dtypes: datetime64[ns](1), float64(5), object(13)\n",
      "memory usage: 10.2+ MB\n"
     ]
    }
   ],
   "execution_count": 37
  },
  {
   "metadata": {},
   "cell_type": "markdown",
   "source": "## Feature Engineering",
   "id": "acc37b481a85f5d6"
  },
  {
   "metadata": {
    "ExecuteTime": {
     "end_time": "2024-06-27T17:01:58.192801Z",
     "start_time": "2024-06-27T17:01:58.178609Z"
    }
   },
   "cell_type": "code",
   "source": [
    "# Create a total passengers column\n",
    "df['Total.Pax'] = df['Total.Uninjured'] + df['Total.Minor.Injuries'] + df ['Total.Serious.Injuries'] + df['Total.Fatal.Injuries']"
   ],
   "id": "951da45e07f021d7",
   "outputs": [],
   "execution_count": 38
  },
  {
   "metadata": {
    "ExecuteTime": {
     "end_time": "2024-06-27T17:01:58.212057Z",
     "start_time": "2024-06-27T17:01:58.193971Z"
    }
   },
   "cell_type": "code",
   "source": [
    "# Create a year column\n",
    "df['Event.Year'] = df['Event.Date'].dt.year"
   ],
   "id": "28c8d3d80e32a112",
   "outputs": [],
   "execution_count": 39
  },
  {
   "metadata": {
    "ExecuteTime": {
     "end_time": "2024-06-27T17:01:58.714279Z",
     "start_time": "2024-06-27T17:01:58.213580Z"
    }
   },
   "cell_type": "code",
   "source": [
    "# Private, Commercial, or Helicopter (Both)?\n",
    "\n",
    "private_craft = ['Bombardier', 'Beechcraft', 'Cessna', 'Dassault', 'Gulfstream', 'Pilatus']\n",
    "commercial_craft = ['Boeing', 'Airbus']\n",
    "\n",
    "def determine_market(row):\n",
    "    if row['Aircraft.Category'] == 'Helicopter':\n",
    "        return 'Helicopter'\n",
    "    elif row['Make'] in private_craft:\n",
    "        return 'General Aviation'\n",
    "    elif row['Make'] in commercial_craft:\n",
    "        return 'Commercial Aviation'\n",
    "    else:\n",
    "        return 'Other'\n",
    "\n",
    "# Apply the function to create the 'Market' column\n",
    "df['Market'] = df.apply(determine_market, axis=1)"
   ],
   "id": "6dd7174b2faf0154",
   "outputs": [],
   "execution_count": 40
  },
  {
   "metadata": {
    "ExecuteTime": {
     "end_time": "2024-06-27T17:01:58.737018Z",
     "start_time": "2024-06-27T17:01:58.715939Z"
    }
   },
   "cell_type": "code",
   "source": "df['Fatality.Rate'] = df['Total.Fatal.Injuries'] / df['Total.Pax'] * 100",
   "id": "1d9fb561b573103",
   "outputs": [],
   "execution_count": 41
  },
  {
   "metadata": {
    "ExecuteTime": {
     "end_time": "2024-06-27T17:01:59.083354Z",
     "start_time": "2024-06-27T17:01:58.738041Z"
    }
   },
   "cell_type": "code",
   "source": [
    "# Encode damage severity\n",
    "def damage_encode(row):\n",
    "    if row['Aircraft.damage'] == 'Minor':\n",
    "        return 1\n",
    "    elif row['Aircraft.damage'] == 'Substantial':\n",
    "        return 2\n",
    "    elif row['Aircraft.damage'] == 'Destroyed':\n",
    "        return 3\n",
    "    else:\n",
    "        return 0\n",
    "    \n",
    "    \n",
    "df['Damage.Encoded'] = df.apply(damage_encode, axis=1)"
   ],
   "id": "57331f5bc0045718",
   "outputs": [],
   "execution_count": 42
  },
  {
   "metadata": {},
   "cell_type": "markdown",
   "source": [
    "# Data Analysis\n",
    "\n",
    "1. **Summary Statistics**: Generate summary statistics for numerical and categorical columns.\n",
    "2. **Visualizations**: Create histograms, bar plots, and scatter plots to understand the distribution and relationships in the data.\n",
    "   - **Average Injury Score by Model**: Identify aircraft models with the lowest average injury scores.\n",
    "   - **Average Injury Score by Number of Engines**: Investigate how the number of engines impacts the injury score.\n",
    "   - **Average Injury Score by Purpose of Flight**: Explore the impact of flight purpose on safety.\n",
    "   - **Events by Year**: Visualize temporal trends in the number of incidents."
   ],
   "id": "5858662cc3b4b07a"
  },
  {
   "metadata": {
    "ExecuteTime": {
     "end_time": "2024-06-27T17:01:59.121896Z",
     "start_time": "2024-06-27T17:01:59.084168Z"
    }
   },
   "cell_type": "code",
   "source": "df.describe()",
   "id": "52a243addcf9e562",
   "outputs": [
    {
     "data": {
      "text/plain": [
       "                          Event.Date  Number.of.Engines  Total.Fatal.Injuries  \\\n",
       "count                          66915       66915.000000          66915.000000   \n",
       "mean   1998-12-19 22:14:46.079354496           1.147471              0.366674   \n",
       "min              1948-10-24 00:00:00           0.000000              0.000000   \n",
       "25%              1988-05-28 00:00:00           1.000000              0.000000   \n",
       "50%              1997-06-13 00:00:00           1.000000              0.000000   \n",
       "75%              2008-07-06 00:00:00           1.000000              0.000000   \n",
       "max              2022-12-29 00:00:00           4.000000            229.000000   \n",
       "std                              NaN           0.386171              2.008766   \n",
       "\n",
       "       Total.Serious.Injuries  Total.Minor.Injuries  Total.Uninjured  \\\n",
       "count            66915.000000          66915.000000     66915.000000   \n",
       "mean                 0.215243              0.278622         3.839901   \n",
       "min                  0.000000              0.000000         0.000000   \n",
       "25%                  0.000000              0.000000         0.000000   \n",
       "50%                  0.000000              0.000000         1.000000   \n",
       "75%                  0.000000              0.000000         2.000000   \n",
       "max                137.000000            125.000000       588.000000   \n",
       "std                  1.147301              1.172595        21.730834   \n",
       "\n",
       "          Total.Pax    Event.Year  Fatality.Rate  Damage.Encoded  \n",
       "count  66915.000000  66915.000000   66726.000000    66915.000000  \n",
       "mean       4.700441   1998.463738      15.813323        2.127012  \n",
       "min        0.000000   1948.000000       0.000000        0.000000  \n",
       "25%        1.000000   1988.000000       0.000000        2.000000  \n",
       "50%        2.000000   1997.000000       0.000000        2.000000  \n",
       "75%        2.000000   2008.000000       0.000000        2.000000  \n",
       "max      588.000000   2022.000000     100.000000        3.000000  \n",
       "std       22.024561     11.827553      35.441103        0.534456  "
      ],
      "text/html": [
       "<div>\n",
       "<style scoped>\n",
       "    .dataframe tbody tr th:only-of-type {\n",
       "        vertical-align: middle;\n",
       "    }\n",
       "\n",
       "    .dataframe tbody tr th {\n",
       "        vertical-align: top;\n",
       "    }\n",
       "\n",
       "    .dataframe thead th {\n",
       "        text-align: right;\n",
       "    }\n",
       "</style>\n",
       "<table border=\"1\" class=\"dataframe\">\n",
       "  <thead>\n",
       "    <tr style=\"text-align: right;\">\n",
       "      <th></th>\n",
       "      <th>Event.Date</th>\n",
       "      <th>Number.of.Engines</th>\n",
       "      <th>Total.Fatal.Injuries</th>\n",
       "      <th>Total.Serious.Injuries</th>\n",
       "      <th>Total.Minor.Injuries</th>\n",
       "      <th>Total.Uninjured</th>\n",
       "      <th>Total.Pax</th>\n",
       "      <th>Event.Year</th>\n",
       "      <th>Fatality.Rate</th>\n",
       "      <th>Damage.Encoded</th>\n",
       "    </tr>\n",
       "  </thead>\n",
       "  <tbody>\n",
       "    <tr>\n",
       "      <th>count</th>\n",
       "      <td>66915</td>\n",
       "      <td>66915.000000</td>\n",
       "      <td>66915.000000</td>\n",
       "      <td>66915.000000</td>\n",
       "      <td>66915.000000</td>\n",
       "      <td>66915.000000</td>\n",
       "      <td>66915.000000</td>\n",
       "      <td>66915.000000</td>\n",
       "      <td>66726.000000</td>\n",
       "      <td>66915.000000</td>\n",
       "    </tr>\n",
       "    <tr>\n",
       "      <th>mean</th>\n",
       "      <td>1998-12-19 22:14:46.079354496</td>\n",
       "      <td>1.147471</td>\n",
       "      <td>0.366674</td>\n",
       "      <td>0.215243</td>\n",
       "      <td>0.278622</td>\n",
       "      <td>3.839901</td>\n",
       "      <td>4.700441</td>\n",
       "      <td>1998.463738</td>\n",
       "      <td>15.813323</td>\n",
       "      <td>2.127012</td>\n",
       "    </tr>\n",
       "    <tr>\n",
       "      <th>min</th>\n",
       "      <td>1948-10-24 00:00:00</td>\n",
       "      <td>0.000000</td>\n",
       "      <td>0.000000</td>\n",
       "      <td>0.000000</td>\n",
       "      <td>0.000000</td>\n",
       "      <td>0.000000</td>\n",
       "      <td>0.000000</td>\n",
       "      <td>1948.000000</td>\n",
       "      <td>0.000000</td>\n",
       "      <td>0.000000</td>\n",
       "    </tr>\n",
       "    <tr>\n",
       "      <th>25%</th>\n",
       "      <td>1988-05-28 00:00:00</td>\n",
       "      <td>1.000000</td>\n",
       "      <td>0.000000</td>\n",
       "      <td>0.000000</td>\n",
       "      <td>0.000000</td>\n",
       "      <td>0.000000</td>\n",
       "      <td>1.000000</td>\n",
       "      <td>1988.000000</td>\n",
       "      <td>0.000000</td>\n",
       "      <td>2.000000</td>\n",
       "    </tr>\n",
       "    <tr>\n",
       "      <th>50%</th>\n",
       "      <td>1997-06-13 00:00:00</td>\n",
       "      <td>1.000000</td>\n",
       "      <td>0.000000</td>\n",
       "      <td>0.000000</td>\n",
       "      <td>0.000000</td>\n",
       "      <td>1.000000</td>\n",
       "      <td>2.000000</td>\n",
       "      <td>1997.000000</td>\n",
       "      <td>0.000000</td>\n",
       "      <td>2.000000</td>\n",
       "    </tr>\n",
       "    <tr>\n",
       "      <th>75%</th>\n",
       "      <td>2008-07-06 00:00:00</td>\n",
       "      <td>1.000000</td>\n",
       "      <td>0.000000</td>\n",
       "      <td>0.000000</td>\n",
       "      <td>0.000000</td>\n",
       "      <td>2.000000</td>\n",
       "      <td>2.000000</td>\n",
       "      <td>2008.000000</td>\n",
       "      <td>0.000000</td>\n",
       "      <td>2.000000</td>\n",
       "    </tr>\n",
       "    <tr>\n",
       "      <th>max</th>\n",
       "      <td>2022-12-29 00:00:00</td>\n",
       "      <td>4.000000</td>\n",
       "      <td>229.000000</td>\n",
       "      <td>137.000000</td>\n",
       "      <td>125.000000</td>\n",
       "      <td>588.000000</td>\n",
       "      <td>588.000000</td>\n",
       "      <td>2022.000000</td>\n",
       "      <td>100.000000</td>\n",
       "      <td>3.000000</td>\n",
       "    </tr>\n",
       "    <tr>\n",
       "      <th>std</th>\n",
       "      <td>NaN</td>\n",
       "      <td>0.386171</td>\n",
       "      <td>2.008766</td>\n",
       "      <td>1.147301</td>\n",
       "      <td>1.172595</td>\n",
       "      <td>21.730834</td>\n",
       "      <td>22.024561</td>\n",
       "      <td>11.827553</td>\n",
       "      <td>35.441103</td>\n",
       "      <td>0.534456</td>\n",
       "    </tr>\n",
       "  </tbody>\n",
       "</table>\n",
       "</div>"
      ]
     },
     "execution_count": 43,
     "metadata": {},
     "output_type": "execute_result"
    }
   ],
   "execution_count": 43
  },
  {
   "metadata": {
    "ExecuteTime": {
     "end_time": "2024-06-27T17:01:59.366077Z",
     "start_time": "2024-06-27T17:01:59.122624Z"
    }
   },
   "cell_type": "code",
   "source": [
    "# How is the data spread over time?\n",
    "\n",
    "yearly_data = df['Event.Year'].value_counts().sort_index()\n",
    "\n",
    "fig, ax = plt.subplots()\n",
    "\n",
    "yearly_data.plot(kind='bar', ax=ax)\n",
    "\n",
    "ax.set_title(\"Total Incidents Per Year\")\n",
    "ax.set_xlabel(\"Year\")\n",
    "ax.set_ylabel(\"Number of Incidents\")\n",
    "\n",
    "plt.show()"
   ],
   "id": "875958dab403bb56",
   "outputs": [
    {
     "data": {
      "text/plain": [
       "<Figure size 640x480 with 1 Axes>"
      ],
      "image/png": "[encoded data removed]"
     },
     "metadata": {},
     "output_type": "display_data"
    }
   ],
   "execution_count": 44
  },
  {
   "metadata": {
    "ExecuteTime": {
     "end_time": "2024-06-27T17:01:59.388815Z",
     "start_time": "2024-06-27T17:01:59.366804Z"
    }
   },
   "cell_type": "code",
   "source": [
    "# Virtually no data prior to 1982, we'll set our range to that.\n",
    "df = df[df['Event.Year'] >= 1982]"
   ],
   "id": "e291e2b1a4baa032",
   "outputs": [],
   "execution_count": 45
  },
  {
   "metadata": {
    "ExecuteTime": {
     "end_time": "2024-06-27T17:01:59.568099Z",
     "start_time": "2024-06-27T17:01:59.389628Z"
    }
   },
   "cell_type": "code",
   "source": [
    "# Assuming df is your existing DataFrame with numeric columns\n",
    "fig, ax = plt.subplots(figsize=(10, 8))\n",
    "\n",
    "# Calculate the correlation matrix and plot the heatmap\n",
    "sns.heatmap(df.corr(numeric_only=True), annot=True, cmap='coolwarm', ax=ax).set_title(\"Correlation Heatmap\")\n",
    "\n",
    "# Show the plot\n",
    "plt.show()"
   ],
   "id": "a5ad13cba704061f",
   "outputs": [
    {
     "data": {
      "text/plain": [
       "<Figure size 1000x800 with 2 Axes>"
      ],
      "image/png": "[encoded data removed]"
     },
     "metadata": {},
     "output_type": "display_data"
    }
   ],
   "execution_count": 46
  },
  {
   "metadata": {
    "ExecuteTime": {
     "end_time": "2024-06-27T17:02:00.138703Z",
     "start_time": "2024-06-27T17:01:59.568855Z"
    }
   },
   "cell_type": "code",
   "source": [
    "# Grouping the last 10 years of commercial, private, and helicopter data\n",
    "df_private = df[(df['Market'] == 'General Aviation') & (df['Event.Year'] >= 2003)]\n",
    "df_commercial = df[(df['Market'] == 'Commercial Aviation') & (df['Event.Year'] >= 2003)]\n",
    "df_helicopter = df[(df['Market'] == 'Helicopter') & (df['Event.Year'] >= 2003)]\n",
    "\n",
    "fig, (ax1, ax2, ax3) = plt.subplots(1, 3, figsize=(10, 8))\n",
    "\n",
    "df_private.groupby('Event.Year')['Fatality.Rate'].agg('mean').plot(\n",
    "    kind='bar',\n",
    "    ax=ax1,\n",
    "    title=\"Fatality Rate: Private Aircraft\",\n",
    "    color='Red',\n",
    "    xlabel=\"Year\",\n",
    "    ylabel=\"Fatality Rate %\"\n",
    ")\n",
    "\n",
    "df_commercial.groupby('Event.Year')['Fatality.Rate'].agg('mean').plot(\n",
    "    kind='bar',\n",
    "    ax=ax2,\n",
    "    title=\"Fatality Rate: Commercial Aircraft\",\n",
    "    color='Blue',\n",
    "    xlabel=\"Year\",\n",
    "    ylabel=\"Fatality Rate %\"\n",
    ")\n",
    "\n",
    "df_helicopter.groupby('Event.Year')['Fatality.Rate'].agg('mean').plot(\n",
    "    kind='bar',\n",
    "    ax=ax3,\n",
    "    title=\"Fatality Rate: Helicopters\",\n",
    "    color='Yellow',\n",
    "    xlabel=\"Year\",\n",
    "    ylabel=\"Fatality Rate %\"\n",
    ")\n",
    "\n",
    "ax1.set_ylim([0, 65])\n",
    "ax2.set_ylim([0, 65])\n",
    "ax3.set_ylim([0, 65])\n",
    "\n",
    "plt.tight_layout()"
   ],
   "id": "15a6af1d81900af3",
   "outputs": [
    {
     "data": {
      "text/plain": [
       "<Figure size 1000x800 with 3 Axes>"
      ],
      "image/png": "[encoded data removed]"
     },
     "metadata": {},
     "output_type": "display_data"
    }
   ],
   "execution_count": 47
  },
  {
   "cell_type": "markdown",
   "id": "5aa27237-bcfe-473b-b41c-e9b40434214d",
   "metadata": {},
   "source": [
    "[According to Assets America, the top commercial aircraft manufacturers are:](https://assetsamerica.com/aircraft-manufacturers/)\n",
    "- Boeing (7X7 series)\n",
    "- Airbus (A2XX, A3XX series)\n",
    "- Embraer (ERJ, E-Jet, E-Jet E2)\n",
    "- Bombardier (Q400)\n",
    "- Several other Russian, East Asian, and African owned companies with no service in North America\n",
    "\n",
    "The top private aircraft manufacturers are:\n",
    "- Airbus (ACJ200, ACJ300 series)\n",
    "- Boeing (BBJ 7X7 series)\n",
    "- Bombardier (Learjet, Challenger, Global series)\n",
    "- Beechcraft (Bonanza, Baron, King Air, T6 series)\n",
    "- Cessna (Citation, Denali, Caravan, Grand Caravan, SkyCourier, Skyhawk, Skylane, Stationair)\n",
    "- Dassault (Falcon, Breguet, hirondelle, Communaute)\n",
    "- Embraer (Legacy, Praetor, Lineage, Phenom)\n",
    "- Gulfstream (G280, G500, G550, G600, G650)\n",
    "- Pilatus (PC-24, PC-12, PC-6)\n",
    "- Hawker (4000)\n",
    "\n",
    "[According to General Aviation News, the top helicopter manufacturers are:](https://generalaviationnews.com/2023/03/16/top-10-best-selling-rotorcraft-in-2022/)\n",
    "- Airbus (H125, H130, H135, H145)\n",
    "- Bell (407, 429, 505)\n",
    "- Cabri (G2)\n",
    "- Robinson (R66, R44)"
   ]
  },
  {
   "metadata": {},
   "cell_type": "markdown",
   "source": [
    "[According to Assets America, the top 10 commercial aircraft manufacturers are:](https://assetsamerica.com/aircraft-manufacturers/)\n",
    "- Boeing \n",
    "- Airbus\n",
    "- Embraer\n",
    "- Bombardier\n",
    "- Comac (Russian company not operated in NA)\n",
    "- Mitsubishi\n",
    "- UAC (Russian company not operated in NA)\n",
    "- Aviastar-SP (Russian company not operated in NA)\n",
    "- Kazan Aircraft Production Association (Russian company not operated in NA)\n",
    "- GippsAero (Australian company not operated in NA)\n",
    "\n",
    "The top 10 private aircraft manufacturers are:\n",
    "- Airbus Corporate Jets\n",
    "- Boeing Business Jet\n",
    "- Bombardier Business Aircraft\n",
    "- Beechcraft\n",
    "- Cessna\n",
    "- Dassault Aviation\n",
    "- Embraer\n",
    "- Gulfstream Aerospace\n",
    "- Pilatus Business Aircraft\n",
    "- Hawker\n",
    "\n",
    "[According to General Aviation News, the top helicopter manufacturers are:](https://generalaviationnews.com/2023/03/16/top-10-best-selling-rotorcraft-in-2022/)\n",
    "- Airbus (H125, H130, H135, H145)\n",
    "- Bell (407, 429, 505)\n",
    "- Cabri (G2)\n",
    "- Robinson (R66, R44)"
   ],
   "id": "b95570b746412e6f"
  },
  {
   "metadata": {
    "ExecuteTime": {
     "end_time": "2024-06-27T19:24:39.813774Z",
     "start_time": "2024-06-27T19:24:39.695002Z"
    }
   },
   "cell_type": "code",
   "source": "df['Model'][df['Make'] == 'Bell'].value_counts()",
   "id": "4d12a2831cc8b129",
   "outputs": [
    {
     "data": {
      "text/plain": [
       "Model\n",
       "206B           381\n",
       "206L-1         120\n",
       "47G-2           79\n",
       "47G             75\n",
       "206L-3          69\n",
       "              ... \n",
       "B212             1\n",
       "OH-13H/M74A      1\n",
       "M74L             1\n",
       "47G-3B-L         1\n",
       "47G-2A1          1\n",
       "Name: count, Length: 103, dtype: int64"
      ]
     },
     "execution_count": 172,
     "metadata": {},
     "output_type": "execute_result"
    }
   ],
   "execution_count": 172
  },
  {
   "metadata": {
    "ExecuteTime": {
     "end_time": "2024-06-27T17:02:00.227216Z",
     "start_time": "2024-06-27T17:02:00.176825Z"
    }
   },
   "cell_type": "code",
   "source": "df_copy = df.copy()",
   "id": "8efff41f74fccce",
   "outputs": [],
   "execution_count": 49
  },
  {
   "metadata": {
    "ExecuteTime": {
     "end_time": "2024-06-27T19:35:25.134114Z",
     "start_time": "2024-06-27T19:35:23.569511Z"
    }
   },
   "cell_type": "code",
   "source": "df_copy['model.formatted'] = df_copy.apply(helper_functions.update_model, axis=1)",
   "id": "43a8451181fd297e",
   "outputs": [],
   "execution_count": 188
  },
  {
   "metadata": {
    "ExecuteTime": {
     "end_time": "2024-06-27T19:35:25.199949Z",
     "start_time": "2024-06-27T19:35:25.137863Z"
    }
   },
   "cell_type": "code",
   "source": "sorted(df_copy['model.formatted'][df_copy['Make'] == 'Bell'].unique())",
   "id": "893a81a1d976f175",
   "outputs": [
    {
     "data": {
      "text/plain": [
       "['204',\n",
       " '205',\n",
       " '206',\n",
       " '212',\n",
       " '214',\n",
       " '222',\n",
       " '230',\n",
       " '407',\n",
       " '412',\n",
       " '430',\n",
       " '47',\n",
       " '47B',\n",
       " '47D',\n",
       " '47G',\n",
       " '47J',\n",
       " 'M74L',\n",
       " 'OH-13E',\n",
       " 'OH-13H/M74A',\n",
       " 'OH-58',\n",
       " 'OH58A',\n",
       " 'P39',\n",
       " 'TH-13T',\n",
       " 'UH 1H',\n",
       " 'UH-1',\n",
       " 'UH1B']"
      ]
     },
     "execution_count": 189,
     "metadata": {},
     "output_type": "execute_result"
    }
   ],
   "execution_count": 189
  },
  {
   "metadata": {
    "ExecuteTime": {
     "end_time": "2024-06-27T19:19:32.448029Z",
     "start_time": "2024-06-27T19:19:32.323001Z"
    }
   },
   "cell_type": "code",
   "source": "df_clean = df_copy[df_copy['model.formatted'].isna() == False]",
   "id": "2edfac675925f6aa",
   "outputs": [],
   "execution_count": 157
  },
  {
   "metadata": {
    "ExecuteTime": {
     "end_time": "2024-06-27T19:20:45.443566Z",
     "start_time": "2024-06-27T19:20:45.313312Z"
    }
   },
   "cell_type": "code",
   "source": "df_clean.info()",
   "id": "a54d35a7ac5212dc",
   "outputs": [
    {
     "name": "stdout",
     "output_type": "stream",
     "text": [
      "<class 'pandas.core.frame.DataFrame'>\n",
      "Index: 66909 entries, 6 to 71449\n",
      "Data columns (total 25 columns):\n",
      " #   Column                  Non-Null Count  Dtype         \n",
      "---  ------                  --------------  -----         \n",
      " 0   Event.Id                66909 non-null  object        \n",
      " 1   Investigation.Type      66909 non-null  object        \n",
      " 2   Accident.Number         66909 non-null  object        \n",
      " 3   Event.Date              66909 non-null  datetime64[ns]\n",
      " 4   Location                66909 non-null  object        \n",
      " 5   Country                 66909 non-null  object        \n",
      " 6   Aircraft.damage         66909 non-null  object        \n",
      " 7   Aircraft.Category       66909 non-null  object        \n",
      " 8   Make                    66909 non-null  object        \n",
      " 9   Model                   66909 non-null  object        \n",
      " 10  Number.of.Engines       66909 non-null  float64       \n",
      " 11  Engine.Type             66909 non-null  object        \n",
      " 12  Purpose.of.flight       66909 non-null  object        \n",
      " 13  Total.Fatal.Injuries    66909 non-null  float64       \n",
      " 14  Total.Serious.Injuries  66909 non-null  float64       \n",
      " 15  Total.Minor.Injuries    66909 non-null  float64       \n",
      " 16  Total.Uninjured         66909 non-null  float64       \n",
      " 17  Weather.Condition       66909 non-null  object        \n",
      " 18  Broad.phase.of.flight   66909 non-null  object        \n",
      " 19  Total.Pax               66909 non-null  float64       \n",
      " 20  Event.Year              66909 non-null  int32         \n",
      " 21  Market                  66909 non-null  object        \n",
      " 22  Fatality.Rate           66720 non-null  float64       \n",
      " 23  Damage.Encoded          66909 non-null  int64         \n",
      " 24  model.formatted         66909 non-null  object        \n",
      "dtypes: datetime64[ns](1), float64(7), int32(1), int64(1), object(15)\n",
      "memory usage: 13.0+ MB\n"
     ]
    }
   ],
   "execution_count": 159
  },
  {
   "metadata": {
    "ExecuteTime": {
     "end_time": "2024-06-27T19:22:59.362690Z",
     "start_time": "2024-06-27T19:22:59.265988Z"
    }
   },
   "cell_type": "code",
   "source": "df_copy[df_copy['Make'] == 'Hawker']",
   "id": "43d944cb19c643e7",
   "outputs": [
    {
     "data": {
      "text/plain": [
       "             Event.Id Investigation.Type Accident.Number Event.Date  \\\n",
       "66163  20181212X03941           Accident      WPR19LA041 2018-12-13   \n",
       "\n",
       "           Location        Country Aircraft.damage Aircraft.Category    Make  \\\n",
       "66163  Honolulu, HI  United States       Destroyed          Airplane  Hawker   \n",
       "\n",
       "                    Model  ...  Total.Minor.Injuries Total.Uninjured  \\\n",
       "66163  HAWKER HNTR FMK 58  ...                   1.0             0.0   \n",
       "\n",
       "      Weather.Condition  Broad.phase.of.flight  Total.Pax  Event.Year  Market  \\\n",
       "66163               VMC                Unknown        1.0        2018   Other   \n",
       "\n",
       "      Fatality.Rate Damage.Encoded  model.formatted  \n",
       "66163           0.0              3        Hunter 58  \n",
       "\n",
       "[1 rows x 25 columns]"
      ],
      "text/html": [
       "<div>\n",
       "<style scoped>\n",
       "    .dataframe tbody tr th:only-of-type {\n",
       "        vertical-align: middle;\n",
       "    }\n",
       "\n",
       "    .dataframe tbody tr th {\n",
       "        vertical-align: top;\n",
       "    }\n",
       "\n",
       "    .dataframe thead th {\n",
       "        text-align: right;\n",
       "    }\n",
       "</style>\n",
       "<table border=\"1\" class=\"dataframe\">\n",
       "  <thead>\n",
       "    <tr style=\"text-align: right;\">\n",
       "      <th></th>\n",
       "      <th>Event.Id</th>\n",
       "      <th>Investigation.Type</th>\n",
       "      <th>Accident.Number</th>\n",
       "      <th>Event.Date</th>\n",
       "      <th>Location</th>\n",
       "      <th>Country</th>\n",
       "      <th>Aircraft.damage</th>\n",
       "      <th>Aircraft.Category</th>\n",
       "      <th>Make</th>\n",
       "      <th>Model</th>\n",
       "      <th>...</th>\n",
       "      <th>Total.Minor.Injuries</th>\n",
       "      <th>Total.Uninjured</th>\n",
       "      <th>Weather.Condition</th>\n",
       "      <th>Broad.phase.of.flight</th>\n",
       "      <th>Total.Pax</th>\n",
       "      <th>Event.Year</th>\n",
       "      <th>Market</th>\n",
       "      <th>Fatality.Rate</th>\n",
       "      <th>Damage.Encoded</th>\n",
       "      <th>model.formatted</th>\n",
       "    </tr>\n",
       "  </thead>\n",
       "  <tbody>\n",
       "    <tr>\n",
       "      <th>66163</th>\n",
       "      <td>20181212X03941</td>\n",
       "      <td>Accident</td>\n",
       "      <td>WPR19LA041</td>\n",
       "      <td>2018-12-13</td>\n",
       "      <td>Honolulu, HI</td>\n",
       "      <td>United States</td>\n",
       "      <td>Destroyed</td>\n",
       "      <td>Airplane</td>\n",
       "      <td>Hawker</td>\n",
       "      <td>HAWKER HNTR FMK 58</td>\n",
       "      <td>...</td>\n",
       "      <td>1.0</td>\n",
       "      <td>0.0</td>\n",
       "      <td>VMC</td>\n",
       "      <td>Unknown</td>\n",
       "      <td>1.0</td>\n",
       "      <td>2018</td>\n",
       "      <td>Other</td>\n",
       "      <td>0.0</td>\n",
       "      <td>3</td>\n",
       "      <td>Hunter 58</td>\n",
       "    </tr>\n",
       "  </tbody>\n",
       "</table>\n",
       "<p>1 rows × 25 columns</p>\n",
       "</div>"
      ]
     },
     "execution_count": 171,
     "metadata": {},
     "output_type": "execute_result"
    }
   ],
   "execution_count": 171
  },
  {
   "metadata": {},
   "cell_type": "code",
   "outputs": [],
   "execution_count": null,
   "source": "",
   "id": "d6f1a0772e5a404"
  }
 ],
 "metadata": {
  "kernelspec": {
   "display_name": "Python 3 (ipykernel)",
   "language": "python",
   "name": "python3"
  },
  "language_info": {
   "codemirror_mode": {
    "name": "ipython",
    "version": 3
   },
   "file_extension": ".py",
   "mimetype": "text/x-python",
   "name": "python",
   "nbconvert_exporter": "python",
   "pygments_lexer": "ipython3",
   "version": "3.9.19"
  }
 },
 "nbformat": 4,
 "nbformat_minor": 5
}
