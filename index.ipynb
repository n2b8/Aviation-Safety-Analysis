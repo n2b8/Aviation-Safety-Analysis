{
 "cells": [
  {
   "cell_type": "markdown",
   "id": "785aae35-035a-4d0c-8b1f-5cbfbe5b7400",
   "metadata": {},
   "source": [
    "# Aircraft Safety Analysis for Business Expansion\n",
    "\n",
    "<img src=\"images/Flight-Safety-Instructions.jpg\">\n",
    "\n",
    "[Credit: Paxes.com](https://www.paxes.com/blog/flight-safety-instructions/)\n",
    "\n",
    "## Business Understanding\n",
    "\n",
    "My company has decided to expand into operating airplanes for commercial and private use. I have been tasked with examining the risks of different aircraft makes and models and making recommendations for the lowest-risk aircraft for purchase.\n",
    "\n",
    "I will aim to identify which aircraft models present the lowest risk in terms of safety. The key questions I'm seeking to answer include:\n",
    "- Which aircraft models have the lowest occurrences of severe injuries from high-damage events?\n",
    "- How do factors such as the number of engines and the purpose of flight impact the safety of the aircraft?\n",
    "\n",
    "## Data Understanding\n",
    "\n",
    "The dataset contains records of aircraft incidents and accidents from the NTSB up to 2023, including information on the event, location, aircraft characteristics, and injury severity. The dataset has 90,348 entries and 31 columns. Some key columns include:\n",
    "\n",
    "- `Event.Id`: Unique identifier for each event.\n",
    "- `Event.Date`: Date of the event.\n",
    "- `Location`: Location of the event.\n",
    "- `Country`: Country where the event occurred.\n",
    "- `Injury.Severity`: Severity of injuries in the event.\n",
    "- `Aircraft.damage`: Extent of damage to the aircraft.\n",
    "- `Make` and `Model`: Manufacturer and model of the aircraft.\n",
    "- `Number.of.Engines`: Number of engines on the aircraft.\n",
    "- `Purpose.of.flight`: The purpose of the flight during the event.\n",
    "\n",
    "There are 5 numerical columns and 26 categorical columns. Examples of numerical columns include `Number.of.Engines`, `Total.Fatal.Injuries`, `Total.Serious.Injuries`, `Total.Minor.Injuries`, and `Total.Uninjured`. Examples of categorical columns include `Event.Id`, `Investigation.Type`, `Accident.Number`, `Event.Date`, and `Location`.\n",
    "\n",
    "By following this structured approach, we will be able to gain insights into the safety of different aircraft models and provide actionable recommendations to the company's aviation division."
   ]
  },
  {
   "cell_type": "markdown",
   "id": "4da3b6e0-c453-4461-8996-7371d704bf60",
   "metadata": {},
   "source": [
    "# Data Preparation\n",
    "\n",
    "In this section, I will import our needed libraries for our notebook, import the data from a csv file, and begin cleaning and preparing the data for analysis using the following techniques:\n",
    "\n",
    "1. **Handling Duplicate Values**: Identify and remove duplicate rows.\n",
    "2. **Handling Unnecessary Values**: Identify and remove both columns and rows that are unnecessary to the analysis.\n",
    "3. **Handling Missing Values**: Identify and handle missing values appropriately, either by imputation, placeholders, or removal.\n",
    "4. **Data Type Conversion**: Convert columns to appropriate data types (e.g., dates to datetime objects, numerical columns to numeric types).\n",
    "5. **Feature Engineering**: Create new features through encoding categorical values into numerical values such as `Aircraft.Damage` and extract useful information for analysis such as the month and year from `Event.Date`."
   ]
  },
  {
   "cell_type": "code",
   "id": "f260f4a7-c720-4a55-acdb-6dbc3086eb2a",
   "metadata": {},
   "source": [
    "# Importing necessary libraries\n",
    "%load_ext autoreload\n",
    "%autoreload 2\n",
    "import pandas as pd\n",
    "import matplotlib.pyplot as plt\n",
    "import seaborn as sns\n",
    "from tqdm import tqdm\n",
    "import helper_functions"
   ],
   "outputs": [],
   "execution_count": null
  },
  {
   "cell_type": "code",
   "id": "4cedd316-75da-413b-9818-b8a92c559acb",
   "metadata": {},
   "source": [
    "# Reading data from a CSV file\n",
    "df = pd.read_csv('data/Aviation_Data.csv')\n",
    "\n",
    "# Preview the data\n",
    "df.head()"
   ],
   "outputs": [],
   "execution_count": null
  },
  {
   "cell_type": "code",
   "id": "523293c5-4878-4c7b-9a30-16bf423d1ae3",
   "metadata": {},
   "source": [
    "# Get an overview of the types of data, features, and completeness of the data\n",
    "df.info()"
   ],
   "outputs": [],
   "execution_count": null
  },
  {
   "cell_type": "code",
   "id": "c68afe8b-61f9-4a4b-a68d-a7e453d16437",
   "metadata": {},
   "source": [
    "# Dropping duplicate rows\n",
    "df.drop_duplicates(inplace=True)\n",
    "\n",
    "# Resetting the index\n",
    "df = df.reset_index(drop=True)\n",
    "\n",
    "# Re-check the overview\n",
    "df.info()"
   ],
   "outputs": [],
   "execution_count": null
  },
  {
   "cell_type": "markdown",
   "id": "18720f56-9949-4572-bea8-81f065cb685a",
   "metadata": {},
   "source": "Removed 1390 duplicated rows."
  },
  {
   "cell_type": "code",
   "id": "592b3ab9-735e-4770-afe6-72933c608556",
   "metadata": {},
   "source": [
    "# Function to display missing data for each column in numerical and percentage format\n",
    "def percent_data_missing(df):\n",
    "    # Summing the null values for each column\n",
    "    missing_data_summary = df.isnull().sum().sort_values(ascending=False)\n",
    "    # Converting to a percentage format\n",
    "    missing_data_percentage = (df.isnull().sum() / len(df) * 100).sort_values(ascending=False)\n",
    "\n",
    "    # Creating the DataFrame\n",
    "    missing_data_df = pd.DataFrame({'Missing Values': missing_data_summary, 'Percentage': missing_data_percentage})\n",
    "\n",
    "    # Calculate total missing values\n",
    "    total_missing = df.isnull().sum().sum()\n",
    "\n",
    "    # Display info to the user\n",
    "    print(missing_data_df)\n",
    "    print(f'\\nTotal Missing Values: {total_missing}')"
   ],
   "outputs": [],
   "execution_count": null
  },
  {
   "cell_type": "code",
   "id": "7255f229-0d70-48c0-a947-18e224dd193e",
   "metadata": {},
   "source": [
    "percent_data_missing(df)"
   ],
   "outputs": [],
   "execution_count": null
  },
  {
   "cell_type": "markdown",
   "id": "fc327dfd-ac46-4548-866a-6cf7902d5940",
   "metadata": {},
   "source": "`Aircraft.Category` is something I'd like to be able to filter on and there are a ton of missing values. I want to see if we can glean that information from matching values in other columns. This is a great case for a function as we can probably use it for filling in other missing values later on."
  },
  {
   "cell_type": "code",
   "id": "0f55ba35-f116-4320-b470-4023f0a1c081",
   "metadata": {},
   "source": [
    "# Function that searches a user-specified column to fill null values on in a provided dataframe,\n",
    "# and a column to reference and find correct values to change nulls into.\n",
    "def fill_nan_column_with_mode(df, column_to_fill, reference_column):\n",
    "    nan_indices = df[df[column_to_fill].isna()].index.tolist()\n",
    "    \n",
    "    # Use tqdm to create a progress bar\n",
    "    for index in tqdm(nan_indices, desc=f\"Filling NaN values in '{column_to_fill}'\"):\n",
    "        row = df.loc[index]\n",
    "        ref_value = row[reference_column]\n",
    "        \n",
    "        # If reference value is NaN, skip this row\n",
    "        if pd.isna(ref_value):\n",
    "            continue\n",
    "        \n",
    "        # Create a temporary DataFrame with the same reference value\n",
    "        temp_df = df[df[reference_column] == ref_value]\n",
    "        \n",
    "        # Drop rows where the column to fill is NaN\n",
    "        temp_df = temp_df.dropna(subset=[column_to_fill])\n",
    "        \n",
    "        # If temp_df is not empty, calculate the mode\n",
    "        if not temp_df.empty:\n",
    "            mode_value = temp_df[column_to_fill].mode()\n",
    "            \n",
    "            if not mode_value.empty:\n",
    "                # Fill the NaN value with the mode\n",
    "                df.at[index, column_to_fill] = mode_value.iloc[0]\n",
    "                \n",
    "    return df"
   ],
   "outputs": [],
   "execution_count": null
  },
  {
   "cell_type": "code",
   "id": "67080a6c-1000-4f39-817f-2773572a1bf6",
   "metadata": {},
   "source": [
    "# Checking for Aircraft.Category values in same Model\n",
    "df = fill_nan_column_with_mode(df, 'Aircraft.Category', 'Model')"
   ],
   "outputs": [],
   "execution_count": null
  },
  {
   "cell_type": "markdown",
   "id": "f4f0a707-5b70-48bf-afa7-cf02f9da1d81",
   "metadata": {},
   "source": "That saved 48,323 data points in the `Aircraft.Category` column."
  },
  {
   "cell_type": "markdown",
   "id": "e5a2fd05-2fd1-4405-8c22-311666a55eee",
   "metadata": {},
   "source": [
    "Now I want to take a look at the aircraft categories to see if there are any we should exclude"
   ]
  },
  {
   "cell_type": "code",
   "id": "15f62457-4bad-4edf-b3ff-b0389e775634",
   "metadata": {},
   "source": [
    "df['Aircraft.Category'].value_counts()"
   ],
   "outputs": [],
   "execution_count": null
  },
  {
   "cell_type": "code",
   "id": "5901b90b-1c55-4f6d-8d77-986c1d555c1d",
   "metadata": {},
   "source": [
    "# For now, I'm only wanting to keep Aircraft.Category values of 'Airplane', and 'Helicopter'\n",
    "aircraft_cats_to_keep = ['Airplane', 'Helicopter']\n",
    "\n",
    "# Drop all other categories\n",
    "df = df[df['Aircraft.Category'].isin(aircraft_cats_to_keep)]"
   ],
   "outputs": [],
   "execution_count": null
  },
  {
   "cell_type": "code",
   "id": "a2c79a3c-c6b8-445c-9dc4-f603d9841a7c",
   "metadata": {},
   "source": [
    "# `Schedule`, `Air.Carrier`, `FAR.Description`, `Latitude`, and `Longitude` all have missing data from over 60% of the rows.\n",
    "# `Registration.Number`, `Airport.Name`, `Airport.Code`, and `Report.Status` cannot be imputed and is not helpful to the analysis.\n",
    "# Dropping those columns\n",
    "df.drop(columns=['Schedule', 'Air.carrier', 'FAR.Description', 'Latitude', 'Longitude', 'Registration.Number', 'Airport.Name', 'Airport.Code', 'Report.Status'], inplace=True)"
   ],
   "outputs": [],
   "execution_count": null
  },
  {
   "cell_type": "code",
   "id": "c540d379-0d22-46b0-a4f0-ff2d41f74437",
   "metadata": {},
   "source": [
    "# Dropping rows with <1% of missing values\n",
    "\n",
    "# Attempting to impute Make from Model\n",
    "df = fill_nan_column_with_mode(df, 'Model', 'Make')\n",
    "\n",
    "# Dropping remaining rows with <1% missing values\n",
    "df.dropna(subset=['Event.Id', 'Accident.Number', 'Event.Date', 'Location', 'Amateur.Built', 'Country', 'Make', 'Model'], inplace=True)"
   ],
   "outputs": [],
   "execution_count": null
  },
  {
   "cell_type": "code",
   "id": "d3ec8626-9f12-42b0-ad93-c103af600536",
   "metadata": {},
   "source": [
    "# Investigating makeup of amateur built aircraft\n",
    "df['Amateur.Built'].value_counts()"
   ],
   "outputs": [],
   "execution_count": null
  },
  {
   "cell_type": "code",
   "id": "b278c375-1a02-4e59-8700-d3a8da2edc36",
   "metadata": {},
   "source": [
    "# Dropping all amateur built aircraft\n",
    "df = df[df['Amateur.Built'] != 'Yes']\n",
    "# Dropping the `Amateur.Built` column\n",
    "df.drop(columns=['Amateur.Built'], inplace=True)"
   ],
   "outputs": [],
   "execution_count": null
  },
  {
   "cell_type": "markdown",
   "id": "da77a542-90d5-413d-bca9-057915842772",
   "metadata": {},
   "source": [
    "`Injury.Severity` might be something that could help us with our safety determinations:"
   ]
  },
  {
   "cell_type": "code",
   "id": "f8592833-2e60-49f6-a546-9155406d0344",
   "metadata": {},
   "source": [
    "# Investigating `Injury.Severity`\n",
    "df['Injury.Severity'].unique()"
   ],
   "outputs": [],
   "execution_count": null
  },
  {
   "cell_type": "markdown",
   "id": "acd9dcaf-8556-44d8-ae8b-2136e62363bc",
   "metadata": {},
   "source": "There are a lot of different variations of \"Fatal\" in this column. All with numbers in parentheses following the value. Let's compare these to a sample of the `Total.Fatal.Injuries` column."
  },
  {
   "cell_type": "code",
   "id": "9b6bab18-2f05-458e-be99-740d57db4ad9",
   "metadata": {},
   "source": [
    "# Comparing `Injury.Severity` column to `Total.Fatal.Injuries` column\n",
    "df[df['Injury.Severity'] == 'Fatal(2)']['Total.Fatal.Injuries']"
   ],
   "outputs": [],
   "execution_count": null
  },
  {
   "cell_type": "code",
   "id": "62c7b964-6a9e-46b9-ac0b-13ee7752f21a",
   "metadata": {},
   "source": [
    "# Unique values of `Injury.Severity` appear to be duplicated in other columns.\n",
    "# Dropping `Injury.Severity` column.\n",
    "df.drop(columns=['Injury.Severity'], inplace=True)"
   ],
   "outputs": [],
   "execution_count": null
  },
  {
   "cell_type": "code",
   "id": "f34a36ea-8de2-4ceb-a7fa-c2f85df9c989",
   "metadata": {},
   "source": [
    "# There are two 'date' columns, and I am only interested in the date of the event.\n",
    "# Dropping `Publication.Date` column\n",
    "df.drop(columns=['Publication.Date'], inplace=True)"
   ],
   "outputs": [],
   "execution_count": null
  },
  {
   "cell_type": "code",
   "id": "47817651-d03a-4518-a92b-1bd867fbb576",
   "metadata": {},
   "source": [
    "# Converting `Event.Date` into a datetime object\n",
    "df['Event.Date'] = pd.to_datetime(df['Event.Date'])"
   ],
   "outputs": [],
   "execution_count": null
  },
  {
   "cell_type": "code",
   "id": "82726f13-7409-4e31-886c-2b8d03361cc7",
   "metadata": {},
   "source": [
    "# Moving onto `Weather.Conditions`\n",
    "df['Weather.Condition'].unique()"
   ],
   "outputs": [],
   "execution_count": null
  },
  {
   "cell_type": "code",
   "id": "c722dba8-5028-4365-8899-dd4de3810115",
   "metadata": {},
   "source": [
    "# Filling null values with 'UNK'\n",
    "df['Weather.Condition'] = df['Weather.Condition'].fillna('UNK')"
   ],
   "outputs": [],
   "execution_count": null
  },
  {
   "cell_type": "code",
   "id": "0fb1b349-9f35-4f72-9b20-d6a0fd8117b5",
   "metadata": {},
   "source": [
    "# Function to rename column values (case-insensitive)\n",
    "def rename_value(df, col_name, old_value, new_value):\n",
    "    # Setting old value to new value\n",
    "    df.loc[df[col_name].str.lower().str.contains(old_value.lower()), col_name] = new_value\n",
    "\n",
    "rename_value(df, 'Weather.Condition', 'Unk', 'UNK')\n",
    "\n",
    "df['Weather.Condition'].unique()"
   ],
   "outputs": [],
   "execution_count": null
  },
  {
   "cell_type": "code",
   "id": "68cba7ed-82b3-4835-a660-a7544ba24478",
   "metadata": {},
   "source": [
    "# Investigating the `Broad.phase.of.flight` column\n",
    "df['Broad.phase.of.flight'].unique()"
   ],
   "outputs": [],
   "execution_count": null
  },
  {
   "cell_type": "code",
   "id": "ae68cd5d-1289-4e12-8ff1-5fbac85dbfb7",
   "metadata": {},
   "source": [
    "# Filling null values with 'Unknown'\n",
    "df['Broad.phase.of.flight'] = df['Broad.phase.of.flight'].fillna('Unknown')"
   ],
   "outputs": [],
   "execution_count": null
  },
  {
   "cell_type": "code",
   "id": "40cc9ad7-651b-4ceb-8e6d-8551ba0cc493",
   "metadata": {},
   "source": [
    "# Investigating `Purpose.of.flight` column\n",
    "df['Purpose.of.flight'].unique()"
   ],
   "outputs": [],
   "execution_count": null
  },
  {
   "cell_type": "code",
   "id": "795e414a-6390-43f6-a7e5-85e74f994266",
   "metadata": {},
   "source": [
    "# Filling null values with 'Unknown'\n",
    "df['Purpose.of.flight'] = df['Purpose.of.flight'].fillna('Unknown')"
   ],
   "outputs": [],
   "execution_count": null
  },
  {
   "cell_type": "code",
   "id": "96b621b0-6d6b-49ef-a395-023ce45198bb",
   "metadata": {},
   "source": [
    "# There are some flight types in here that likely don't apply to our business case so let's drop them\n",
    "# List of flight types to drop\n",
    "flight_types_to_drop = ['Air Drop', 'Air Race/show', 'Firefighting', 'Glider Tow', 'Air Race show', 'Flight Test']\n",
    "\n",
    "# Drop the unwanted flight types\n",
    "df = df[~df['Purpose.of.flight'].isin(flight_types_to_drop)]"
   ],
   "outputs": [],
   "execution_count": null
  },
  {
   "cell_type": "code",
   "id": "18203e05-b9e4-458a-bf5c-6793b80639e8",
   "metadata": {},
   "source": [
    "# Attempting to fill missing `Number.of.Engines` values with other `Model` matches then dropping the remaining null values.\n",
    "df = fill_nan_column_with_mode(df, 'Number.of.Engines', 'Model')\n",
    "\n",
    "df = df.dropna(subset=['Number.of.Engines'])"
   ],
   "outputs": [],
   "execution_count": null
  },
  {
   "cell_type": "code",
   "id": "4a0e2494-239a-47e8-9dda-0a16ffa683e2",
   "metadata": {},
   "source": [
    "# Attempting to fill missing `Engine.Type` values with other `Model` matches then filling null values with 'UNK'\n",
    "df = fill_nan_column_with_mode(df, 'Engine.Type', 'Model')\n",
    "\n",
    "df['Engine.Type'] = df['Engine.Type'].fillna('UNK')"
   ],
   "outputs": [],
   "execution_count": null
  },
  {
   "cell_type": "code",
   "id": "847a4769-2592-48d0-94a7-082ab17b51c5",
   "metadata": {},
   "source": [
    "# Filling null `Aircraft.Damage` values with 'Unknown`\n",
    "df['Aircraft.damage'] = df['Aircraft.damage'].fillna('Unknown')"
   ],
   "outputs": [],
   "execution_count": null
  },
  {
   "cell_type": "code",
   "id": "7b6ff946-793d-4835-8a87-89d4b518c46f",
   "metadata": {},
   "source": [
    "# I want to see how many rows have zero values for all injury and uninjured columns\n",
    "# Specify the columns to check\n",
    "columns_to_check = ['Total.Uninjured', 'Total.Minor.Injuries', 'Total.Serious.Injuries', 'Total.Fatal.Injuries']\n",
    "\n",
    "# Count rows where all specified columns are NaN\n",
    "num_rows_all_nan = df[columns_to_check].isna().all(axis=1).sum()\n",
    "\n",
    "print(f\"Number of rows with NaN in all specified columns: {num_rows_all_nan}\")"
   ],
   "outputs": [],
   "execution_count": null
  },
  {
   "cell_type": "code",
   "id": "ff599863-2474-4838-aa2e-b09da4ede78c",
   "metadata": {},
   "source": [
    "# There aren't many rows that meet these criteria, so I will drop them\n",
    "# Identify rows where all specified columns are NaN\n",
    "rows_to_drop = df[columns_to_check].isna().all(axis=1)\n",
    "\n",
    "# Drop those rows\n",
    "df = df.drop(index=df[rows_to_drop].index)\n",
    "\n",
    "# Reset index after dropping rows\n",
    "df.reset_index(drop=True, inplace=True)"
   ],
   "outputs": [],
   "execution_count": null
  },
  {
   "cell_type": "code",
   "id": "7074ed75-bfb5-42f6-a8e9-0d8270f62223",
   "metadata": {},
   "source": [
    "# Filling the missing values in the 'injury' columns with 0\n",
    "columns_to_fill = ['Total.Uninjured', 'Total.Minor.Injuries', 'Total.Serious.Injuries', 'Total.Fatal.Injuries']\n",
    "\n",
    "for col in columns_to_fill:\n",
    "    df[col] = df[col].fillna(0)"
   ],
   "outputs": [],
   "execution_count": null
  },
  {
   "cell_type": "code",
   "id": "6fa5fc54-da09-4e83-9779-9b4ec68964ae",
   "metadata": {},
   "source": [
    "# Investigating the `Country` values\n",
    "df['Country'].value_counts()"
   ],
   "outputs": [],
   "execution_count": null
  },
  {
   "cell_type": "code",
   "id": "140fc6c4-97c4-4180-92da-282f7572bb65",
   "metadata": {},
   "source": [
    "# Vast majority of incidents are in North America, so I'll drop everything else\n",
    "# List of flight types to drop\n",
    "countries_to_keep = ['Canada', 'United States', 'Mexico']\n",
    "\n",
    "# Drop the unwanted flight types\n",
    "df = df[df['Country'].isin(countries_to_keep)]"
   ],
   "outputs": [],
   "execution_count": null
  },
  {
   "cell_type": "code",
   "id": "aa0b679d-ee16-4bf9-af65-4482fd606955",
   "metadata": {},
   "source": [
    "percent_data_missing(df)"
   ],
   "outputs": [],
   "execution_count": null
  },
  {
   "cell_type": "code",
   "id": "72b239d6-8eb6-41c3-ac63-8e81f2929ff1",
   "metadata": {},
   "source": [
    "df.info()"
   ],
   "outputs": [],
   "execution_count": null
  },
  {
   "metadata": {},
   "cell_type": "markdown",
   "source": "## Feature Engineering",
   "id": "acc37b481a85f5d6"
  },
  {
   "metadata": {},
   "cell_type": "code",
   "source": [
    "# Create a total passengers column\n",
    "df['Total.Pax'] = df['Total.Uninjured'] + df['Total.Minor.Injuries'] + df ['Total.Serious.Injuries'] + df['Total.Fatal.Injuries']"
   ],
   "id": "951da45e07f021d7",
   "outputs": [],
   "execution_count": null
  },
  {
   "metadata": {},
   "cell_type": "code",
   "source": [
    "# Create a year column\n",
    "df['Event.Year'] = df['Event.Date'].dt.year"
   ],
   "id": "28c8d3d80e32a112",
   "outputs": [],
   "execution_count": null
  },
  {
   "metadata": {},
   "cell_type": "code",
   "source": [
    "# How is the data spread over time?\n",
    "yearly_data = df['Event.Year'].value_counts().sort_index()\n",
    "\n",
    "fig, ax = plt.subplots()\n",
    "\n",
    "yearly_data.plot(kind='bar', ax=ax)\n",
    "\n",
    "ax.set_title(\"Total Incidents Per Year\")\n",
    "ax.set_xlabel(\"Year\")\n",
    "ax.set_ylabel(\"Number of Incidents\")\n",
    "\n",
    "plt.show()"
   ],
   "id": "dde2bcb2232f5258",
   "outputs": [],
   "execution_count": null
  },
  {
   "metadata": {},
   "cell_type": "code",
   "source": [
    "# Virtually no data prior to 1982, we'll set our range to that.\n",
    "df = df[df['Event.Year'] >= 1982]"
   ],
   "id": "60549593f497f1f0",
   "outputs": [],
   "execution_count": null
  },
  {
   "metadata": {},
   "cell_type": "code",
   "source": [
    "# Convert all values in the 'Make' column to title case\n",
    "df['Make'] = df['Make'].str.title()"
   ],
   "id": "820b45bbf0ad1771",
   "outputs": [],
   "execution_count": null
  },
  {
   "metadata": {},
   "cell_type": "code",
   "source": [
    "# List of private and commercial aircraft manufacturers\n",
    "private_craft = ['Bombardier', 'Beechcraft', 'Cessna', 'Dassault', 'Gulfstream', 'Pilatus']\n",
    "commercial_craft = ['Boeing', 'Airbus', 'Mitsubishi']\n",
    "helicopter_craft = ['Bell', 'Robinson']\n",
    "\n",
    "def determine_market(row):\n",
    "    make = row['Make']\n",
    "    model = row['Model']\n",
    "\n",
    "    # # Check for Helicopter category\n",
    "    # if row['Aircraft.Category'] == 'Helicopter':\n",
    "    #     return 'Helicopter'\n",
    "\n",
    "    # Check for Embraer specific rules\n",
    "    if make == 'Embraer':\n",
    "        if 'ERJ' in model:\n",
    "            return 'Commercial'\n",
    "        elif 'EMB' in model:\n",
    "            return 'Private'\n",
    "\n",
    "    # Check for private and commercial crafts\n",
    "    if make in private_craft:\n",
    "        return 'Private'\n",
    "    elif make in commercial_craft:\n",
    "        return 'Commercial'\n",
    "    elif make in helicopter_craft:\n",
    "        return 'Helicopter'\n",
    "\n",
    "    return 'Other'\n",
    "\n",
    "def format_make(row):\n",
    "    make = row['Make']\n",
    "\n",
    "    for craft_list in [private_craft, commercial_craft, helicopter_craft]:\n",
    "        for formatted_make in craft_list:\n",
    "            if formatted_make.lower() in make.lower():\n",
    "                return formatted_make\n",
    "    return 'Other'\n",
    "\n",
    "# Apply the function to create the 'Market' column\n",
    "df['Market'] = df.apply(determine_market, axis=1)\n",
    "\n",
    "# Apply the function to create the 'make.formatted' column\n",
    "df['make.formatted'] = df.apply(format_make, axis=1)"
   ],
   "id": "6dd7174b2faf0154",
   "outputs": [],
   "execution_count": null
  },
  {
   "metadata": {},
   "cell_type": "code",
   "source": "df.head()",
   "id": "d2e37e6998a016f",
   "outputs": [],
   "execution_count": null
  },
  {
   "metadata": {},
   "cell_type": "code",
   "source": "df['Fatality.Rate'] = df['Total.Fatal.Injuries'] / df['Total.Pax'] * 100",
   "id": "1d9fb561b573103",
   "outputs": [],
   "execution_count": null
  },
  {
   "metadata": {},
   "cell_type": "code",
   "source": [
    "# Encode damage severity\n",
    "def damage_encode(row):\n",
    "    if row['Aircraft.damage'] == 'Minor':\n",
    "        return 1\n",
    "    elif row['Aircraft.damage'] == 'Substantial':\n",
    "        return 2\n",
    "    elif row['Aircraft.damage'] == 'Destroyed':\n",
    "        return 3\n",
    "    else:\n",
    "        return 0\n",
    "    \n",
    "    \n",
    "df['Damage.Encoded'] = df.apply(damage_encode, axis=1)"
   ],
   "id": "57331f5bc0045718",
   "outputs": [],
   "execution_count": null
  },
  {
   "metadata": {},
   "cell_type": "code",
   "source": [
    "# Consolidate various versions of models into a regular format\n",
    "df['model.formatted'] = df.apply(helper_functions.update_model, axis=1)"
   ],
   "id": "2eea5453ddae8bf1",
   "outputs": [],
   "execution_count": null
  },
  {
   "metadata": {},
   "cell_type": "markdown",
   "source": [
    "# Data Analysis\n",
    "\n",
    "[According to Assets America, the top 10 commercial aircraft manufacturers are:](https://assetsamerica.com/aircraft-manufacturers/)\n",
    "- Boeing \n",
    "- Airbus\n",
    "- Embraer\n",
    "- Bombardier\n",
    "- Comac (Russian company not operated in NA)\n",
    "- Mitsubishi\n",
    "- UAC (Russian company not operated in NA)\n",
    "- Aviastar-SP (Russian company not operated in NA)\n",
    "- Kazan Aircraft Production Association (Russian company not operated in NA)\n",
    "- GippsAero (Australian company not operated in NA)\n",
    "\n",
    "The top 10 private aircraft manufacturers are:\n",
    "- Airbus Corporate Jets\n",
    "- Boeing Business Jet\n",
    "- Bombardier Business Aircraft\n",
    "- Beechcraft\n",
    "- Cessna\n",
    "- Dassault Aviation\n",
    "- Embraer\n",
    "- Gulfstream Aerospace\n",
    "- Pilatus Business Aircraft\n",
    "- Hawker\n",
    "\n",
    "[According to General Aviation News, the top helicopter manufacturers are:](https://generalaviationnews.com/2023/03/16/top-10-best-selling-rotorcraft-in-2022/)\n",
    "- Airbus\n",
    "- Bell\n",
    "- Cabri\n",
    "- Robinson\n",
    "\n",
    "## Goal\n",
    "\n",
    "My goal is to make safety recommendations for each category (Commercial, Private, and Helicopter) by identifying the safest aircraft models based on the analysis of incident data. The key questions I aim to answer are:\n",
    "\n",
    "- Which aircraft models have the lowest occurrences of severe injuries from high-damage events?\n",
    "- How do factors such as the number of engines and the purpose of flight impact the safety of the aircraft?\n",
    "\n",
    "## Exclusions\n",
    "\n",
    "Based on the dataset availability certain manufacturers will be excluded from the analysis:\n",
    "\n",
    "- **Commercial Aircraft:** Comac, UAC, Aviastar-SP, Kazan, and GippsAero will not be uased as they do not operate in North America.\n",
    "- **Private Aircraft:** Airbus Corporate Jets and Boeing Business Jets will not be used as they are not present in the dataset.\n",
    "- **Helicopters:** Airbus and Cabri do not exist in the dataset and will not be used.\n",
    "\n",
    "By focusing on the available manufacturers and data, I can provide a more accurate and data-driven recommendation for each category."
   ],
   "id": "5858662cc3b4b07a"
  },
  {
   "metadata": {},
   "cell_type": "code",
   "source": [
    "# Now that the cleaning process is nearly done, I'll create a copy to analyze\n",
    "df_clean = df[(df['model.formatted'] != 'N/A') & (df['make.formatted'] != 'Other')]"
   ],
   "id": "2f069c094337e4f7",
   "outputs": [],
   "execution_count": null
  },
  {
   "metadata": {},
   "cell_type": "code",
   "source": "df_clean.describe()",
   "id": "52a243addcf9e562",
   "outputs": [],
   "execution_count": null
  },
  {
   "metadata": {},
   "cell_type": "code",
   "source": [
    "fig, ax = plt.subplots(figsize=(10, 8))\n",
    "\n",
    "# Calculate the correlation matrix and plot the heatmap\n",
    "sns.heatmap(df_clean.corr(numeric_only=True), annot=True, cmap='viridis', ax=ax).set_title(\"Correlation Heatmap\")\n",
    "\n",
    "# Show the plot\n",
    "plt.show()"
   ],
   "id": "a5ad13cba704061f",
   "outputs": [],
   "execution_count": null
  },
  {
   "metadata": {},
   "cell_type": "code",
   "source": [
    "# Grouping the last 10 years of commercial, private, and helicopter data\n",
    "df_private = df_clean[(df_clean['Market'] == 'Private')]\n",
    "df_commercial = df_clean[(df_clean['Market'] == 'Commercial')]\n",
    "df_helicopter = df_clean[(df_clean['Market'] == 'Helicopter')]"
   ],
   "id": "41dcd4711ac1d97",
   "outputs": [],
   "execution_count": null
  },
  {
   "metadata": {},
   "cell_type": "code",
   "source": [
    "fig, (ax1, ax2, ax3) = plt.subplots(3, 1, figsize=(10, 24))\n",
    "\n",
    "# Calculate the correlation matrices\n",
    "corr_private = df_private.corr(numeric_only=True)\n",
    "corr_commercial = df_commercial.corr(numeric_only=True)\n",
    "corr_helicopter = df_helicopter.corr(numeric_only=True)\n",
    "\n",
    "# Plot the heatmap for private aircraft\n",
    "sns.heatmap(corr_private, annot=True, cmap='viridis', ax=ax1)\n",
    "ax1.set_title(\"Private Aircraft Correlation Heatmap\")\n",
    "\n",
    "# Plot the heatmap for commercial aircraft\n",
    "sns.heatmap(corr_commercial, annot=True, cmap='viridis', ax=ax2)\n",
    "ax2.set_title(\"Commercial Aircraft Correlation Heatmap\")\n",
    "\n",
    "# Plot the heatmap for helicopter aircraft\n",
    "sns.heatmap(corr_helicopter, annot=True, cmap='viridis', ax=ax3)\n",
    "ax3.set_title(\"Helicopter Aircraft Correlation Heatmap\")\n",
    "\n",
    "# Adjust layout to prevent overlap\n",
    "fig.tight_layout()\n",
    "\n",
    "# Show the plot\n",
    "plt.show()"
   ],
   "id": "99d7d86287cf7a43",
   "outputs": [],
   "execution_count": null
  },
  {
   "metadata": {},
   "cell_type": "code",
   "source": [
    "# Calculate the counts of each 'Number.of.Engines' and their corresponding mean fatality rates\n",
    "private_engine_counts = df_private['Number.of.Engines'].value_counts().sort_index()\n",
    "private_fatality_rates = df_private.groupby('Number.of.Engines')['Fatality.Rate'].mean().loc[private_engine_counts.index]\n",
    "\n",
    "commercial_engine_counts = df_commercial['Number.of.Engines'].value_counts().sort_index()\n",
    "commercial_fatality_rates = df_commercial.groupby('Number.of.Engines')['Fatality.Rate'].mean().loc[commercial_engine_counts.index]\n",
    "\n",
    "# Convert counts and rates to a DataFrame for plotting\n",
    "private_engine_df = pd.DataFrame({\n",
    "    'Number_of_Engines': private_engine_counts.index,\n",
    "    'Counts': private_engine_counts.values,\n",
    "    'Fatality_Rate': private_fatality_rates.values\n",
    "})\n",
    "\n",
    "# Convert counts and rates to a DataFrame for plotting\n",
    "commercial_engine_df = pd.DataFrame({\n",
    "    'Number_of_Engines': commercial_engine_counts.index,\n",
    "    'Counts': commercial_engine_counts.values,\n",
    "    'Fatality_Rate': commercial_fatality_rates.values\n",
    "})\n",
    "\n",
    "fig, (ax1, ax2) = plt.subplots(1, 2, figsize=(14, 6))\n",
    "\n",
    "# Create bar plot\n",
    "sns.barplot(x='Number_of_Engines', y='Fatality_Rate', data=private_engine_df, ax=ax1)\n",
    "\n",
    "# Set plot labels and title\n",
    "ax1.set_xlabel('Number of Engines', size=12)\n",
    "ax1.set_ylabel('Mean Fatality Rate %', size=12)\n",
    "ax1.set_title('Mean Fatality Rate by Number of Engines (Private Aircraft)')\n",
    "\n",
    "# Create bar plot\n",
    "sns.barplot(x='Number_of_Engines', y='Fatality_Rate', data=commercial_engine_df, ax=ax2)\n",
    "\n",
    "# Set plot labels and title\n",
    "ax2.set_xlabel('Number of Engines', size=12)\n",
    "ax2.set_ylabel('Mean Fatality Rate %', size=12)\n",
    "ax2.set_title('Mean Fatality Rate by Number of Engines (Commercial)')\n",
    "\n",
    "ax1.set_ylim([0, 55])\n",
    "ax2.set_ylim([0, 55])\n",
    "\n",
    "# Adjust layout\n",
    "fig.tight_layout()\n",
    "\n",
    "# Display the plot\n",
    "plt.show()"
   ],
   "id": "45f40dac10780fda",
   "outputs": [],
   "execution_count": null
  },
  {
   "metadata": {},
   "cell_type": "code",
   "source": [
    "fig, (ax1, ax2, ax3) = plt.subplots(3, 1, figsize=(10, 18))\n",
    "\n",
    "# Plot for df_private\n",
    "sns.countplot(x='Aircraft.damage', data=df_private, palette='viridis', ax=ax1)\n",
    "ax1.set_title('Distribution of Incident Severity (Private Aircraft)')\n",
    "ax1.set_xlabel('Aircraft Damage')\n",
    "ax1.set_ylabel('Number of Incidents')\n",
    "\n",
    "# Plot for df_commercial\n",
    "sns.countplot(x='Aircraft.damage', data=df_commercial, palette='viridis', ax=ax2)\n",
    "ax2.set_title('Distribution of Incident Severity (Commercial Aircraft)')\n",
    "ax2.set_xlabel('Aircraft Damage')\n",
    "ax2.set_ylabel('Number of Incidents')\n",
    "\n",
    "# Plot for df_helicopter\n",
    "sns.countplot(x='Aircraft.damage', data=df_helicopter, palette='viridis', ax=ax3)\n",
    "ax3.set_title('Distribution of Incident Severity (Helicopter Aircraft)')\n",
    "ax3.set_xlabel('Aircraft Damage')\n",
    "ax3.set_ylabel('Number of Incidents')\n",
    "\n",
    "# Adjust layout to prevent overlap\n",
    "fig.tight_layout()\n",
    "\n",
    "# Display the plots\n",
    "plt.show()"
   ],
   "id": "39c29fdbc42a0175",
   "outputs": [],
   "execution_count": null
  },
  {
   "metadata": {},
   "cell_type": "code",
   "source": [
    "# Calculate the mean fatality rate by engine type for each dataframe\n",
    "private_engine_fatality = df_private.groupby('Engine.Type')['Fatality.Rate'].mean().reset_index()\n",
    "commercial_engine_fatality = df_commercial.groupby('Engine.Type')['Fatality.Rate'].mean().reset_index()\n",
    "helicopter_engine_fatality = df_helicopter.groupby('Engine.Type')['Fatality.Rate'].mean().reset_index()\n",
    "\n",
    "# Create a figure with 3 subplots arranged vertically\n",
    "fig, (ax1, ax2, ax3) = plt.subplots(3, 1, figsize=(10, 18))\n",
    "\n",
    "# Plot for df_private\n",
    "sns.barplot(x='Engine.Type', y='Fatality.Rate', data=private_engine_fatality, palette='viridis', ax=ax1)\n",
    "ax1.set_title('Mean Fatality Rate by Engine Type (Private Aircraft)')\n",
    "ax1.set_xlabel('Engine Type')\n",
    "ax1.set_ylabel('Mean Fatality Rate %')\n",
    "ax1.tick_params(axis='x', rotation=45)\n",
    "\n",
    "# Plot for df_commercial\n",
    "sns.barplot(x='Engine.Type', y='Fatality.Rate', data=commercial_engine_fatality, palette='viridis', ax=ax2)\n",
    "ax2.set_title('Mean Fatality Rate by Engine Type (Commercial Aircraft)')\n",
    "ax2.set_xlabel('Engine Type')\n",
    "ax2.set_ylabel('Mean Fatality Rate %')\n",
    "ax2.tick_params(axis='x', rotation=45)\n",
    "\n",
    "# Plot for df_helicopter\n",
    "sns.barplot(x='Engine.Type', y='Fatality.Rate', data=helicopter_engine_fatality, palette='viridis', ax=ax3)\n",
    "ax3.set_title('Mean Fatality Rate by Engine Type (Helicopter Aircraft)')\n",
    "ax3.set_xlabel('Engine Type')\n",
    "ax3.set_ylabel('Mean Fatality Rate %')\n",
    "ax3.tick_params(axis='x', rotation=45)\n",
    "\n",
    "# Adjust layout to prevent overlap\n",
    "fig.tight_layout()\n",
    "\n",
    "# Display the plots\n",
    "plt.show()"
   ],
   "id": "61866addf8d423bb",
   "outputs": [],
   "execution_count": null
  },
  {
   "metadata": {},
   "cell_type": "code",
   "source": [
    "# Create a 2x2 grid of subplots\n",
    "fig, axs = plt.subplots(2, 2, figsize=(12, 10))\n",
    "\n",
    "# Plot for df_clean\n",
    "sns.scatterplot(data=df_clean, x='Total.Pax', y='Fatality.Rate', ax=axs[0, 0])\n",
    "axs[0, 0].set_title('Clean Data')\n",
    "axs[0, 0].set_xlabel('Total Pax')\n",
    "axs[0, 0].set_ylabel('Fatality Rate')\n",
    "\n",
    "# Plot for df_private\n",
    "sns.scatterplot(data=df_private, x='Total.Pax', y='Fatality.Rate', ax=axs[0, 1])\n",
    "axs[0, 1].set_title('Private Data')\n",
    "axs[0, 1].set_xlabel('Total Pax')\n",
    "axs[0, 1].set_ylabel('Fatality Rate')\n",
    "\n",
    "# Plot for df_commercial\n",
    "sns.scatterplot(data=df_commercial, x='Total.Pax', y='Fatality.Rate', ax=axs[1, 0])\n",
    "axs[1, 0].set_title('Commercial Data')\n",
    "axs[1, 0].set_xlabel('Total Pax')\n",
    "axs[1, 0].set_ylabel('Fatality Rate')\n",
    "\n",
    "# Plot for df_helicopter\n",
    "sns.scatterplot(data=df_helicopter, x='Total.Pax', y='Fatality.Rate', ax=axs[1, 1])\n",
    "axs[1, 1].set_title('Helicopter Data')\n",
    "axs[1, 1].set_xlabel('Total Pax')\n",
    "axs[1, 1].set_ylabel('Fatality Rate')\n",
    "\n",
    "# Adjust layout\n",
    "plt.tight_layout()\n",
    "\n",
    "# Show plot\n",
    "plt.show()"
   ],
   "id": "5f0a0c08c99f7d9",
   "outputs": [],
   "execution_count": null
  },
  {
   "metadata": {},
   "cell_type": "code",
   "source": [
    "# Calculate the counts of each 'Make' and their corresponding mean fatality rates\n",
    "private_make_counts = df_private['make.formatted'].value_counts().sort_index()\n",
    "private_fatality_rates = df_private.groupby('Make')['Fatality.Rate'].mean().loc[private_make_counts.index]\n",
    "\n",
    "commercial_make_counts = df_commercial['make.formatted'].value_counts().sort_index()\n",
    "commercial_fatality_rates = df_commercial.groupby('make.formatted')['Fatality.Rate'].mean().loc[commercial_make_counts.index]\n",
    "\n",
    "# Convert counts and rates to a DataFrame for plotting\n",
    "private_make_df = pd.DataFrame({\n",
    "    'Make': private_make_counts.index,\n",
    "    'Counts': private_make_counts.values,\n",
    "    'Fatality_Rate': private_fatality_rates.values\n",
    "})\n",
    "\n",
    "commercial_make_df = pd.DataFrame({\n",
    "    'Make': commercial_make_counts.index,\n",
    "    'Counts': commercial_make_counts.values,\n",
    "    'Fatality_Rate': commercial_fatality_rates.values\n",
    "})\n",
    "\n",
    "fig, ((ax1, ax2), (ax3, ax4)) = plt.subplots(2, 2, figsize=(20, 12))\n",
    "\n",
    "# Create bar plot for mean fatality rate by aircraft make (private)\n",
    "sns.barplot(x='Make', y='Fatality_Rate', data=private_make_df, ax=ax1, palette='viridis')\n",
    "ax1.set_xlabel('Aircraft Make', size=12)\n",
    "ax1.set_ylabel('Mean Fatality Rate %', size=12)\n",
    "ax1.set_title('Mean Fatality Rate by Aircraft Make (Private Aircraft)')\n",
    "ax1.tick_params(axis='x', rotation=90)\n",
    "\n",
    "# Create bar plot for mean fatality rate by aircraft make (commercial)\n",
    "sns.barplot(x='Make', y='Fatality_Rate', data=commercial_make_df, ax=ax2, palette='viridis')\n",
    "ax2.set_xlabel('Aircraft Make', size=12)\n",
    "ax2.set_ylabel('Mean Fatality Rate %', size=12)\n",
    "ax2.set_title('Mean Fatality Rate by Aircraft Make (Commercial Aircraft)')\n",
    "ax2.tick_params(axis='x', rotation=90)\n",
    "\n",
    "# Create bar plot for count of incidents by aircraft make (private)\n",
    "sns.barplot(x='Make', y='Counts', data=private_make_df, ax=ax3, palette='viridis')\n",
    "ax3.set_xlabel('Aircraft Make', size=12)\n",
    "ax3.set_ylabel('Count of Incidents', size=12)\n",
    "ax3.set_title('Count of Incidents by Aircraft Make (Private Aircraft)')\n",
    "ax3.tick_params(axis='x', rotation=90)\n",
    "\n",
    "# Create bar plot for count of incidents by aircraft make (commercial)\n",
    "sns.barplot(x='Make', y='Counts', data=commercial_make_df, ax=ax4, palette='viridis')\n",
    "ax4.set_xlabel('Aircraft Make', size=12)\n",
    "ax4.set_ylabel('Count of Incidents', size=12)\n",
    "ax4.set_title('Count of Incidents by Aircraft Make (Commercial Aircraft)')\n",
    "ax4.tick_params(axis='x', rotation=90)\n",
    "\n",
    "# Adjust layout\n",
    "fig.tight_layout()\n",
    "\n",
    "# Display the plot\n",
    "plt.show()\n"
   ],
   "id": "2e88aab36fd98669",
   "outputs": [],
   "execution_count": null
  },
  {
   "metadata": {},
   "cell_type": "code",
   "source": [
    "# Plot the distribution of incident severity\n",
    "plt.figure(figsize=(10, 6))\n",
    "sns.countplot(x='Aircraft.damage', data=df_commercial, palette='viridis')\n",
    "plt.title('Distribution of Incident Severity')\n",
    "plt.xlabel('Aircraft Damage')\n",
    "plt.ylabel('Number of Incidents')\n",
    "plt.show()"
   ],
   "id": "1af0a52efda2c6b0",
   "outputs": [],
   "execution_count": null
  },
  {
   "metadata": {},
   "cell_type": "code",
   "source": [
    "# Look at private makes with and without Cessna included\n",
    "\n",
    "df_private_sans_cessna = df_private[df_private['Make'] != 'Cessna']\n",
    "\n",
    "fig, (ax1, ax2) = plt.subplots(1,2, figsize=(18, 10))\n",
    "sns.countplot(y='Make', data=df_private_sans_cessna, order=df_private_sans_cessna['Make'].value_counts().index, palette='viridis', ax=ax1)\n",
    "ax1.set_title('Frequency Distribution of Private Aircraft Makes (Cessna Excluded)')\n",
    "ax1.set_xlabel('Count')\n",
    "ax1.set_ylabel('Aircraft Make')\n",
    "\n",
    "sns.countplot(y='Make', data = df_private, order=df_private['Make'].value_counts().index, palette='viridis', ax=ax2)\n",
    "ax2.set_title('Frequency Distribution of Private Aircraft Makes (Cessna Included)')\n",
    "ax2.set_xlabel('Count')\n",
    "ax2.set_ylabel('Aircraft Make')\n",
    "\n",
    "fig.tight_layout()\n",
    "\n",
    "plt.show()\n"
   ],
   "id": "28e452aa36ea7638",
   "outputs": [],
   "execution_count": null
  },
  {
   "metadata": {},
   "cell_type": "code",
   "source": [
    "# Filter the DataFrame for rows where 'Make' is 'Cessna'\n",
    "cessna_df = df_private[df_private['Make'] == 'Cessna']\n",
    "\n",
    "# Calculate the mean fatality rate for each formatted model\n",
    "cessna_fatality_rates = cessna_df.groupby('model.formatted')['Fatality.Rate'].mean().sort_index()\n",
    "\n",
    "# Calculate the count of incidents for each formatted model\n",
    "cessna_incident_counts = cessna_df['model.formatted'].value_counts().sort_index()\n",
    "\n",
    "# Convert to DataFrames for plotting\n",
    "cessna_fatality_df = cessna_fatality_rates.reset_index()\n",
    "cessna_incident_df = cessna_incident_counts.reset_index()\n",
    "cessna_incident_df.columns = ['model.formatted', 'Counts']\n",
    "\n",
    "fig, (ax1, ax2) = plt.subplots(1, 2, figsize=(20, 8))\n",
    "\n",
    "# Plot mean fatality rate by formatted model for Cessna\n",
    "sns.barplot(x='model.formatted', y='Fatality.Rate', data=cessna_fatality_df, ax=ax1, palette='viridis')\n",
    "ax1.set_xlabel('Formatted Model', size=12)\n",
    "ax1.set_ylabel('Mean Fatality Rate %', size=12)\n",
    "ax1.set_title('Mean Fatality Rate by Formatted Model (Cessna Aircraft)')\n",
    "ax1.tick_params(axis='x', rotation=90)\n",
    "\n",
    "# Plot count of incidents by formatted model for Cessna\n",
    "sns.barplot(x='model.formatted', y='Counts', data=cessna_incident_df, ax=ax2, palette='viridis')\n",
    "ax2.set_xlabel('Formatted Model', size=12)\n",
    "ax2.set_ylabel('Count of Incidents', size=12)\n",
    "ax2.set_title('Count of Incidents by Formatted Model (Cessna Aircraft)')\n",
    "ax2.tick_params(axis='x', rotation=90)\n",
    "\n",
    "# Adjust layout\n",
    "fig.tight_layout()\n",
    "\n",
    "# Display the plot\n",
    "plt.show()\n"
   ],
   "id": "391248ca41c6b9d2",
   "outputs": [],
   "execution_count": null
  },
  {
   "metadata": {},
   "cell_type": "code",
   "source": [
    "# Filter the DataFrame for rows where 'Make' is not 'Cessna'\n",
    "non_cessna_df = df_private[df_private['Make'] != 'Cessna']\n",
    "\n",
    "# Calculate the mean fatality rate for each formatted model\n",
    "non_cessna_fatality_rates = non_cessna_df.groupby('model.formatted')['Fatality.Rate'].mean().sort_index()\n",
    "\n",
    "# Calculate the count of incidents for each formatted model\n",
    "non_cessna_incident_counts = non_cessna_df['model.formatted'].value_counts().sort_index()\n",
    "\n",
    "# Convert to DataFrames for plotting\n",
    "non_cessna_fatality_df = non_cessna_fatality_rates.reset_index()\n",
    "non_cessna_incident_df = non_cessna_incident_counts.reset_index()\n",
    "non_cessna_incident_df.columns = ['model.formatted', 'Counts']\n",
    "\n",
    "fig, (ax1, ax2) = plt.subplots(1, 2, figsize=(20, 8))\n",
    "\n",
    "# Plot mean fatality rate by formatted model for Cessna\n",
    "sns.barplot(x='model.formatted', y='Fatality.Rate', data=non_cessna_fatality_df, ax=ax1, palette='viridis')\n",
    "ax1.set_xlabel('Formatted Model', size=12)\n",
    "ax1.set_ylabel('Mean Fatality Rate %', size=12)\n",
    "ax1.set_title('Mean Fatality Rate by Formatted Model (Non-Cessna Aircraft)')\n",
    "ax1.tick_params(axis='x', rotation=90)\n",
    "\n",
    "# Plot count of incidents by formatted model for Cessna\n",
    "sns.barplot(x='model.formatted', y='Counts', data=non_cessna_incident_df, ax=ax2, palette='viridis')\n",
    "ax2.set_xlabel('Formatted Model', size=12)\n",
    "ax2.set_ylabel('Count of Incidents', size=12)\n",
    "ax2.set_title('Count of Incidents by Formatted Model (Non-Cessna Aircraft)')\n",
    "ax2.tick_params(axis='x', rotation=90)\n",
    "\n",
    "# Adjust layout\n",
    "fig.tight_layout()\n",
    "\n",
    "# Display the plot\n",
    "plt.show()"
   ],
   "id": "d4523e6a8064367d",
   "outputs": [],
   "execution_count": null
  },
  {
   "metadata": {},
   "cell_type": "code",
   "source": [
    "# Calculate the mean fatality rate for each formatted model\n",
    "commercial_fatality_rates = df_commercial.groupby('model.formatted')['Fatality.Rate'].mean().sort_index()\n",
    "\n",
    "# Calculate the count of incidents for each formatted model\n",
    "commercial_incident_counts = df_commercial['model.formatted'].value_counts().sort_index()\n",
    "\n",
    "# Convert to DataFrames for plotting\n",
    "commercial_fatality_df = commercial_fatality_rates.reset_index()\n",
    "commercial_incident_df = commercial_incident_counts.reset_index()\n",
    "commercial_incident_df.columns = ['model.formatted', 'Counts']\n",
    "\n",
    "fig, (ax1, ax2) = plt.subplots(1, 2, figsize=(20, 8))\n",
    "\n",
    "# Plot mean fatality rate by formatted model for Cessna\n",
    "sns.barplot(x='model.formatted', y='Fatality.Rate', data=commercial_fatality_df, ax=ax1, palette='viridis')\n",
    "ax1.set_xlabel('Formatted Model', size=12)\n",
    "ax1.set_ylabel('Mean Fatality Rate %', size=12)\n",
    "ax1.set_title('Mean Fatality Rate by Formatted Model (Commercial Aircraft)')\n",
    "ax1.tick_params(axis='x', rotation=90)\n",
    "\n",
    "# Plot count of incidents by formatted model for Cessna\n",
    "sns.barplot(x='model.formatted', y='Counts', data=commercial_incident_df, ax=ax2, palette='viridis')\n",
    "ax2.set_xlabel('Formatted Model', size=12)\n",
    "ax2.set_ylabel('Count of Incidents', size=12)\n",
    "ax2.set_title('Count of Incidents by Formatted Model (Commercial Aircraft)')\n",
    "ax2.tick_params(axis='x', rotation=90)\n",
    "\n",
    "# Adjust layout\n",
    "fig.tight_layout()\n",
    "\n",
    "# Display the plot\n",
    "plt.show()"
   ],
   "id": "95a0273d6132df6c",
   "outputs": [],
   "execution_count": null
  },
  {
   "metadata": {},
   "cell_type": "code",
   "source": [
    "# Calculate the mean fatality rate for each formatted model\n",
    "helicopter_fatality_rates = df_helicopter.groupby('model.formatted')['Fatality.Rate'].mean().sort_index()\n",
    "\n",
    "# Calculate the count of incidents for each formatted model\n",
    "helicopter_incident_counts = df_helicopter['model.formatted'].value_counts().sort_index()\n",
    "\n",
    "# Convert to DataFrames for plotting\n",
    "helicopter_fatality_df = helicopter_fatality_rates.reset_index()\n",
    "helicopter_incident_df = helicopter_incident_counts.reset_index()\n",
    "helicopter_incident_df.columns = ['model.formatted', 'Counts']\n",
    "\n",
    "fig, (ax1, ax2) = plt.subplots(1, 2, figsize=(20, 8))\n",
    "\n",
    "# Plot mean fatality rate by formatted model for Cessna\n",
    "sns.barplot(x='model.formatted', y='Fatality.Rate', data=helicopter_fatality_df, ax=ax1, palette='viridis')\n",
    "ax1.set_xlabel('Formatted Model', size=12)\n",
    "ax1.set_ylabel('Mean Fatality Rate %', size=12)\n",
    "ax1.set_title('Mean Fatality Rate by Formatted Model (Helicopters)')\n",
    "ax1.tick_params(axis='x', rotation=90)\n",
    "\n",
    "# Plot count of incidents by formatted model for Cessna\n",
    "sns.barplot(x='model.formatted', y='Counts', data=helicopter_incident_df, ax=ax2, palette='viridis')\n",
    "ax2.set_xlabel('Formatted Model', size=12)\n",
    "ax2.set_ylabel('Count of Incidents', size=12)\n",
    "ax2.set_title('Count of Incidents by Formatted Model (Helicopter)')\n",
    "ax2.tick_params(axis='x', rotation=90)\n",
    "\n",
    "# Adjust layout\n",
    "fig.tight_layout()\n",
    "\n",
    "# Display the plot\n",
    "plt.show()"
   ],
   "id": "b67ac82876248f8e",
   "outputs": [],
   "execution_count": null
  },
  {
   "metadata": {},
   "cell_type": "markdown",
   "source": [
    "# Conclusion Notes\n",
    "\n",
    "- The number of fatalities ranges from 0 to 228 with an average of 0.33 fatalities per incident.\n",
    "- The percentage of fatalities amongst total passengers per incident is 13.76% on average.\n",
    "- There is a moderately positive correlation between both `Total.Uninjured` and `Total.Pax` with `Number.of.Engines`:\n",
    "    - This is likely related to larger aircraft. The bigger the aircraft, the more people it can carry, and the more engines it needs to do so.\n",
    "    - Interestingly, in private aircraft, fewer engines correlate to a higher survival rate, whereas the opposite is true for commercial aircraft.\n",
    "- There is a weakly negative correlation between `Damage.Encoded` and `Total.Uninjured`:\n",
    "    - This makes sense, as lower damage results in more uninjured passengers.\n",
    "- Private aircraft and helicopters have a more frequent instance of 'substantial' damage, whereas commercial aircraft have the highest instance of 'unknown' damage.\n",
    "- Turboprop engine types have the highest fatality rates in both private and commercial aircraft. Turboshaft engines account for the highest fatality rate in helicopters.\n",
    "- Cessna has one of the lower fatality rates for private aircraft but has the highest incident rate (Cessna is the most popular manufacturer in the world by units produced).\n",
    "- **Cessna**:\n",
    "    - The Skyhawk, C-150, Skylane, Skywagon, and Centurion all have over 1000 data points each, with the Skyhawk exceeding 6500 data points, all maintaining a < 20% fatality rate (except for the Centurion model with a 21% mean fatality rate).\n",
    "    - Specific fatality rates for notable models:\n",
    "        - Skyhawk: 11.65% fatality rate over 6503 incidents.\n",
    "        - C-150: 11.72% fatality rate over 3162 incidents.\n",
    "        - Skylane: 17.15% fatality rate over 2858 incidents.\n",
    "        - Skywagon: 7.49% fatality rate over 1912 incidents.\n",
    "        - Centurion: 21.00% fatality rate over 1703 incidents.\n",
    "- **Non-Cessna Private Craft**:\n",
    "    - The remaining private aircraft have far fewer incidents/data points, making it more difficult to provide good recommendations. However:\n",
    "        - The Bombardier Challenger 600 (CL-600) has 40 incidents in the dataset with a mean fatality rate of 0%.\n",
    "        - The Embraer EMB-145 has fewer incidents but a mean fatality rate of 0%.\n",
    "        - The Pilatus PC-12 has 24 incidents in the dataset with a mean fatality rate of 32.29%.\n",
    "- **Commercial**:\n",
    "    - The Boeing 737 has the largest amount of data points with a mean fatality rate of 0.71%.\n",
    "    - All other Boeing models have a mean fatality rate below 2%, except for the 707 and 767:\n",
    "        - 707: 11.40% fatality rate over 18 incidents.\n",
    "        - 767: 5.00% fatality rate over 66 incidents.\n",
    "    - All Airbus models and Embraer commercial craft have a mean fatality rate of 0%.\n",
    "    - Mitsubishi models show high fatality rates:\n",
    "        - MU-2F: 12.12% fatality rate over 11 incidents.\n",
    "        - Marquise: 59.22% fatality rate over 31 incidents.\n",
    "        - Solitaire: 33.33% fatality rate over 3 incidents.\n",
    "        - Other models such as MU-2G, MU-2J, MU-2K, MU-2L, and MU-2M have varying fatality rates from 32.14% to 62.50%.\n",
    "- **Helicopter**:\n",
    "    - The Bell 206, Robinson R-22, and Robinson R-44 all have over 100 incidents in the dataset and all maintain a < 20% mean fatality rate:\n",
    "        - Bell 206: 15.32% fatality rate over 1028 incidents.\n",
    "        - Robinson R-22: 10.79% fatality rate over 626 incidents.\n",
    "        - Robinson R-44: 23.54% fatality rate over 200 incidents.\n",
    "\n",
    "# Limitations\n",
    "\n",
    "- The dataset only contains information about flights that have gone wrong and does not include information about general safety, flight hours, maintenance, and successful flights. This presents an incomplete picture when attempting to determine overall aircraft safety.\n",
    "\n",
    "# Recommendations\n",
    "\n",
    "Based on the analysis, here are some recommendations for safer aircraft choices:\n",
    "\n",
    "### Private Aircraft\n",
    "\n",
    "- Single-engine aircraft tend to have the lowest average fatality rates.\n",
    "- Exercise caution with turboprop engines, which have the highest fatality rates. Turbofan and reciprocating engines have nearly tied for the lowest fatality rates.\n",
    "- Generally, more passengers equate to lower fatality rates.\n",
    "\n",
    "### Commercial Aircraft\n",
    "\n",
    "- Dual-engine aircraft have the highest fatality rates but still lower than all private aircraft engine counts.\n",
    "- Turboprop engines have the highest fatality rates by a significant margin, while turbofan and turbojet engines have the lowest fatality rates.\n",
    "- Higher passenger counts generally correlate with lower fatality rates.\n",
    "\n",
    "### Helicopters\n",
    "\n",
    "- Turboshaft engine types have the highest fatality rates, and reciprocating engines have the lowest, though both have relatively low rates.\n",
    "- There is no apparent correlation between passenger count and fatality rate, which makes sense since helicopters aren't typically capable of carrying large numbers of people.\n",
    "\n",
    "# Additional Considerations\n",
    "\n",
    "- The recommendations can become more accurate and helpful upon further review from the relevant stakeholders within the business. Important factors to consider include:\n",
    "    - Are we focusing on passenger aircraft, cargo aircraft, or both?\n",
    "    - Are we interested in larger long-haul flights or shorter hops?\n",
    "    - Are helicopters of interest?\n",
    "    - Are we looking for business jets to carry C-suite executives to meetings?\n",
    "    - Do we need smaller short-runway capable aircraft to carry medications or other supplies to remote locations?\n"
   ],
   "id": "bcd4be83d61d075b"
  },
  {
   "metadata": {},
   "cell_type": "code",
   "source": "df_clean.to_excel('data/cleaned_data.xlsx', index=False)",
   "id": "81007d92830eef19",
   "outputs": [],
   "execution_count": null
  },
  {
   "metadata": {},
   "cell_type": "code",
   "source": "",
   "id": "f0d2c4e53221404",
   "outputs": [],
   "execution_count": null
  }
 ],
 "metadata": {
  "kernelspec": {
   "display_name": "Python 3 (ipykernel)",
   "language": "python",
   "name": "python3"
  },
  "language_info": {
   "codemirror_mode": {
    "name": "ipython",
    "version": 3
   },
   "file_extension": ".py",
   "mimetype": "text/x-python",
   "name": "python",
   "nbconvert_exporter": "python",
   "pygments_lexer": "ipython3",
   "version": "3.9.19"
  }
 },
 "nbformat": 4,
 "nbformat_minor": 5
}
